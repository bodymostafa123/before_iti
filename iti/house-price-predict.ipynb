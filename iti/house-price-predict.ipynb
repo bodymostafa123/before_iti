{
 "cells": [
  {
   "cell_type": "code",
   "execution_count": 1,
   "metadata": {
    "_cell_guid": "b1076dfc-b9ad-4769-8c92-a6c4dae69d19",
    "_uuid": "8f2839f25d086af736a60e9eeb907d3b93b6e0e5",
    "execution": {
     "iopub.execute_input": "2021-01-05T18:08:43.890870Z",
     "iopub.status.busy": "2021-01-05T18:08:43.889983Z",
     "iopub.status.idle": "2021-01-05T18:08:43.909064Z",
     "shell.execute_reply": "2021-01-05T18:08:43.910164Z"
    },
    "papermill": {
     "duration": 0.141054,
     "end_time": "2021-01-05T18:08:43.910406",
     "exception": false,
     "start_time": "2021-01-05T18:08:43.769352",
     "status": "completed"
    },
    "tags": []
   },
   "outputs": [],
   "source": [
    "import numpy as np \n",
    "import pandas as pd"
   ]
  },
  {
   "cell_type": "markdown",
   "metadata": {
    "papermill": {
     "duration": 0.112861,
     "end_time": "2021-01-05T18:08:44.142287",
     "exception": false,
     "start_time": "2021-01-05T18:08:44.029426",
     "status": "completed"
    },
    "tags": []
   },
   "source": [
    "### About the data:\n",
    "\n",
    "The real estate markets, like those in Sydney and Melbourne, present an interesting opportunity for data analysts to analyze and predict where property prices are moving towards. Prediction of property prices is becoming increasingly important and beneficial. Property prices are a good indicator of both the overall market condition and the economic health of a country.\n",
    "\n",
    "#### Columns:\n",
    "\n",
    "- Date: Date when the house is ready for sale. \n",
    "- Price: Price of the house to be sold.\n",
    "- Bedrooms: No. of bedrooms in the house.\n",
    "- Bathrooms: No. of bathrooms in the house.\n",
    "- Sqft_living: Squarefoot of Living in the house.\n",
    "- Sqft_lot: Squarefoot of Floor in the house. \n",
    "- Floors: Floors on which living area located. \n",
    "- Waterfront: If waterfront available in front of house.\n",
    "- View: Vie from the house.\n",
    "- Condition: Condition of the house.\n",
    "- Sqft_above: Squarefoot above is the space available at roof. \n",
    "- Sqft_basement: Squarefoot basement is the space available at the basement.\n",
    "- Yr_built: In which year the house is built.\n",
    "- Yr_renovated: Year of renovation.\n",
    "- Street: On which street house is located.\n",
    "- City: City in which the country is located.\n",
    "- Statezip: Zip code of the area in which house is located.\n",
    "- Country: Country is US."
   ]
  },
  {
   "cell_type": "markdown",
   "metadata": {
    "papermill": {
     "duration": 0.113426,
     "end_time": "2021-01-05T18:08:44.369441",
     "exception": false,
     "start_time": "2021-01-05T18:08:44.256015",
     "status": "completed"
    },
    "tags": []
   },
   "source": [
    "**Task**: `Here the task is to predict the price of house(dependent variable) located in the\n",
    "cities of US, with the help of other essential features (independent variable) available in\n",
    "our dataset.`"
   ]
  },
  {
   "cell_type": "markdown",
   "metadata": {
    "papermill": {
     "duration": 0.112187,
     "end_time": "2021-01-05T18:08:44.594427",
     "exception": false,
     "start_time": "2021-01-05T18:08:44.482240",
     "status": "completed"
    },
    "tags": []
   },
   "source": [
    "### Regression\n",
    "\n",
    "`Regression analysis consists of a set of machine learning methods that allow us to predict\n",
    "a continuous outcome variable (Y) based on the value of one or multiple predictor variables \n",
    "(X).`"
   ]
  },
  {
   "cell_type": "code",
   "execution_count": 2,
   "metadata": {
    "execution": {
     "iopub.execute_input": "2021-01-05T18:08:44.832300Z",
     "iopub.status.busy": "2021-01-05T18:08:44.831462Z",
     "iopub.status.idle": "2021-01-05T18:08:46.024123Z",
     "shell.execute_reply": "2021-01-05T18:08:46.023406Z"
    },
    "papermill": {
     "duration": 1.313616,
     "end_time": "2021-01-05T18:08:46.024291",
     "exception": false,
     "start_time": "2021-01-05T18:08:44.710675",
     "status": "completed"
    },
    "tags": []
   },
   "outputs": [],
   "source": [
    "#importing basic libraries\n",
    "\n",
    "import pandas as pd\n",
    "import numpy as np\n",
    "import matplotlib.pyplot as plt\n",
    "import seaborn as sns\n",
    "%matplotlib inline"
   ]
  },
  {
   "cell_type": "markdown",
   "metadata": {
    "papermill": {
     "duration": 0.11327,
     "end_time": "2021-01-05T18:08:46.255895",
     "exception": false,
     "start_time": "2021-01-05T18:08:46.142625",
     "status": "completed"
    },
    "tags": []
   },
   "source": [
    "**%matplotlib inline** : This is known as magic inline function.\n",
    "When using the 'inline' backend, our matplotlib graphs will be included in our notebook, \n",
    "next to the code. "
   ]
  },
  {
   "cell_type": "markdown",
   "metadata": {
    "papermill": {
     "duration": 0.113282,
     "end_time": "2021-01-05T18:08:46.484439",
     "exception": false,
     "start_time": "2021-01-05T18:08:46.371157",
     "status": "completed"
    },
    "tags": []
   },
   "source": [
    "Let's dive into our dataset."
   ]
  },
  {
   "cell_type": "code",
   "execution_count": 3,
   "metadata": {
    "execution": {
     "iopub.execute_input": "2021-01-05T18:08:46.723432Z",
     "iopub.status.busy": "2021-01-05T18:08:46.721917Z",
     "iopub.status.idle": "2021-01-05T18:08:46.764773Z",
     "shell.execute_reply": "2021-01-05T18:08:46.763895Z"
    },
    "papermill": {
     "duration": 0.165276,
     "end_time": "2021-01-05T18:08:46.764903",
     "exception": false,
     "start_time": "2021-01-05T18:08:46.599627",
     "status": "completed"
    },
    "tags": []
   },
   "outputs": [],
   "source": [
    "data = pd.read_csv('data.csv')"
   ]
  },
  {
   "cell_type": "code",
   "execution_count": 4,
   "metadata": {
    "execution": {
     "iopub.execute_input": "2021-01-05T18:08:47.023473Z",
     "iopub.status.busy": "2021-01-05T18:08:47.022422Z",
     "iopub.status.idle": "2021-01-05T18:08:47.073885Z",
     "shell.execute_reply": "2021-01-05T18:08:47.072950Z"
    },
    "papermill": {
     "duration": 0.193232,
     "end_time": "2021-01-05T18:08:47.074058",
     "exception": false,
     "start_time": "2021-01-05T18:08:46.880826",
     "status": "completed"
    },
    "tags": []
   },
   "outputs": [
    {
     "data": {
      "text/html": [
       "<div>\n",
       "<style scoped>\n",
       "    .dataframe tbody tr th:only-of-type {\n",
       "        vertical-align: middle;\n",
       "    }\n",
       "\n",
       "    .dataframe tbody tr th {\n",
       "        vertical-align: top;\n",
       "    }\n",
       "\n",
       "    .dataframe thead th {\n",
       "        text-align: right;\n",
       "    }\n",
       "</style>\n",
       "<table border=\"1\" class=\"dataframe\">\n",
       "  <thead>\n",
       "    <tr style=\"text-align: right;\">\n",
       "      <th></th>\n",
       "      <th>date</th>\n",
       "      <th>price</th>\n",
       "      <th>bedrooms</th>\n",
       "      <th>bathrooms</th>\n",
       "      <th>sqft_living</th>\n",
       "      <th>sqft_lot</th>\n",
       "      <th>floors</th>\n",
       "      <th>waterfront</th>\n",
       "      <th>view</th>\n",
       "      <th>condition</th>\n",
       "      <th>sqft_above</th>\n",
       "      <th>sqft_basement</th>\n",
       "      <th>yr_built</th>\n",
       "      <th>yr_renovated</th>\n",
       "      <th>street</th>\n",
       "      <th>city</th>\n",
       "      <th>statezip</th>\n",
       "      <th>country</th>\n",
       "    </tr>\n",
       "  </thead>\n",
       "  <tbody>\n",
       "    <tr>\n",
       "      <th>0</th>\n",
       "      <td>2014-05-02 00:00:00</td>\n",
       "      <td>313000.0</td>\n",
       "      <td>3.0</td>\n",
       "      <td>1.50</td>\n",
       "      <td>1340</td>\n",
       "      <td>7912</td>\n",
       "      <td>1.5</td>\n",
       "      <td>0</td>\n",
       "      <td>0</td>\n",
       "      <td>3</td>\n",
       "      <td>1340</td>\n",
       "      <td>0</td>\n",
       "      <td>1955</td>\n",
       "      <td>2005</td>\n",
       "      <td>18810 Densmore Ave N</td>\n",
       "      <td>Shoreline</td>\n",
       "      <td>WA 98133</td>\n",
       "      <td>USA</td>\n",
       "    </tr>\n",
       "    <tr>\n",
       "      <th>1</th>\n",
       "      <td>2014-05-02 00:00:00</td>\n",
       "      <td>2384000.0</td>\n",
       "      <td>5.0</td>\n",
       "      <td>2.50</td>\n",
       "      <td>3650</td>\n",
       "      <td>9050</td>\n",
       "      <td>2.0</td>\n",
       "      <td>0</td>\n",
       "      <td>4</td>\n",
       "      <td>5</td>\n",
       "      <td>3370</td>\n",
       "      <td>280</td>\n",
       "      <td>1921</td>\n",
       "      <td>0</td>\n",
       "      <td>709 W Blaine St</td>\n",
       "      <td>Seattle</td>\n",
       "      <td>WA 98119</td>\n",
       "      <td>USA</td>\n",
       "    </tr>\n",
       "    <tr>\n",
       "      <th>2</th>\n",
       "      <td>2014-05-02 00:00:00</td>\n",
       "      <td>342000.0</td>\n",
       "      <td>3.0</td>\n",
       "      <td>2.00</td>\n",
       "      <td>1930</td>\n",
       "      <td>11947</td>\n",
       "      <td>1.0</td>\n",
       "      <td>0</td>\n",
       "      <td>0</td>\n",
       "      <td>4</td>\n",
       "      <td>1930</td>\n",
       "      <td>0</td>\n",
       "      <td>1966</td>\n",
       "      <td>0</td>\n",
       "      <td>26206-26214 143rd Ave SE</td>\n",
       "      <td>Kent</td>\n",
       "      <td>WA 98042</td>\n",
       "      <td>USA</td>\n",
       "    </tr>\n",
       "    <tr>\n",
       "      <th>3</th>\n",
       "      <td>2014-05-02 00:00:00</td>\n",
       "      <td>420000.0</td>\n",
       "      <td>3.0</td>\n",
       "      <td>2.25</td>\n",
       "      <td>2000</td>\n",
       "      <td>8030</td>\n",
       "      <td>1.0</td>\n",
       "      <td>0</td>\n",
       "      <td>0</td>\n",
       "      <td>4</td>\n",
       "      <td>1000</td>\n",
       "      <td>1000</td>\n",
       "      <td>1963</td>\n",
       "      <td>0</td>\n",
       "      <td>857 170th Pl NE</td>\n",
       "      <td>Bellevue</td>\n",
       "      <td>WA 98008</td>\n",
       "      <td>USA</td>\n",
       "    </tr>\n",
       "    <tr>\n",
       "      <th>4</th>\n",
       "      <td>2014-05-02 00:00:00</td>\n",
       "      <td>550000.0</td>\n",
       "      <td>4.0</td>\n",
       "      <td>2.50</td>\n",
       "      <td>1940</td>\n",
       "      <td>10500</td>\n",
       "      <td>1.0</td>\n",
       "      <td>0</td>\n",
       "      <td>0</td>\n",
       "      <td>4</td>\n",
       "      <td>1140</td>\n",
       "      <td>800</td>\n",
       "      <td>1976</td>\n",
       "      <td>1992</td>\n",
       "      <td>9105 170th Ave NE</td>\n",
       "      <td>Redmond</td>\n",
       "      <td>WA 98052</td>\n",
       "      <td>USA</td>\n",
       "    </tr>\n",
       "  </tbody>\n",
       "</table>\n",
       "</div>"
      ],
      "text/plain": [
       "                  date      price  bedrooms  bathrooms  sqft_living  sqft_lot  \\\n",
       "0  2014-05-02 00:00:00   313000.0       3.0       1.50         1340      7912   \n",
       "1  2014-05-02 00:00:00  2384000.0       5.0       2.50         3650      9050   \n",
       "2  2014-05-02 00:00:00   342000.0       3.0       2.00         1930     11947   \n",
       "3  2014-05-02 00:00:00   420000.0       3.0       2.25         2000      8030   \n",
       "4  2014-05-02 00:00:00   550000.0       4.0       2.50         1940     10500   \n",
       "\n",
       "   floors  waterfront  view  condition  sqft_above  sqft_basement  yr_built  \\\n",
       "0     1.5           0     0          3        1340              0      1955   \n",
       "1     2.0           0     4          5        3370            280      1921   \n",
       "2     1.0           0     0          4        1930              0      1966   \n",
       "3     1.0           0     0          4        1000           1000      1963   \n",
       "4     1.0           0     0          4        1140            800      1976   \n",
       "\n",
       "   yr_renovated                    street       city  statezip country  \n",
       "0          2005      18810 Densmore Ave N  Shoreline  WA 98133     USA  \n",
       "1             0           709 W Blaine St    Seattle  WA 98119     USA  \n",
       "2             0  26206-26214 143rd Ave SE       Kent  WA 98042     USA  \n",
       "3             0           857 170th Pl NE   Bellevue  WA 98008     USA  \n",
       "4          1992         9105 170th Ave NE    Redmond  WA 98052     USA  "
      ]
     },
     "execution_count": 4,
     "metadata": {},
     "output_type": "execute_result"
    }
   ],
   "source": [
    "df = data.copy()\n",
    "df.head()"
   ]
  },
  {
   "cell_type": "markdown",
   "metadata": {
    "papermill": {
     "duration": 0.116447,
     "end_time": "2021-01-05T18:08:47.317007",
     "exception": false,
     "start_time": "2021-01-05T18:08:47.200560",
     "status": "completed"
    },
    "tags": []
   },
   "source": [
    "`Now firstly let's get a description about our dataset.`"
   ]
  },
  {
   "cell_type": "code",
   "execution_count": 5,
   "metadata": {
    "execution": {
     "iopub.execute_input": "2021-01-05T18:08:47.553337Z",
     "iopub.status.busy": "2021-01-05T18:08:47.552477Z",
     "iopub.status.idle": "2021-01-05T18:08:47.559954Z",
     "shell.execute_reply": "2021-01-05T18:08:47.559303Z"
    },
    "papermill": {
     "duration": 0.126698,
     "end_time": "2021-01-05T18:08:47.560074",
     "exception": false,
     "start_time": "2021-01-05T18:08:47.433376",
     "status": "completed"
    },
    "tags": []
   },
   "outputs": [
    {
     "data": {
      "text/plain": [
       "(4600, 18)"
      ]
     },
     "execution_count": 5,
     "metadata": {},
     "output_type": "execute_result"
    }
   ],
   "source": [
    "df.shape"
   ]
  },
  {
   "cell_type": "code",
   "execution_count": 6,
   "metadata": {
    "execution": {
     "iopub.execute_input": "2021-01-05T18:08:47.801522Z",
     "iopub.status.busy": "2021-01-05T18:08:47.800860Z",
     "iopub.status.idle": "2021-01-05T18:08:47.805734Z",
     "shell.execute_reply": "2021-01-05T18:08:47.805064Z"
    },
    "papermill": {
     "duration": 0.129187,
     "end_time": "2021-01-05T18:08:47.805844",
     "exception": false,
     "start_time": "2021-01-05T18:08:47.676657",
     "status": "completed"
    },
    "tags": []
   },
   "outputs": [
    {
     "data": {
      "text/plain": [
       "date              object\n",
       "price            float64\n",
       "bedrooms         float64\n",
       "bathrooms        float64\n",
       "sqft_living        int64\n",
       "sqft_lot           int64\n",
       "floors           float64\n",
       "waterfront         int64\n",
       "view               int64\n",
       "condition          int64\n",
       "sqft_above         int64\n",
       "sqft_basement      int64\n",
       "yr_built           int64\n",
       "yr_renovated       int64\n",
       "street            object\n",
       "city              object\n",
       "statezip          object\n",
       "country           object\n",
       "dtype: object"
      ]
     },
     "execution_count": 6,
     "metadata": {},
     "output_type": "execute_result"
    }
   ],
   "source": [
    "df.dtypes"
   ]
  },
  {
   "cell_type": "code",
   "execution_count": 7,
   "metadata": {
    "execution": {
     "iopub.execute_input": "2021-01-05T18:08:47.978624Z",
     "iopub.status.busy": "2021-01-05T18:08:47.977935Z",
     "iopub.status.idle": "2021-01-05T18:08:47.992940Z",
     "shell.execute_reply": "2021-01-05T18:08:47.993587Z"
    },
    "papermill": {
     "duration": 0.108816,
     "end_time": "2021-01-05T18:08:47.993746",
     "exception": false,
     "start_time": "2021-01-05T18:08:47.884930",
     "status": "completed"
    },
    "tags": []
   },
   "outputs": [
    {
     "name": "stdout",
     "output_type": "stream",
     "text": [
      "<class 'pandas.core.frame.DataFrame'>\n",
      "RangeIndex: 4600 entries, 0 to 4599\n",
      "Data columns (total 18 columns):\n",
      " #   Column         Non-Null Count  Dtype  \n",
      "---  ------         --------------  -----  \n",
      " 0   date           4600 non-null   object \n",
      " 1   price          4600 non-null   float64\n",
      " 2   bedrooms       4600 non-null   float64\n",
      " 3   bathrooms      4600 non-null   float64\n",
      " 4   sqft_living    4600 non-null   int64  \n",
      " 5   sqft_lot       4600 non-null   int64  \n",
      " 6   floors         4600 non-null   float64\n",
      " 7   waterfront     4600 non-null   int64  \n",
      " 8   view           4600 non-null   int64  \n",
      " 9   condition      4600 non-null   int64  \n",
      " 10  sqft_above     4600 non-null   int64  \n",
      " 11  sqft_basement  4600 non-null   int64  \n",
      " 12  yr_built       4600 non-null   int64  \n",
      " 13  yr_renovated   4600 non-null   int64  \n",
      " 14  street         4600 non-null   object \n",
      " 15  city           4600 non-null   object \n",
      " 16  statezip       4600 non-null   object \n",
      " 17  country        4600 non-null   object \n",
      "dtypes: float64(4), int64(9), object(5)\n",
      "memory usage: 647.0+ KB\n"
     ]
    }
   ],
   "source": [
    "df.info()"
   ]
  },
  {
   "cell_type": "code",
   "execution_count": 8,
   "metadata": {
    "execution": {
     "iopub.execute_input": "2021-01-05T18:08:48.158316Z",
     "iopub.status.busy": "2021-01-05T18:08:48.157417Z",
     "iopub.status.idle": "2021-01-05T18:08:48.214933Z",
     "shell.execute_reply": "2021-01-05T18:08:48.214296Z"
    },
    "papermill": {
     "duration": 0.142017,
     "end_time": "2021-01-05T18:08:48.215038",
     "exception": false,
     "start_time": "2021-01-05T18:08:48.073021",
     "status": "completed"
    },
    "tags": []
   },
   "outputs": [
    {
     "data": {
      "text/html": [
       "<div>\n",
       "<style scoped>\n",
       "    .dataframe tbody tr th:only-of-type {\n",
       "        vertical-align: middle;\n",
       "    }\n",
       "\n",
       "    .dataframe tbody tr th {\n",
       "        vertical-align: top;\n",
       "    }\n",
       "\n",
       "    .dataframe thead th {\n",
       "        text-align: right;\n",
       "    }\n",
       "</style>\n",
       "<table border=\"1\" class=\"dataframe\">\n",
       "  <thead>\n",
       "    <tr style=\"text-align: right;\">\n",
       "      <th></th>\n",
       "      <th>price</th>\n",
       "      <th>bedrooms</th>\n",
       "      <th>bathrooms</th>\n",
       "      <th>sqft_living</th>\n",
       "      <th>sqft_lot</th>\n",
       "      <th>floors</th>\n",
       "      <th>waterfront</th>\n",
       "      <th>view</th>\n",
       "      <th>condition</th>\n",
       "      <th>sqft_above</th>\n",
       "      <th>sqft_basement</th>\n",
       "      <th>yr_built</th>\n",
       "      <th>yr_renovated</th>\n",
       "    </tr>\n",
       "  </thead>\n",
       "  <tbody>\n",
       "    <tr>\n",
       "      <th>count</th>\n",
       "      <td>4.600000e+03</td>\n",
       "      <td>4600.000000</td>\n",
       "      <td>4600.000000</td>\n",
       "      <td>4600.000000</td>\n",
       "      <td>4.600000e+03</td>\n",
       "      <td>4600.000000</td>\n",
       "      <td>4600.000000</td>\n",
       "      <td>4600.000000</td>\n",
       "      <td>4600.000000</td>\n",
       "      <td>4600.000000</td>\n",
       "      <td>4600.000000</td>\n",
       "      <td>4600.000000</td>\n",
       "      <td>4600.000000</td>\n",
       "    </tr>\n",
       "    <tr>\n",
       "      <th>mean</th>\n",
       "      <td>5.519630e+05</td>\n",
       "      <td>3.400870</td>\n",
       "      <td>2.160815</td>\n",
       "      <td>2139.346957</td>\n",
       "      <td>1.485252e+04</td>\n",
       "      <td>1.512065</td>\n",
       "      <td>0.007174</td>\n",
       "      <td>0.240652</td>\n",
       "      <td>3.451739</td>\n",
       "      <td>1827.265435</td>\n",
       "      <td>312.081522</td>\n",
       "      <td>1970.786304</td>\n",
       "      <td>808.608261</td>\n",
       "    </tr>\n",
       "    <tr>\n",
       "      <th>std</th>\n",
       "      <td>5.638347e+05</td>\n",
       "      <td>0.908848</td>\n",
       "      <td>0.783781</td>\n",
       "      <td>963.206916</td>\n",
       "      <td>3.588444e+04</td>\n",
       "      <td>0.538288</td>\n",
       "      <td>0.084404</td>\n",
       "      <td>0.778405</td>\n",
       "      <td>0.677230</td>\n",
       "      <td>862.168977</td>\n",
       "      <td>464.137228</td>\n",
       "      <td>29.731848</td>\n",
       "      <td>979.414536</td>\n",
       "    </tr>\n",
       "    <tr>\n",
       "      <th>min</th>\n",
       "      <td>0.000000e+00</td>\n",
       "      <td>0.000000</td>\n",
       "      <td>0.000000</td>\n",
       "      <td>370.000000</td>\n",
       "      <td>6.380000e+02</td>\n",
       "      <td>1.000000</td>\n",
       "      <td>0.000000</td>\n",
       "      <td>0.000000</td>\n",
       "      <td>1.000000</td>\n",
       "      <td>370.000000</td>\n",
       "      <td>0.000000</td>\n",
       "      <td>1900.000000</td>\n",
       "      <td>0.000000</td>\n",
       "    </tr>\n",
       "    <tr>\n",
       "      <th>25%</th>\n",
       "      <td>3.228750e+05</td>\n",
       "      <td>3.000000</td>\n",
       "      <td>1.750000</td>\n",
       "      <td>1460.000000</td>\n",
       "      <td>5.000750e+03</td>\n",
       "      <td>1.000000</td>\n",
       "      <td>0.000000</td>\n",
       "      <td>0.000000</td>\n",
       "      <td>3.000000</td>\n",
       "      <td>1190.000000</td>\n",
       "      <td>0.000000</td>\n",
       "      <td>1951.000000</td>\n",
       "      <td>0.000000</td>\n",
       "    </tr>\n",
       "    <tr>\n",
       "      <th>50%</th>\n",
       "      <td>4.609435e+05</td>\n",
       "      <td>3.000000</td>\n",
       "      <td>2.250000</td>\n",
       "      <td>1980.000000</td>\n",
       "      <td>7.683000e+03</td>\n",
       "      <td>1.500000</td>\n",
       "      <td>0.000000</td>\n",
       "      <td>0.000000</td>\n",
       "      <td>3.000000</td>\n",
       "      <td>1590.000000</td>\n",
       "      <td>0.000000</td>\n",
       "      <td>1976.000000</td>\n",
       "      <td>0.000000</td>\n",
       "    </tr>\n",
       "    <tr>\n",
       "      <th>75%</th>\n",
       "      <td>6.549625e+05</td>\n",
       "      <td>4.000000</td>\n",
       "      <td>2.500000</td>\n",
       "      <td>2620.000000</td>\n",
       "      <td>1.100125e+04</td>\n",
       "      <td>2.000000</td>\n",
       "      <td>0.000000</td>\n",
       "      <td>0.000000</td>\n",
       "      <td>4.000000</td>\n",
       "      <td>2300.000000</td>\n",
       "      <td>610.000000</td>\n",
       "      <td>1997.000000</td>\n",
       "      <td>1999.000000</td>\n",
       "    </tr>\n",
       "    <tr>\n",
       "      <th>max</th>\n",
       "      <td>2.659000e+07</td>\n",
       "      <td>9.000000</td>\n",
       "      <td>8.000000</td>\n",
       "      <td>13540.000000</td>\n",
       "      <td>1.074218e+06</td>\n",
       "      <td>3.500000</td>\n",
       "      <td>1.000000</td>\n",
       "      <td>4.000000</td>\n",
       "      <td>5.000000</td>\n",
       "      <td>9410.000000</td>\n",
       "      <td>4820.000000</td>\n",
       "      <td>2014.000000</td>\n",
       "      <td>2014.000000</td>\n",
       "    </tr>\n",
       "  </tbody>\n",
       "</table>\n",
       "</div>"
      ],
      "text/plain": [
       "              price     bedrooms    bathrooms   sqft_living      sqft_lot  \\\n",
       "count  4.600000e+03  4600.000000  4600.000000   4600.000000  4.600000e+03   \n",
       "mean   5.519630e+05     3.400870     2.160815   2139.346957  1.485252e+04   \n",
       "std    5.638347e+05     0.908848     0.783781    963.206916  3.588444e+04   \n",
       "min    0.000000e+00     0.000000     0.000000    370.000000  6.380000e+02   \n",
       "25%    3.228750e+05     3.000000     1.750000   1460.000000  5.000750e+03   \n",
       "50%    4.609435e+05     3.000000     2.250000   1980.000000  7.683000e+03   \n",
       "75%    6.549625e+05     4.000000     2.500000   2620.000000  1.100125e+04   \n",
       "max    2.659000e+07     9.000000     8.000000  13540.000000  1.074218e+06   \n",
       "\n",
       "            floors   waterfront         view    condition   sqft_above  \\\n",
       "count  4600.000000  4600.000000  4600.000000  4600.000000  4600.000000   \n",
       "mean      1.512065     0.007174     0.240652     3.451739  1827.265435   \n",
       "std       0.538288     0.084404     0.778405     0.677230   862.168977   \n",
       "min       1.000000     0.000000     0.000000     1.000000   370.000000   \n",
       "25%       1.000000     0.000000     0.000000     3.000000  1190.000000   \n",
       "50%       1.500000     0.000000     0.000000     3.000000  1590.000000   \n",
       "75%       2.000000     0.000000     0.000000     4.000000  2300.000000   \n",
       "max       3.500000     1.000000     4.000000     5.000000  9410.000000   \n",
       "\n",
       "       sqft_basement     yr_built  yr_renovated  \n",
       "count    4600.000000  4600.000000   4600.000000  \n",
       "mean      312.081522  1970.786304    808.608261  \n",
       "std       464.137228    29.731848    979.414536  \n",
       "min         0.000000  1900.000000      0.000000  \n",
       "25%         0.000000  1951.000000      0.000000  \n",
       "50%         0.000000  1976.000000      0.000000  \n",
       "75%       610.000000  1997.000000   1999.000000  \n",
       "max      4820.000000  2014.000000   2014.000000  "
      ]
     },
     "execution_count": 8,
     "metadata": {},
     "output_type": "execute_result"
    }
   ],
   "source": [
    "df.describe()"
   ]
  },
  {
   "cell_type": "markdown",
   "metadata": {
    "papermill": {
     "duration": 0.120276,
     "end_time": "2021-01-05T18:08:48.415134",
     "exception": false,
     "start_time": "2021-01-05T18:08:48.294858",
     "status": "completed"
    },
    "tags": []
   },
   "source": [
    "Checking our model accuracy in the starting."
   ]
  },
  {
   "cell_type": "code",
   "execution_count": 9,
   "metadata": {
    "execution": {
     "iopub.execute_input": "2021-01-05T18:08:48.658681Z",
     "iopub.status.busy": "2021-01-05T18:08:48.657534Z",
     "iopub.status.idle": "2021-01-05T18:08:49.008860Z",
     "shell.execute_reply": "2021-01-05T18:08:49.009543Z"
    },
    "papermill": {
     "duration": 0.47498,
     "end_time": "2021-01-05T18:08:49.009736",
     "exception": false,
     "start_time": "2021-01-05T18:08:48.534756",
     "status": "completed"
    },
    "tags": []
   },
   "outputs": [
    {
     "data": {
      "text/plain": [
       "39.11839148648858"
      ]
     },
     "execution_count": 9,
     "metadata": {},
     "output_type": "execute_result"
    }
   ],
   "source": [
    "X = df.drop([\"date\",'street', 'city','statezip', 'country','price'], axis=1)\n",
    "y = df[['price']]\n",
    "from sklearn.model_selection import train_test_split\n",
    "train_X, test_X, train_y, test_y= train_test_split(X,y, test_size=0.3, random_state=0)\n",
    "\n",
    "from sklearn.linear_model import LinearRegression\n",
    "mlrm = LinearRegression()\n",
    "\n",
    "mlrm.fit(train_X,train_y)\n",
    "\n",
    "mlrm.score(train_X, train_y)*100\n",
    "# ypred = mlrm.predict(train_X)\n",
    "# r2_score(train_y,ypred)*100"
   ]
  },
  {
   "cell_type": "code",
   "execution_count": 10,
   "metadata": {},
   "outputs": [
    {
     "data": {
      "text/plain": [
       "9.612104439332448"
      ]
     },
     "execution_count": 10,
     "metadata": {},
     "output_type": "execute_result"
    }
   ],
   "source": [
    "mlrm.score(test_X, test_y)*100"
   ]
  },
  {
   "cell_type": "markdown",
   "metadata": {
    "papermill": {
     "duration": 0.120385,
     "end_time": "2021-01-05T18:08:49.252285",
     "exception": false,
     "start_time": "2021-01-05T18:08:49.131900",
     "status": "completed"
    },
    "tags": []
   },
   "source": [
    "Poor score, but what do we expect from raw data."
   ]
  },
  {
   "cell_type": "markdown",
   "metadata": {
    "papermill": {
     "duration": 0.12022,
     "end_time": "2021-01-05T18:08:49.494284",
     "exception": false,
     "start_time": "2021-01-05T18:08:49.374064",
     "status": "completed"
    },
    "tags": []
   },
   "source": [
    "Let's start **Exploratory Data Analysis(EDA)**."
   ]
  },
  {
   "cell_type": "code",
   "execution_count": 11,
   "metadata": {
    "execution": {
     "iopub.execute_input": "2021-01-05T18:08:49.741765Z",
     "iopub.status.busy": "2021-01-05T18:08:49.740933Z",
     "iopub.status.idle": "2021-01-05T18:08:49.772800Z",
     "shell.execute_reply": "2021-01-05T18:08:49.773453Z"
    },
    "papermill": {
     "duration": 0.158778,
     "end_time": "2021-01-05T18:08:49.773623",
     "exception": false,
     "start_time": "2021-01-05T18:08:49.614845",
     "status": "completed"
    },
    "tags": []
   },
   "outputs": [
    {
     "data": {
      "text/html": [
       "<div>\n",
       "<style scoped>\n",
       "    .dataframe tbody tr th:only-of-type {\n",
       "        vertical-align: middle;\n",
       "    }\n",
       "\n",
       "    .dataframe tbody tr th {\n",
       "        vertical-align: top;\n",
       "    }\n",
       "\n",
       "    .dataframe thead th {\n",
       "        text-align: right;\n",
       "    }\n",
       "</style>\n",
       "<table border=\"1\" class=\"dataframe\">\n",
       "  <thead>\n",
       "    <tr style=\"text-align: right;\">\n",
       "      <th></th>\n",
       "      <th>price</th>\n",
       "      <th>bedrooms</th>\n",
       "      <th>bathrooms</th>\n",
       "      <th>sqft_living</th>\n",
       "      <th>sqft_lot</th>\n",
       "      <th>floors</th>\n",
       "      <th>waterfront</th>\n",
       "      <th>view</th>\n",
       "      <th>condition</th>\n",
       "      <th>sqft_above</th>\n",
       "      <th>sqft_basement</th>\n",
       "      <th>yr_built</th>\n",
       "      <th>yr_renovated</th>\n",
       "    </tr>\n",
       "  </thead>\n",
       "  <tbody>\n",
       "    <tr>\n",
       "      <th>price</th>\n",
       "      <td>1.000000</td>\n",
       "      <td>0.200336</td>\n",
       "      <td>0.327110</td>\n",
       "      <td>0.430410</td>\n",
       "      <td>0.050451</td>\n",
       "      <td>0.151461</td>\n",
       "      <td>0.135648</td>\n",
       "      <td>0.228504</td>\n",
       "      <td>0.034915</td>\n",
       "      <td>0.367570</td>\n",
       "      <td>0.210427</td>\n",
       "      <td>0.021857</td>\n",
       "      <td>-0.028774</td>\n",
       "    </tr>\n",
       "    <tr>\n",
       "      <th>bedrooms</th>\n",
       "      <td>0.200336</td>\n",
       "      <td>1.000000</td>\n",
       "      <td>0.545920</td>\n",
       "      <td>0.594884</td>\n",
       "      <td>0.068819</td>\n",
       "      <td>0.177895</td>\n",
       "      <td>-0.003483</td>\n",
       "      <td>0.111028</td>\n",
       "      <td>0.025080</td>\n",
       "      <td>0.484705</td>\n",
       "      <td>0.334165</td>\n",
       "      <td>0.142461</td>\n",
       "      <td>-0.061082</td>\n",
       "    </tr>\n",
       "    <tr>\n",
       "      <th>bathrooms</th>\n",
       "      <td>0.327110</td>\n",
       "      <td>0.545920</td>\n",
       "      <td>1.000000</td>\n",
       "      <td>0.761154</td>\n",
       "      <td>0.107837</td>\n",
       "      <td>0.486428</td>\n",
       "      <td>0.076232</td>\n",
       "      <td>0.211960</td>\n",
       "      <td>-0.119994</td>\n",
       "      <td>0.689918</td>\n",
       "      <td>0.298020</td>\n",
       "      <td>0.463498</td>\n",
       "      <td>-0.215886</td>\n",
       "    </tr>\n",
       "    <tr>\n",
       "      <th>sqft_living</th>\n",
       "      <td>0.430410</td>\n",
       "      <td>0.594884</td>\n",
       "      <td>0.761154</td>\n",
       "      <td>1.000000</td>\n",
       "      <td>0.210538</td>\n",
       "      <td>0.344850</td>\n",
       "      <td>0.117616</td>\n",
       "      <td>0.311009</td>\n",
       "      <td>-0.062826</td>\n",
       "      <td>0.876443</td>\n",
       "      <td>0.447206</td>\n",
       "      <td>0.287775</td>\n",
       "      <td>-0.122817</td>\n",
       "    </tr>\n",
       "    <tr>\n",
       "      <th>sqft_lot</th>\n",
       "      <td>0.050451</td>\n",
       "      <td>0.068819</td>\n",
       "      <td>0.107837</td>\n",
       "      <td>0.210538</td>\n",
       "      <td>1.000000</td>\n",
       "      <td>0.003750</td>\n",
       "      <td>0.017241</td>\n",
       "      <td>0.073907</td>\n",
       "      <td>0.000558</td>\n",
       "      <td>0.216455</td>\n",
       "      <td>0.034842</td>\n",
       "      <td>0.050706</td>\n",
       "      <td>-0.022730</td>\n",
       "    </tr>\n",
       "    <tr>\n",
       "      <th>floors</th>\n",
       "      <td>0.151461</td>\n",
       "      <td>0.177895</td>\n",
       "      <td>0.486428</td>\n",
       "      <td>0.344850</td>\n",
       "      <td>0.003750</td>\n",
       "      <td>1.000000</td>\n",
       "      <td>0.022024</td>\n",
       "      <td>0.031211</td>\n",
       "      <td>-0.275013</td>\n",
       "      <td>0.522814</td>\n",
       "      <td>-0.255510</td>\n",
       "      <td>0.467481</td>\n",
       "      <td>-0.233996</td>\n",
       "    </tr>\n",
       "    <tr>\n",
       "      <th>waterfront</th>\n",
       "      <td>0.135648</td>\n",
       "      <td>-0.003483</td>\n",
       "      <td>0.076232</td>\n",
       "      <td>0.117616</td>\n",
       "      <td>0.017241</td>\n",
       "      <td>0.022024</td>\n",
       "      <td>1.000000</td>\n",
       "      <td>0.360935</td>\n",
       "      <td>0.000352</td>\n",
       "      <td>0.078911</td>\n",
       "      <td>0.097501</td>\n",
       "      <td>-0.023563</td>\n",
       "      <td>0.008625</td>\n",
       "    </tr>\n",
       "    <tr>\n",
       "      <th>view</th>\n",
       "      <td>0.228504</td>\n",
       "      <td>0.111028</td>\n",
       "      <td>0.211960</td>\n",
       "      <td>0.311009</td>\n",
       "      <td>0.073907</td>\n",
       "      <td>0.031211</td>\n",
       "      <td>0.360935</td>\n",
       "      <td>1.000000</td>\n",
       "      <td>0.063077</td>\n",
       "      <td>0.174327</td>\n",
       "      <td>0.321602</td>\n",
       "      <td>-0.064465</td>\n",
       "      <td>0.022967</td>\n",
       "    </tr>\n",
       "    <tr>\n",
       "      <th>condition</th>\n",
       "      <td>0.034915</td>\n",
       "      <td>0.025080</td>\n",
       "      <td>-0.119994</td>\n",
       "      <td>-0.062826</td>\n",
       "      <td>0.000558</td>\n",
       "      <td>-0.275013</td>\n",
       "      <td>0.000352</td>\n",
       "      <td>0.063077</td>\n",
       "      <td>1.000000</td>\n",
       "      <td>-0.178196</td>\n",
       "      <td>0.200632</td>\n",
       "      <td>-0.399698</td>\n",
       "      <td>-0.186818</td>\n",
       "    </tr>\n",
       "    <tr>\n",
       "      <th>sqft_above</th>\n",
       "      <td>0.367570</td>\n",
       "      <td>0.484705</td>\n",
       "      <td>0.689918</td>\n",
       "      <td>0.876443</td>\n",
       "      <td>0.216455</td>\n",
       "      <td>0.522814</td>\n",
       "      <td>0.078911</td>\n",
       "      <td>0.174327</td>\n",
       "      <td>-0.178196</td>\n",
       "      <td>1.000000</td>\n",
       "      <td>-0.038723</td>\n",
       "      <td>0.408535</td>\n",
       "      <td>-0.160426</td>\n",
       "    </tr>\n",
       "    <tr>\n",
       "      <th>sqft_basement</th>\n",
       "      <td>0.210427</td>\n",
       "      <td>0.334165</td>\n",
       "      <td>0.298020</td>\n",
       "      <td>0.447206</td>\n",
       "      <td>0.034842</td>\n",
       "      <td>-0.255510</td>\n",
       "      <td>0.097501</td>\n",
       "      <td>0.321602</td>\n",
       "      <td>0.200632</td>\n",
       "      <td>-0.038723</td>\n",
       "      <td>1.000000</td>\n",
       "      <td>-0.161675</td>\n",
       "      <td>0.043125</td>\n",
       "    </tr>\n",
       "    <tr>\n",
       "      <th>yr_built</th>\n",
       "      <td>0.021857</td>\n",
       "      <td>0.142461</td>\n",
       "      <td>0.463498</td>\n",
       "      <td>0.287775</td>\n",
       "      <td>0.050706</td>\n",
       "      <td>0.467481</td>\n",
       "      <td>-0.023563</td>\n",
       "      <td>-0.064465</td>\n",
       "      <td>-0.399698</td>\n",
       "      <td>0.408535</td>\n",
       "      <td>-0.161675</td>\n",
       "      <td>1.000000</td>\n",
       "      <td>-0.321342</td>\n",
       "    </tr>\n",
       "    <tr>\n",
       "      <th>yr_renovated</th>\n",
       "      <td>-0.028774</td>\n",
       "      <td>-0.061082</td>\n",
       "      <td>-0.215886</td>\n",
       "      <td>-0.122817</td>\n",
       "      <td>-0.022730</td>\n",
       "      <td>-0.233996</td>\n",
       "      <td>0.008625</td>\n",
       "      <td>0.022967</td>\n",
       "      <td>-0.186818</td>\n",
       "      <td>-0.160426</td>\n",
       "      <td>0.043125</td>\n",
       "      <td>-0.321342</td>\n",
       "      <td>1.000000</td>\n",
       "    </tr>\n",
       "  </tbody>\n",
       "</table>\n",
       "</div>"
      ],
      "text/plain": [
       "                  price  bedrooms  bathrooms  sqft_living  sqft_lot    floors  \\\n",
       "price          1.000000  0.200336   0.327110     0.430410  0.050451  0.151461   \n",
       "bedrooms       0.200336  1.000000   0.545920     0.594884  0.068819  0.177895   \n",
       "bathrooms      0.327110  0.545920   1.000000     0.761154  0.107837  0.486428   \n",
       "sqft_living    0.430410  0.594884   0.761154     1.000000  0.210538  0.344850   \n",
       "sqft_lot       0.050451  0.068819   0.107837     0.210538  1.000000  0.003750   \n",
       "floors         0.151461  0.177895   0.486428     0.344850  0.003750  1.000000   \n",
       "waterfront     0.135648 -0.003483   0.076232     0.117616  0.017241  0.022024   \n",
       "view           0.228504  0.111028   0.211960     0.311009  0.073907  0.031211   \n",
       "condition      0.034915  0.025080  -0.119994    -0.062826  0.000558 -0.275013   \n",
       "sqft_above     0.367570  0.484705   0.689918     0.876443  0.216455  0.522814   \n",
       "sqft_basement  0.210427  0.334165   0.298020     0.447206  0.034842 -0.255510   \n",
       "yr_built       0.021857  0.142461   0.463498     0.287775  0.050706  0.467481   \n",
       "yr_renovated  -0.028774 -0.061082  -0.215886    -0.122817 -0.022730 -0.233996   \n",
       "\n",
       "               waterfront      view  condition  sqft_above  sqft_basement  \\\n",
       "price            0.135648  0.228504   0.034915    0.367570       0.210427   \n",
       "bedrooms        -0.003483  0.111028   0.025080    0.484705       0.334165   \n",
       "bathrooms        0.076232  0.211960  -0.119994    0.689918       0.298020   \n",
       "sqft_living      0.117616  0.311009  -0.062826    0.876443       0.447206   \n",
       "sqft_lot         0.017241  0.073907   0.000558    0.216455       0.034842   \n",
       "floors           0.022024  0.031211  -0.275013    0.522814      -0.255510   \n",
       "waterfront       1.000000  0.360935   0.000352    0.078911       0.097501   \n",
       "view             0.360935  1.000000   0.063077    0.174327       0.321602   \n",
       "condition        0.000352  0.063077   1.000000   -0.178196       0.200632   \n",
       "sqft_above       0.078911  0.174327  -0.178196    1.000000      -0.038723   \n",
       "sqft_basement    0.097501  0.321602   0.200632   -0.038723       1.000000   \n",
       "yr_built        -0.023563 -0.064465  -0.399698    0.408535      -0.161675   \n",
       "yr_renovated     0.008625  0.022967  -0.186818   -0.160426       0.043125   \n",
       "\n",
       "               yr_built  yr_renovated  \n",
       "price          0.021857     -0.028774  \n",
       "bedrooms       0.142461     -0.061082  \n",
       "bathrooms      0.463498     -0.215886  \n",
       "sqft_living    0.287775     -0.122817  \n",
       "sqft_lot       0.050706     -0.022730  \n",
       "floors         0.467481     -0.233996  \n",
       "waterfront    -0.023563      0.008625  \n",
       "view          -0.064465      0.022967  \n",
       "condition     -0.399698     -0.186818  \n",
       "sqft_above     0.408535     -0.160426  \n",
       "sqft_basement -0.161675      0.043125  \n",
       "yr_built       1.000000     -0.321342  \n",
       "yr_renovated  -0.321342      1.000000  "
      ]
     },
     "execution_count": 11,
     "metadata": {},
     "output_type": "execute_result"
    }
   ],
   "source": [
    "df.corr()"
   ]
  },
  {
   "cell_type": "markdown",
   "metadata": {
    "papermill": {
     "duration": 0.121726,
     "end_time": "2021-01-05T18:08:50.016518",
     "exception": false,
     "start_time": "2021-01-05T18:08:49.894792",
     "status": "completed"
    },
    "tags": []
   },
   "source": [
    "So, our price is majorly dependent upon bedrooms, bathrooms, sqft_living among these continuous variables."
   ]
  },
  {
   "cell_type": "code",
   "execution_count": 12,
   "metadata": {
    "execution": {
     "iopub.execute_input": "2021-01-05T18:08:50.264961Z",
     "iopub.status.busy": "2021-01-05T18:08:50.263863Z",
     "iopub.status.idle": "2021-01-05T18:08:50.277991Z",
     "shell.execute_reply": "2021-01-05T18:08:50.277163Z"
    },
    "papermill": {
     "duration": 0.138806,
     "end_time": "2021-01-05T18:08:50.278116",
     "exception": false,
     "start_time": "2021-01-05T18:08:50.139310",
     "status": "completed"
    },
    "tags": []
   },
   "outputs": [
    {
     "data": {
      "text/plain": [
       "date             0\n",
       "price            0\n",
       "bedrooms         0\n",
       "bathrooms        0\n",
       "sqft_living      0\n",
       "sqft_lot         0\n",
       "floors           0\n",
       "waterfront       0\n",
       "view             0\n",
       "condition        0\n",
       "sqft_above       0\n",
       "sqft_basement    0\n",
       "yr_built         0\n",
       "yr_renovated     0\n",
       "street           0\n",
       "city             0\n",
       "statezip         0\n",
       "country          0\n",
       "dtype: int64"
      ]
     },
     "execution_count": 12,
     "metadata": {},
     "output_type": "execute_result"
    }
   ],
   "source": [
    "df.isnull().sum()"
   ]
  },
  {
   "cell_type": "code",
   "execution_count": 13,
   "metadata": {
    "execution": {
     "iopub.execute_input": "2021-01-05T18:08:50.532293Z",
     "iopub.status.busy": "2021-01-05T18:08:50.531219Z",
     "iopub.status.idle": "2021-01-05T18:08:50.578201Z",
     "shell.execute_reply": "2021-01-05T18:08:50.577528Z"
    },
    "papermill": {
     "duration": 0.175935,
     "end_time": "2021-01-05T18:08:50.578315",
     "exception": false,
     "start_time": "2021-01-05T18:08:50.402380",
     "status": "completed"
    },
    "tags": []
   },
   "outputs": [
    {
     "data": {
      "text/plain": [
       "date                0\n",
       "price              49\n",
       "bedrooms            2\n",
       "bathrooms           2\n",
       "sqft_living         0\n",
       "sqft_lot            0\n",
       "floors              0\n",
       "waterfront       4567\n",
       "view             4140\n",
       "condition           0\n",
       "sqft_above          0\n",
       "sqft_basement    2745\n",
       "yr_built            0\n",
       "yr_renovated     2735\n",
       "street              0\n",
       "city                0\n",
       "statezip            0\n",
       "country             0\n",
       "dtype: int64"
      ]
     },
     "execution_count": 13,
     "metadata": {},
     "output_type": "execute_result"
    }
   ],
   "source": [
    "df[df==0].count()"
   ]
  },
  {
   "cell_type": "markdown",
   "metadata": {
    "papermill": {
     "duration": 0.079754,
     "end_time": "2021-01-05T18:08:50.739474",
     "exception": false,
     "start_time": "2021-01-05T18:08:50.659720",
     "status": "completed"
    },
    "tags": []
   },
   "source": [
    "I've checked for NaN values first and then after go to check for the 0s in our dataset.\n",
    "\n",
    "Many of you might think why should I checked for values equals to 0, because sometimes our data is fill with unconditional 0 values inspite of NaN values. So, it must be our habit to check for 0s also while cleaning our dataset."
   ]
  },
  {
   "cell_type": "markdown",
   "metadata": {
    "papermill": {
     "duration": 0.080737,
     "end_time": "2021-01-05T18:08:50.900733",
     "exception": false,
     "start_time": "2021-01-05T18:08:50.819996",
     "status": "completed"
    },
    "tags": []
   },
   "source": [
    "Now, some of the columns like waterfront, view, sqft_above and sqft_basement seems more authentic to be 0s in their values because a house might not have waterfront or any view or basement area and might not be ever renovated.\n",
    "\n",
    "But, it is really hard to digest a house with 0 bedrooms and 0 bathrooms, and impossible to have any house with 0 price, who'll sell a house for free.😂🤷‍♀️\n",
    "\n",
    "Let's look into it with closer insights."
   ]
  },
  {
   "cell_type": "code",
   "execution_count": 14,
   "metadata": {
    "execution": {
     "iopub.execute_input": "2021-01-05T18:08:51.116398Z",
     "iopub.status.busy": "2021-01-05T18:08:51.095975Z",
     "iopub.status.idle": "2021-01-05T18:08:51.146823Z",
     "shell.execute_reply": "2021-01-05T18:08:51.145625Z"
    },
    "papermill": {
     "duration": 0.164846,
     "end_time": "2021-01-05T18:08:51.147003",
     "exception": false,
     "start_time": "2021-01-05T18:08:50.982157",
     "status": "completed"
    },
    "tags": []
   },
   "outputs": [
    {
     "data": {
      "text/html": [
       "<div>\n",
       "<style scoped>\n",
       "    .dataframe tbody tr th:only-of-type {\n",
       "        vertical-align: middle;\n",
       "    }\n",
       "\n",
       "    .dataframe tbody tr th {\n",
       "        vertical-align: top;\n",
       "    }\n",
       "\n",
       "    .dataframe thead th {\n",
       "        text-align: right;\n",
       "    }\n",
       "</style>\n",
       "<table border=\"1\" class=\"dataframe\">\n",
       "  <thead>\n",
       "    <tr style=\"text-align: right;\">\n",
       "      <th></th>\n",
       "      <th>date</th>\n",
       "      <th>price</th>\n",
       "      <th>bedrooms</th>\n",
       "      <th>bathrooms</th>\n",
       "      <th>sqft_living</th>\n",
       "      <th>sqft_lot</th>\n",
       "      <th>floors</th>\n",
       "      <th>waterfront</th>\n",
       "      <th>view</th>\n",
       "      <th>condition</th>\n",
       "      <th>sqft_above</th>\n",
       "      <th>sqft_basement</th>\n",
       "      <th>yr_built</th>\n",
       "      <th>yr_renovated</th>\n",
       "      <th>street</th>\n",
       "      <th>city</th>\n",
       "      <th>statezip</th>\n",
       "      <th>country</th>\n",
       "    </tr>\n",
       "  </thead>\n",
       "  <tbody>\n",
       "    <tr>\n",
       "      <th>4354</th>\n",
       "      <td>2014-05-05 00:00:00</td>\n",
       "      <td>0.0</td>\n",
       "      <td>3.0</td>\n",
       "      <td>1.75</td>\n",
       "      <td>1490</td>\n",
       "      <td>10125</td>\n",
       "      <td>1.0</td>\n",
       "      <td>0</td>\n",
       "      <td>0</td>\n",
       "      <td>4</td>\n",
       "      <td>1490</td>\n",
       "      <td>0</td>\n",
       "      <td>1962</td>\n",
       "      <td>0</td>\n",
       "      <td>3911 S 328th St</td>\n",
       "      <td>Federal Way</td>\n",
       "      <td>WA 98001</td>\n",
       "      <td>USA</td>\n",
       "    </tr>\n",
       "    <tr>\n",
       "      <th>4356</th>\n",
       "      <td>2014-05-05 00:00:00</td>\n",
       "      <td>0.0</td>\n",
       "      <td>4.0</td>\n",
       "      <td>2.75</td>\n",
       "      <td>2600</td>\n",
       "      <td>5390</td>\n",
       "      <td>1.0</td>\n",
       "      <td>0</td>\n",
       "      <td>0</td>\n",
       "      <td>4</td>\n",
       "      <td>1300</td>\n",
       "      <td>1300</td>\n",
       "      <td>1960</td>\n",
       "      <td>2001</td>\n",
       "      <td>2120 31st Ave W</td>\n",
       "      <td>Seattle</td>\n",
       "      <td>WA 98199</td>\n",
       "      <td>USA</td>\n",
       "    </tr>\n",
       "    <tr>\n",
       "      <th>4357</th>\n",
       "      <td>2014-05-05 00:00:00</td>\n",
       "      <td>0.0</td>\n",
       "      <td>6.0</td>\n",
       "      <td>2.75</td>\n",
       "      <td>3200</td>\n",
       "      <td>9200</td>\n",
       "      <td>1.0</td>\n",
       "      <td>0</td>\n",
       "      <td>2</td>\n",
       "      <td>4</td>\n",
       "      <td>1600</td>\n",
       "      <td>1600</td>\n",
       "      <td>1953</td>\n",
       "      <td>1983</td>\n",
       "      <td>12271 Marine View Dr SW</td>\n",
       "      <td>Burien</td>\n",
       "      <td>WA 98146</td>\n",
       "      <td>USA</td>\n",
       "    </tr>\n",
       "    <tr>\n",
       "      <th>4358</th>\n",
       "      <td>2014-05-06 00:00:00</td>\n",
       "      <td>0.0</td>\n",
       "      <td>5.0</td>\n",
       "      <td>3.50</td>\n",
       "      <td>3480</td>\n",
       "      <td>36615</td>\n",
       "      <td>2.0</td>\n",
       "      <td>0</td>\n",
       "      <td>0</td>\n",
       "      <td>4</td>\n",
       "      <td>2490</td>\n",
       "      <td>990</td>\n",
       "      <td>1983</td>\n",
       "      <td>0</td>\n",
       "      <td>21809 SE 38th Pl</td>\n",
       "      <td>Issaquah</td>\n",
       "      <td>WA 98075</td>\n",
       "      <td>USA</td>\n",
       "    </tr>\n",
       "    <tr>\n",
       "      <th>4361</th>\n",
       "      <td>2014-05-07 00:00:00</td>\n",
       "      <td>0.0</td>\n",
       "      <td>5.0</td>\n",
       "      <td>1.50</td>\n",
       "      <td>1500</td>\n",
       "      <td>7112</td>\n",
       "      <td>1.0</td>\n",
       "      <td>0</td>\n",
       "      <td>0</td>\n",
       "      <td>5</td>\n",
       "      <td>760</td>\n",
       "      <td>740</td>\n",
       "      <td>1920</td>\n",
       "      <td>0</td>\n",
       "      <td>14901-14999 12th Ave SW</td>\n",
       "      <td>Burien</td>\n",
       "      <td>WA 98166</td>\n",
       "      <td>USA</td>\n",
       "    </tr>\n",
       "    <tr>\n",
       "      <th>4362</th>\n",
       "      <td>2014-05-07 00:00:00</td>\n",
       "      <td>0.0</td>\n",
       "      <td>4.0</td>\n",
       "      <td>4.00</td>\n",
       "      <td>3680</td>\n",
       "      <td>18804</td>\n",
       "      <td>2.0</td>\n",
       "      <td>0</td>\n",
       "      <td>0</td>\n",
       "      <td>3</td>\n",
       "      <td>3680</td>\n",
       "      <td>0</td>\n",
       "      <td>1990</td>\n",
       "      <td>2009</td>\n",
       "      <td>1223-1237 244th Ave NE</td>\n",
       "      <td>Sammamish</td>\n",
       "      <td>WA 98074</td>\n",
       "      <td>USA</td>\n",
       "    </tr>\n",
       "    <tr>\n",
       "      <th>4374</th>\n",
       "      <td>2014-05-09 00:00:00</td>\n",
       "      <td>0.0</td>\n",
       "      <td>2.0</td>\n",
       "      <td>2.50</td>\n",
       "      <td>2200</td>\n",
       "      <td>188200</td>\n",
       "      <td>1.0</td>\n",
       "      <td>0</td>\n",
       "      <td>3</td>\n",
       "      <td>3</td>\n",
       "      <td>2200</td>\n",
       "      <td>0</td>\n",
       "      <td>2007</td>\n",
       "      <td>0</td>\n",
       "      <td>39612 254th Ave SE</td>\n",
       "      <td>Enumclaw</td>\n",
       "      <td>WA 98022</td>\n",
       "      <td>USA</td>\n",
       "    </tr>\n",
       "    <tr>\n",
       "      <th>4376</th>\n",
       "      <td>2014-05-09 00:00:00</td>\n",
       "      <td>0.0</td>\n",
       "      <td>4.0</td>\n",
       "      <td>2.25</td>\n",
       "      <td>2170</td>\n",
       "      <td>10500</td>\n",
       "      <td>1.0</td>\n",
       "      <td>0</td>\n",
       "      <td>2</td>\n",
       "      <td>4</td>\n",
       "      <td>1270</td>\n",
       "      <td>900</td>\n",
       "      <td>1960</td>\n",
       "      <td>2001</td>\n",
       "      <td>216 SW 183rd St</td>\n",
       "      <td>Normandy Park</td>\n",
       "      <td>WA 98166</td>\n",
       "      <td>USA</td>\n",
       "    </tr>\n",
       "    <tr>\n",
       "      <th>4382</th>\n",
       "      <td>2014-05-12 00:00:00</td>\n",
       "      <td>0.0</td>\n",
       "      <td>5.0</td>\n",
       "      <td>4.50</td>\n",
       "      <td>4630</td>\n",
       "      <td>6324</td>\n",
       "      <td>2.0</td>\n",
       "      <td>0</td>\n",
       "      <td>0</td>\n",
       "      <td>3</td>\n",
       "      <td>3210</td>\n",
       "      <td>1420</td>\n",
       "      <td>2006</td>\n",
       "      <td>0</td>\n",
       "      <td>6925 Oakmont Ave SE</td>\n",
       "      <td>Snoqualmie</td>\n",
       "      <td>WA 98065</td>\n",
       "      <td>USA</td>\n",
       "    </tr>\n",
       "    <tr>\n",
       "      <th>4383</th>\n",
       "      <td>2014-05-13 00:00:00</td>\n",
       "      <td>0.0</td>\n",
       "      <td>5.0</td>\n",
       "      <td>4.00</td>\n",
       "      <td>4430</td>\n",
       "      <td>9000</td>\n",
       "      <td>2.0</td>\n",
       "      <td>0</td>\n",
       "      <td>0</td>\n",
       "      <td>3</td>\n",
       "      <td>4430</td>\n",
       "      <td>0</td>\n",
       "      <td>2013</td>\n",
       "      <td>1923</td>\n",
       "      <td>9235 NE 5th St</td>\n",
       "      <td>Bellevue</td>\n",
       "      <td>WA 98004</td>\n",
       "      <td>USA</td>\n",
       "    </tr>\n",
       "    <tr>\n",
       "      <th>4385</th>\n",
       "      <td>2014-05-13 00:00:00</td>\n",
       "      <td>0.0</td>\n",
       "      <td>4.0</td>\n",
       "      <td>4.50</td>\n",
       "      <td>5030</td>\n",
       "      <td>11023</td>\n",
       "      <td>2.0</td>\n",
       "      <td>0</td>\n",
       "      <td>2</td>\n",
       "      <td>3</td>\n",
       "      <td>3250</td>\n",
       "      <td>1780</td>\n",
       "      <td>2008</td>\n",
       "      <td>0</td>\n",
       "      <td>4140 Boulevard Pl</td>\n",
       "      <td>Mercer Island</td>\n",
       "      <td>WA 98040</td>\n",
       "      <td>USA</td>\n",
       "    </tr>\n",
       "    <tr>\n",
       "      <th>4386</th>\n",
       "      <td>2014-05-13 00:00:00</td>\n",
       "      <td>0.0</td>\n",
       "      <td>4.0</td>\n",
       "      <td>1.50</td>\n",
       "      <td>2180</td>\n",
       "      <td>22870</td>\n",
       "      <td>1.0</td>\n",
       "      <td>0</td>\n",
       "      <td>0</td>\n",
       "      <td>4</td>\n",
       "      <td>1280</td>\n",
       "      <td>900</td>\n",
       "      <td>1954</td>\n",
       "      <td>1975</td>\n",
       "      <td>31603 E Lake Morton Dr SE</td>\n",
       "      <td>Kent</td>\n",
       "      <td>WA 98042</td>\n",
       "      <td>USA</td>\n",
       "    </tr>\n",
       "    <tr>\n",
       "      <th>4389</th>\n",
       "      <td>2014-05-15 00:00:00</td>\n",
       "      <td>0.0</td>\n",
       "      <td>4.0</td>\n",
       "      <td>3.50</td>\n",
       "      <td>4210</td>\n",
       "      <td>10308</td>\n",
       "      <td>2.0</td>\n",
       "      <td>0</td>\n",
       "      <td>0</td>\n",
       "      <td>3</td>\n",
       "      <td>4210</td>\n",
       "      <td>0</td>\n",
       "      <td>2006</td>\n",
       "      <td>0</td>\n",
       "      <td>2234 167th Ave SE</td>\n",
       "      <td>Bellevue</td>\n",
       "      <td>WA 98008</td>\n",
       "      <td>USA</td>\n",
       "    </tr>\n",
       "    <tr>\n",
       "      <th>4394</th>\n",
       "      <td>2014-05-16 00:00:00</td>\n",
       "      <td>0.0</td>\n",
       "      <td>5.0</td>\n",
       "      <td>3.25</td>\n",
       "      <td>3690</td>\n",
       "      <td>12353</td>\n",
       "      <td>2.0</td>\n",
       "      <td>0</td>\n",
       "      <td>0</td>\n",
       "      <td>5</td>\n",
       "      <td>3690</td>\n",
       "      <td>0</td>\n",
       "      <td>1977</td>\n",
       "      <td>0</td>\n",
       "      <td>19055 35th Ave NE</td>\n",
       "      <td>Lake Forest Park</td>\n",
       "      <td>WA 98155</td>\n",
       "      <td>USA</td>\n",
       "    </tr>\n",
       "    <tr>\n",
       "      <th>4405</th>\n",
       "      <td>2014-05-20 00:00:00</td>\n",
       "      <td>0.0</td>\n",
       "      <td>4.0</td>\n",
       "      <td>3.75</td>\n",
       "      <td>3300</td>\n",
       "      <td>4545</td>\n",
       "      <td>1.5</td>\n",
       "      <td>0</td>\n",
       "      <td>4</td>\n",
       "      <td>3</td>\n",
       "      <td>2600</td>\n",
       "      <td>700</td>\n",
       "      <td>1926</td>\n",
       "      <td>1999</td>\n",
       "      <td>3665 50th Ave NE</td>\n",
       "      <td>Seattle</td>\n",
       "      <td>WA 98105</td>\n",
       "      <td>USA</td>\n",
       "    </tr>\n",
       "    <tr>\n",
       "      <th>4408</th>\n",
       "      <td>2014-05-21 00:00:00</td>\n",
       "      <td>0.0</td>\n",
       "      <td>5.0</td>\n",
       "      <td>2.25</td>\n",
       "      <td>2880</td>\n",
       "      <td>11965</td>\n",
       "      <td>2.0</td>\n",
       "      <td>0</td>\n",
       "      <td>0</td>\n",
       "      <td>4</td>\n",
       "      <td>2880</td>\n",
       "      <td>0</td>\n",
       "      <td>1990</td>\n",
       "      <td>0</td>\n",
       "      <td>25437 163rd Pl SE</td>\n",
       "      <td>Covington</td>\n",
       "      <td>WA 98042</td>\n",
       "      <td>USA</td>\n",
       "    </tr>\n",
       "    <tr>\n",
       "      <th>4411</th>\n",
       "      <td>2014-05-22 00:00:00</td>\n",
       "      <td>0.0</td>\n",
       "      <td>5.0</td>\n",
       "      <td>2.25</td>\n",
       "      <td>2000</td>\n",
       "      <td>7900</td>\n",
       "      <td>1.0</td>\n",
       "      <td>0</td>\n",
       "      <td>0</td>\n",
       "      <td>4</td>\n",
       "      <td>1300</td>\n",
       "      <td>700</td>\n",
       "      <td>1986</td>\n",
       "      <td>0</td>\n",
       "      <td>3202 S 194th St</td>\n",
       "      <td>SeaTac</td>\n",
       "      <td>WA 98188</td>\n",
       "      <td>USA</td>\n",
       "    </tr>\n",
       "    <tr>\n",
       "      <th>4412</th>\n",
       "      <td>2014-05-22 00:00:00</td>\n",
       "      <td>0.0</td>\n",
       "      <td>3.0</td>\n",
       "      <td>3.00</td>\n",
       "      <td>1860</td>\n",
       "      <td>7440</td>\n",
       "      <td>1.0</td>\n",
       "      <td>0</td>\n",
       "      <td>0</td>\n",
       "      <td>5</td>\n",
       "      <td>1040</td>\n",
       "      <td>820</td>\n",
       "      <td>1954</td>\n",
       "      <td>0</td>\n",
       "      <td>10744 62nd Ave S</td>\n",
       "      <td>Seattle</td>\n",
       "      <td>WA 98178</td>\n",
       "      <td>USA</td>\n",
       "    </tr>\n",
       "    <tr>\n",
       "      <th>4413</th>\n",
       "      <td>2014-05-22 00:00:00</td>\n",
       "      <td>0.0</td>\n",
       "      <td>4.0</td>\n",
       "      <td>3.00</td>\n",
       "      <td>1990</td>\n",
       "      <td>6180</td>\n",
       "      <td>2.0</td>\n",
       "      <td>0</td>\n",
       "      <td>0</td>\n",
       "      <td>3</td>\n",
       "      <td>1990</td>\n",
       "      <td>0</td>\n",
       "      <td>1990</td>\n",
       "      <td>2009</td>\n",
       "      <td>32706 20th Ave SW</td>\n",
       "      <td>Federal Way</td>\n",
       "      <td>WA 98023</td>\n",
       "      <td>USA</td>\n",
       "    </tr>\n",
       "    <tr>\n",
       "      <th>4420</th>\n",
       "      <td>2014-05-27 00:00:00</td>\n",
       "      <td>0.0</td>\n",
       "      <td>4.0</td>\n",
       "      <td>1.00</td>\n",
       "      <td>1360</td>\n",
       "      <td>13372</td>\n",
       "      <td>1.0</td>\n",
       "      <td>0</td>\n",
       "      <td>0</td>\n",
       "      <td>3</td>\n",
       "      <td>1360</td>\n",
       "      <td>0</td>\n",
       "      <td>1955</td>\n",
       "      <td>2005</td>\n",
       "      <td>18423 61st Pl NE</td>\n",
       "      <td>Kenmore</td>\n",
       "      <td>WA 98028</td>\n",
       "      <td>USA</td>\n",
       "    </tr>\n",
       "    <tr>\n",
       "      <th>4442</th>\n",
       "      <td>2014-06-02 00:00:00</td>\n",
       "      <td>0.0</td>\n",
       "      <td>1.0</td>\n",
       "      <td>1.00</td>\n",
       "      <td>720</td>\n",
       "      <td>6000</td>\n",
       "      <td>1.0</td>\n",
       "      <td>0</td>\n",
       "      <td>0</td>\n",
       "      <td>3</td>\n",
       "      <td>720</td>\n",
       "      <td>0</td>\n",
       "      <td>1940</td>\n",
       "      <td>1996</td>\n",
       "      <td>1236 S Cloverdale St</td>\n",
       "      <td>Seattle</td>\n",
       "      <td>WA 98108</td>\n",
       "      <td>USA</td>\n",
       "    </tr>\n",
       "    <tr>\n",
       "      <th>4448</th>\n",
       "      <td>2014-06-03 00:00:00</td>\n",
       "      <td>0.0</td>\n",
       "      <td>5.0</td>\n",
       "      <td>2.75</td>\n",
       "      <td>2740</td>\n",
       "      <td>5616</td>\n",
       "      <td>1.5</td>\n",
       "      <td>0</td>\n",
       "      <td>0</td>\n",
       "      <td>5</td>\n",
       "      <td>1670</td>\n",
       "      <td>1070</td>\n",
       "      <td>1925</td>\n",
       "      <td>0</td>\n",
       "      <td>1013 NE 80th St</td>\n",
       "      <td>Seattle</td>\n",
       "      <td>WA 98115</td>\n",
       "      <td>USA</td>\n",
       "    </tr>\n",
       "    <tr>\n",
       "      <th>4453</th>\n",
       "      <td>2014-06-03 00:00:00</td>\n",
       "      <td>0.0</td>\n",
       "      <td>3.0</td>\n",
       "      <td>1.00</td>\n",
       "      <td>1300</td>\n",
       "      <td>6710</td>\n",
       "      <td>1.0</td>\n",
       "      <td>0</td>\n",
       "      <td>0</td>\n",
       "      <td>4</td>\n",
       "      <td>1300</td>\n",
       "      <td>0</td>\n",
       "      <td>1952</td>\n",
       "      <td>0</td>\n",
       "      <td>2760 72nd Ave SE</td>\n",
       "      <td>Mercer Island</td>\n",
       "      <td>WA 98040</td>\n",
       "      <td>USA</td>\n",
       "    </tr>\n",
       "    <tr>\n",
       "      <th>4454</th>\n",
       "      <td>2014-06-03 00:00:00</td>\n",
       "      <td>0.0</td>\n",
       "      <td>5.0</td>\n",
       "      <td>2.50</td>\n",
       "      <td>2090</td>\n",
       "      <td>4698</td>\n",
       "      <td>2.0</td>\n",
       "      <td>0</td>\n",
       "      <td>0</td>\n",
       "      <td>3</td>\n",
       "      <td>2090</td>\n",
       "      <td>0</td>\n",
       "      <td>1998</td>\n",
       "      <td>2006</td>\n",
       "      <td>27622 237th Pl SE</td>\n",
       "      <td>Maple Valley</td>\n",
       "      <td>WA 98038</td>\n",
       "      <td>USA</td>\n",
       "    </tr>\n",
       "    <tr>\n",
       "      <th>4472</th>\n",
       "      <td>2014-06-09 00:00:00</td>\n",
       "      <td>0.0</td>\n",
       "      <td>4.0</td>\n",
       "      <td>3.75</td>\n",
       "      <td>4060</td>\n",
       "      <td>19290</td>\n",
       "      <td>2.0</td>\n",
       "      <td>0</td>\n",
       "      <td>0</td>\n",
       "      <td>3</td>\n",
       "      <td>4060</td>\n",
       "      <td>0</td>\n",
       "      <td>2002</td>\n",
       "      <td>0</td>\n",
       "      <td>21418 SE 5th Pl</td>\n",
       "      <td>Sammamish</td>\n",
       "      <td>WA 98074</td>\n",
       "      <td>USA</td>\n",
       "    </tr>\n",
       "    <tr>\n",
       "      <th>4478</th>\n",
       "      <td>2014-06-11 00:00:00</td>\n",
       "      <td>0.0</td>\n",
       "      <td>5.0</td>\n",
       "      <td>2.75</td>\n",
       "      <td>2910</td>\n",
       "      <td>53898</td>\n",
       "      <td>1.0</td>\n",
       "      <td>0</td>\n",
       "      <td>0</td>\n",
       "      <td>5</td>\n",
       "      <td>1510</td>\n",
       "      <td>1400</td>\n",
       "      <td>1979</td>\n",
       "      <td>0</td>\n",
       "      <td>13505 208th Ave NE</td>\n",
       "      <td>Woodinville</td>\n",
       "      <td>WA 98077</td>\n",
       "      <td>USA</td>\n",
       "    </tr>\n",
       "    <tr>\n",
       "      <th>4479</th>\n",
       "      <td>2014-06-11 00:00:00</td>\n",
       "      <td>0.0</td>\n",
       "      <td>5.0</td>\n",
       "      <td>2.00</td>\n",
       "      <td>1910</td>\n",
       "      <td>7200</td>\n",
       "      <td>1.0</td>\n",
       "      <td>0</td>\n",
       "      <td>0</td>\n",
       "      <td>4</td>\n",
       "      <td>1110</td>\n",
       "      <td>800</td>\n",
       "      <td>1951</td>\n",
       "      <td>1999</td>\n",
       "      <td>11620-11698 57th Ave S</td>\n",
       "      <td>Seattle</td>\n",
       "      <td>WA 98178</td>\n",
       "      <td>USA</td>\n",
       "    </tr>\n",
       "    <tr>\n",
       "      <th>4480</th>\n",
       "      <td>2014-06-11 00:00:00</td>\n",
       "      <td>0.0</td>\n",
       "      <td>3.0</td>\n",
       "      <td>2.50</td>\n",
       "      <td>2880</td>\n",
       "      <td>13500</td>\n",
       "      <td>1.0</td>\n",
       "      <td>0</td>\n",
       "      <td>4</td>\n",
       "      <td>5</td>\n",
       "      <td>1520</td>\n",
       "      <td>1360</td>\n",
       "      <td>1950</td>\n",
       "      <td>0</td>\n",
       "      <td>9243 NE 20th St</td>\n",
       "      <td>Clyde Hill</td>\n",
       "      <td>WA 98004</td>\n",
       "      <td>USA</td>\n",
       "    </tr>\n",
       "    <tr>\n",
       "      <th>4481</th>\n",
       "      <td>2014-06-11 00:00:00</td>\n",
       "      <td>0.0</td>\n",
       "      <td>5.0</td>\n",
       "      <td>2.75</td>\n",
       "      <td>3240</td>\n",
       "      <td>6863</td>\n",
       "      <td>2.0</td>\n",
       "      <td>0</td>\n",
       "      <td>0</td>\n",
       "      <td>3</td>\n",
       "      <td>3240</td>\n",
       "      <td>0</td>\n",
       "      <td>2013</td>\n",
       "      <td>1923</td>\n",
       "      <td>1301-1303 Monterey Ave NE</td>\n",
       "      <td>Renton</td>\n",
       "      <td>WA 98056</td>\n",
       "      <td>USA</td>\n",
       "    </tr>\n",
       "    <tr>\n",
       "      <th>4487</th>\n",
       "      <td>2014-06-12 00:00:00</td>\n",
       "      <td>0.0</td>\n",
       "      <td>4.0</td>\n",
       "      <td>1.00</td>\n",
       "      <td>2080</td>\n",
       "      <td>3500</td>\n",
       "      <td>1.5</td>\n",
       "      <td>0</td>\n",
       "      <td>0</td>\n",
       "      <td>5</td>\n",
       "      <td>1260</td>\n",
       "      <td>820</td>\n",
       "      <td>1926</td>\n",
       "      <td>0</td>\n",
       "      <td>6506 40th Ave SW</td>\n",
       "      <td>Seattle</td>\n",
       "      <td>WA 98136</td>\n",
       "      <td>USA</td>\n",
       "    </tr>\n",
       "    <tr>\n",
       "      <th>4499</th>\n",
       "      <td>2014-06-17 00:00:00</td>\n",
       "      <td>0.0</td>\n",
       "      <td>5.0</td>\n",
       "      <td>3.75</td>\n",
       "      <td>3870</td>\n",
       "      <td>8225</td>\n",
       "      <td>2.0</td>\n",
       "      <td>0</td>\n",
       "      <td>0</td>\n",
       "      <td>3</td>\n",
       "      <td>3870</td>\n",
       "      <td>0</td>\n",
       "      <td>1998</td>\n",
       "      <td>2006</td>\n",
       "      <td>101-127 247th Ave SE</td>\n",
       "      <td>Sammamish</td>\n",
       "      <td>WA 98074</td>\n",
       "      <td>USA</td>\n",
       "    </tr>\n",
       "    <tr>\n",
       "      <th>4507</th>\n",
       "      <td>2014-06-18 00:00:00</td>\n",
       "      <td>0.0</td>\n",
       "      <td>4.0</td>\n",
       "      <td>1.50</td>\n",
       "      <td>2310</td>\n",
       "      <td>68824</td>\n",
       "      <td>2.0</td>\n",
       "      <td>0</td>\n",
       "      <td>0</td>\n",
       "      <td>4</td>\n",
       "      <td>2310</td>\n",
       "      <td>0</td>\n",
       "      <td>1968</td>\n",
       "      <td>0</td>\n",
       "      <td>29656 232nd Ave SE</td>\n",
       "      <td>Black Diamond</td>\n",
       "      <td>WA 98010</td>\n",
       "      <td>USA</td>\n",
       "    </tr>\n",
       "    <tr>\n",
       "      <th>4509</th>\n",
       "      <td>2014-06-18 00:00:00</td>\n",
       "      <td>0.0</td>\n",
       "      <td>6.0</td>\n",
       "      <td>3.00</td>\n",
       "      <td>3020</td>\n",
       "      <td>13783</td>\n",
       "      <td>2.0</td>\n",
       "      <td>0</td>\n",
       "      <td>0</td>\n",
       "      <td>3</td>\n",
       "      <td>3020</td>\n",
       "      <td>0</td>\n",
       "      <td>1952</td>\n",
       "      <td>2002</td>\n",
       "      <td>4115 85th Ave SE</td>\n",
       "      <td>Mercer Island</td>\n",
       "      <td>WA 98040</td>\n",
       "      <td>USA</td>\n",
       "    </tr>\n",
       "    <tr>\n",
       "      <th>4520</th>\n",
       "      <td>2014-06-20 00:00:00</td>\n",
       "      <td>0.0</td>\n",
       "      <td>4.0</td>\n",
       "      <td>2.50</td>\n",
       "      <td>1960</td>\n",
       "      <td>11600</td>\n",
       "      <td>1.0</td>\n",
       "      <td>0</td>\n",
       "      <td>0</td>\n",
       "      <td>5</td>\n",
       "      <td>980</td>\n",
       "      <td>980</td>\n",
       "      <td>1931</td>\n",
       "      <td>0</td>\n",
       "      <td>506 21st St SE</td>\n",
       "      <td>Auburn</td>\n",
       "      <td>WA 98002</td>\n",
       "      <td>USA</td>\n",
       "    </tr>\n",
       "    <tr>\n",
       "      <th>4521</th>\n",
       "      <td>2014-06-20 00:00:00</td>\n",
       "      <td>0.0</td>\n",
       "      <td>4.0</td>\n",
       "      <td>1.00</td>\n",
       "      <td>1810</td>\n",
       "      <td>7500</td>\n",
       "      <td>1.0</td>\n",
       "      <td>0</td>\n",
       "      <td>0</td>\n",
       "      <td>2</td>\n",
       "      <td>1410</td>\n",
       "      <td>400</td>\n",
       "      <td>1959</td>\n",
       "      <td>0</td>\n",
       "      <td>12231 Occidental Ave S</td>\n",
       "      <td>Seattle</td>\n",
       "      <td>WA 98168</td>\n",
       "      <td>USA</td>\n",
       "    </tr>\n",
       "    <tr>\n",
       "      <th>4522</th>\n",
       "      <td>2014-06-22 00:00:00</td>\n",
       "      <td>0.0</td>\n",
       "      <td>2.0</td>\n",
       "      <td>2.25</td>\n",
       "      <td>1490</td>\n",
       "      <td>6770</td>\n",
       "      <td>1.5</td>\n",
       "      <td>0</td>\n",
       "      <td>0</td>\n",
       "      <td>3</td>\n",
       "      <td>1490</td>\n",
       "      <td>0</td>\n",
       "      <td>1926</td>\n",
       "      <td>2003</td>\n",
       "      <td>4921 28th Ave S</td>\n",
       "      <td>Seattle</td>\n",
       "      <td>WA 98108</td>\n",
       "      <td>USA</td>\n",
       "    </tr>\n",
       "    <tr>\n",
       "      <th>4523</th>\n",
       "      <td>2014-06-23 00:00:00</td>\n",
       "      <td>0.0</td>\n",
       "      <td>3.0</td>\n",
       "      <td>4.50</td>\n",
       "      <td>5230</td>\n",
       "      <td>17826</td>\n",
       "      <td>2.0</td>\n",
       "      <td>1</td>\n",
       "      <td>4</td>\n",
       "      <td>3</td>\n",
       "      <td>3740</td>\n",
       "      <td>1490</td>\n",
       "      <td>2005</td>\n",
       "      <td>0</td>\n",
       "      <td>7455 W Mercer Way</td>\n",
       "      <td>Mercer Island</td>\n",
       "      <td>WA 98040</td>\n",
       "      <td>USA</td>\n",
       "    </tr>\n",
       "    <tr>\n",
       "      <th>4528</th>\n",
       "      <td>2014-06-24 00:00:00</td>\n",
       "      <td>0.0</td>\n",
       "      <td>4.0</td>\n",
       "      <td>5.00</td>\n",
       "      <td>4550</td>\n",
       "      <td>18641</td>\n",
       "      <td>1.0</td>\n",
       "      <td>1</td>\n",
       "      <td>4</td>\n",
       "      <td>3</td>\n",
       "      <td>2600</td>\n",
       "      <td>1950</td>\n",
       "      <td>2002</td>\n",
       "      <td>0</td>\n",
       "      <td>425 E Lake Sammamish Pkwy SE</td>\n",
       "      <td>Sammamish</td>\n",
       "      <td>WA 98074</td>\n",
       "      <td>USA</td>\n",
       "    </tr>\n",
       "    <tr>\n",
       "      <th>4534</th>\n",
       "      <td>2014-06-24 00:00:00</td>\n",
       "      <td>0.0</td>\n",
       "      <td>3.0</td>\n",
       "      <td>2.75</td>\n",
       "      <td>1310</td>\n",
       "      <td>7300</td>\n",
       "      <td>1.0</td>\n",
       "      <td>0</td>\n",
       "      <td>0</td>\n",
       "      <td>3</td>\n",
       "      <td>1310</td>\n",
       "      <td>0</td>\n",
       "      <td>1957</td>\n",
       "      <td>2000</td>\n",
       "      <td>16232 SE 10th St</td>\n",
       "      <td>Bellevue</td>\n",
       "      <td>WA 98008</td>\n",
       "      <td>USA</td>\n",
       "    </tr>\n",
       "    <tr>\n",
       "      <th>4542</th>\n",
       "      <td>2014-06-25 00:00:00</td>\n",
       "      <td>0.0</td>\n",
       "      <td>5.0</td>\n",
       "      <td>3.50</td>\n",
       "      <td>2640</td>\n",
       "      <td>6895</td>\n",
       "      <td>2.0</td>\n",
       "      <td>0</td>\n",
       "      <td>0</td>\n",
       "      <td>3</td>\n",
       "      <td>2640</td>\n",
       "      <td>0</td>\n",
       "      <td>2001</td>\n",
       "      <td>0</td>\n",
       "      <td>34529 SE Jay Ct</td>\n",
       "      <td>Snoqualmie</td>\n",
       "      <td>WA 98065</td>\n",
       "      <td>USA</td>\n",
       "    </tr>\n",
       "    <tr>\n",
       "      <th>4552</th>\n",
       "      <td>2014-06-26 00:00:00</td>\n",
       "      <td>0.0</td>\n",
       "      <td>4.0</td>\n",
       "      <td>2.00</td>\n",
       "      <td>2100</td>\n",
       "      <td>4857</td>\n",
       "      <td>2.0</td>\n",
       "      <td>0</td>\n",
       "      <td>0</td>\n",
       "      <td>3</td>\n",
       "      <td>2100</td>\n",
       "      <td>0</td>\n",
       "      <td>1965</td>\n",
       "      <td>1984</td>\n",
       "      <td>4500 NE 171st St</td>\n",
       "      <td>Lake Forest Park</td>\n",
       "      <td>WA 98155</td>\n",
       "      <td>USA</td>\n",
       "    </tr>\n",
       "    <tr>\n",
       "      <th>4554</th>\n",
       "      <td>2014-06-27 00:00:00</td>\n",
       "      <td>0.0</td>\n",
       "      <td>2.0</td>\n",
       "      <td>1.00</td>\n",
       "      <td>810</td>\n",
       "      <td>8424</td>\n",
       "      <td>1.0</td>\n",
       "      <td>0</td>\n",
       "      <td>0</td>\n",
       "      <td>4</td>\n",
       "      <td>810</td>\n",
       "      <td>0</td>\n",
       "      <td>1959</td>\n",
       "      <td>0</td>\n",
       "      <td>30401-30499 8th Ave SW</td>\n",
       "      <td>Federal Way</td>\n",
       "      <td>WA 98023</td>\n",
       "      <td>USA</td>\n",
       "    </tr>\n",
       "    <tr>\n",
       "      <th>4555</th>\n",
       "      <td>2014-06-27 00:00:00</td>\n",
       "      <td>0.0</td>\n",
       "      <td>2.0</td>\n",
       "      <td>1.50</td>\n",
       "      <td>1520</td>\n",
       "      <td>8040</td>\n",
       "      <td>1.0</td>\n",
       "      <td>0</td>\n",
       "      <td>0</td>\n",
       "      <td>5</td>\n",
       "      <td>1520</td>\n",
       "      <td>0</td>\n",
       "      <td>1951</td>\n",
       "      <td>0</td>\n",
       "      <td>11533 22nd Ave NE</td>\n",
       "      <td>Seattle</td>\n",
       "      <td>WA 98125</td>\n",
       "      <td>USA</td>\n",
       "    </tr>\n",
       "    <tr>\n",
       "      <th>4558</th>\n",
       "      <td>2014-06-28 00:00:00</td>\n",
       "      <td>0.0</td>\n",
       "      <td>4.0</td>\n",
       "      <td>4.25</td>\n",
       "      <td>3500</td>\n",
       "      <td>8750</td>\n",
       "      <td>1.0</td>\n",
       "      <td>0</td>\n",
       "      <td>4</td>\n",
       "      <td>5</td>\n",
       "      <td>2140</td>\n",
       "      <td>1360</td>\n",
       "      <td>1951</td>\n",
       "      <td>0</td>\n",
       "      <td>12725 8th Ave NW</td>\n",
       "      <td>Seattle</td>\n",
       "      <td>WA 98177</td>\n",
       "      <td>USA</td>\n",
       "    </tr>\n",
       "    <tr>\n",
       "      <th>4563</th>\n",
       "      <td>2014-07-01 00:00:00</td>\n",
       "      <td>0.0</td>\n",
       "      <td>2.0</td>\n",
       "      <td>2.25</td>\n",
       "      <td>2130</td>\n",
       "      <td>4920</td>\n",
       "      <td>1.5</td>\n",
       "      <td>0</td>\n",
       "      <td>4</td>\n",
       "      <td>4</td>\n",
       "      <td>1530</td>\n",
       "      <td>600</td>\n",
       "      <td>1941</td>\n",
       "      <td>1998</td>\n",
       "      <td>3428 60th Ave SW</td>\n",
       "      <td>Seattle</td>\n",
       "      <td>WA 98116</td>\n",
       "      <td>USA</td>\n",
       "    </tr>\n",
       "    <tr>\n",
       "      <th>4567</th>\n",
       "      <td>2014-07-02 00:00:00</td>\n",
       "      <td>0.0</td>\n",
       "      <td>4.0</td>\n",
       "      <td>2.50</td>\n",
       "      <td>4080</td>\n",
       "      <td>18362</td>\n",
       "      <td>2.0</td>\n",
       "      <td>0</td>\n",
       "      <td>2</td>\n",
       "      <td>4</td>\n",
       "      <td>4080</td>\n",
       "      <td>0</td>\n",
       "      <td>1983</td>\n",
       "      <td>0</td>\n",
       "      <td>2710 95th Ave NE</td>\n",
       "      <td>Clyde Hill</td>\n",
       "      <td>WA 98004</td>\n",
       "      <td>USA</td>\n",
       "    </tr>\n",
       "    <tr>\n",
       "      <th>4574</th>\n",
       "      <td>2014-07-02 00:00:00</td>\n",
       "      <td>0.0</td>\n",
       "      <td>3.0</td>\n",
       "      <td>1.00</td>\n",
       "      <td>1520</td>\n",
       "      <td>9030</td>\n",
       "      <td>1.0</td>\n",
       "      <td>0</td>\n",
       "      <td>0</td>\n",
       "      <td>3</td>\n",
       "      <td>1520</td>\n",
       "      <td>0</td>\n",
       "      <td>1956</td>\n",
       "      <td>2001</td>\n",
       "      <td>2533 155th Pl SE</td>\n",
       "      <td>Bellevue</td>\n",
       "      <td>WA 98007</td>\n",
       "      <td>USA</td>\n",
       "    </tr>\n",
       "    <tr>\n",
       "      <th>4575</th>\n",
       "      <td>2014-07-02 00:00:00</td>\n",
       "      <td>0.0</td>\n",
       "      <td>5.0</td>\n",
       "      <td>6.25</td>\n",
       "      <td>8020</td>\n",
       "      <td>21738</td>\n",
       "      <td>2.0</td>\n",
       "      <td>0</td>\n",
       "      <td>0</td>\n",
       "      <td>3</td>\n",
       "      <td>8020</td>\n",
       "      <td>0</td>\n",
       "      <td>2001</td>\n",
       "      <td>0</td>\n",
       "      <td>2 Crescent Key</td>\n",
       "      <td>Bellevue</td>\n",
       "      <td>WA 98006</td>\n",
       "      <td>USA</td>\n",
       "    </tr>\n",
       "    <tr>\n",
       "      <th>4588</th>\n",
       "      <td>2014-07-08 00:00:00</td>\n",
       "      <td>0.0</td>\n",
       "      <td>4.0</td>\n",
       "      <td>2.25</td>\n",
       "      <td>2890</td>\n",
       "      <td>18226</td>\n",
       "      <td>3.0</td>\n",
       "      <td>1</td>\n",
       "      <td>4</td>\n",
       "      <td>3</td>\n",
       "      <td>2890</td>\n",
       "      <td>0</td>\n",
       "      <td>1984</td>\n",
       "      <td>0</td>\n",
       "      <td>3227-3399 Mountain View Ave N</td>\n",
       "      <td>Renton</td>\n",
       "      <td>WA 98056</td>\n",
       "      <td>USA</td>\n",
       "    </tr>\n",
       "  </tbody>\n",
       "</table>\n",
       "</div>"
      ],
      "text/plain": [
       "                     date  price  bedrooms  bathrooms  sqft_living  sqft_lot  \\\n",
       "4354  2014-05-05 00:00:00    0.0       3.0       1.75         1490     10125   \n",
       "4356  2014-05-05 00:00:00    0.0       4.0       2.75         2600      5390   \n",
       "4357  2014-05-05 00:00:00    0.0       6.0       2.75         3200      9200   \n",
       "4358  2014-05-06 00:00:00    0.0       5.0       3.50         3480     36615   \n",
       "4361  2014-05-07 00:00:00    0.0       5.0       1.50         1500      7112   \n",
       "4362  2014-05-07 00:00:00    0.0       4.0       4.00         3680     18804   \n",
       "4374  2014-05-09 00:00:00    0.0       2.0       2.50         2200    188200   \n",
       "4376  2014-05-09 00:00:00    0.0       4.0       2.25         2170     10500   \n",
       "4382  2014-05-12 00:00:00    0.0       5.0       4.50         4630      6324   \n",
       "4383  2014-05-13 00:00:00    0.0       5.0       4.00         4430      9000   \n",
       "4385  2014-05-13 00:00:00    0.0       4.0       4.50         5030     11023   \n",
       "4386  2014-05-13 00:00:00    0.0       4.0       1.50         2180     22870   \n",
       "4389  2014-05-15 00:00:00    0.0       4.0       3.50         4210     10308   \n",
       "4394  2014-05-16 00:00:00    0.0       5.0       3.25         3690     12353   \n",
       "4405  2014-05-20 00:00:00    0.0       4.0       3.75         3300      4545   \n",
       "4408  2014-05-21 00:00:00    0.0       5.0       2.25         2880     11965   \n",
       "4411  2014-05-22 00:00:00    0.0       5.0       2.25         2000      7900   \n",
       "4412  2014-05-22 00:00:00    0.0       3.0       3.00         1860      7440   \n",
       "4413  2014-05-22 00:00:00    0.0       4.0       3.00         1990      6180   \n",
       "4420  2014-05-27 00:00:00    0.0       4.0       1.00         1360     13372   \n",
       "4442  2014-06-02 00:00:00    0.0       1.0       1.00          720      6000   \n",
       "4448  2014-06-03 00:00:00    0.0       5.0       2.75         2740      5616   \n",
       "4453  2014-06-03 00:00:00    0.0       3.0       1.00         1300      6710   \n",
       "4454  2014-06-03 00:00:00    0.0       5.0       2.50         2090      4698   \n",
       "4472  2014-06-09 00:00:00    0.0       4.0       3.75         4060     19290   \n",
       "4478  2014-06-11 00:00:00    0.0       5.0       2.75         2910     53898   \n",
       "4479  2014-06-11 00:00:00    0.0       5.0       2.00         1910      7200   \n",
       "4480  2014-06-11 00:00:00    0.0       3.0       2.50         2880     13500   \n",
       "4481  2014-06-11 00:00:00    0.0       5.0       2.75         3240      6863   \n",
       "4487  2014-06-12 00:00:00    0.0       4.0       1.00         2080      3500   \n",
       "4499  2014-06-17 00:00:00    0.0       5.0       3.75         3870      8225   \n",
       "4507  2014-06-18 00:00:00    0.0       4.0       1.50         2310     68824   \n",
       "4509  2014-06-18 00:00:00    0.0       6.0       3.00         3020     13783   \n",
       "4520  2014-06-20 00:00:00    0.0       4.0       2.50         1960     11600   \n",
       "4521  2014-06-20 00:00:00    0.0       4.0       1.00         1810      7500   \n",
       "4522  2014-06-22 00:00:00    0.0       2.0       2.25         1490      6770   \n",
       "4523  2014-06-23 00:00:00    0.0       3.0       4.50         5230     17826   \n",
       "4528  2014-06-24 00:00:00    0.0       4.0       5.00         4550     18641   \n",
       "4534  2014-06-24 00:00:00    0.0       3.0       2.75         1310      7300   \n",
       "4542  2014-06-25 00:00:00    0.0       5.0       3.50         2640      6895   \n",
       "4552  2014-06-26 00:00:00    0.0       4.0       2.00         2100      4857   \n",
       "4554  2014-06-27 00:00:00    0.0       2.0       1.00          810      8424   \n",
       "4555  2014-06-27 00:00:00    0.0       2.0       1.50         1520      8040   \n",
       "4558  2014-06-28 00:00:00    0.0       4.0       4.25         3500      8750   \n",
       "4563  2014-07-01 00:00:00    0.0       2.0       2.25         2130      4920   \n",
       "4567  2014-07-02 00:00:00    0.0       4.0       2.50         4080     18362   \n",
       "4574  2014-07-02 00:00:00    0.0       3.0       1.00         1520      9030   \n",
       "4575  2014-07-02 00:00:00    0.0       5.0       6.25         8020     21738   \n",
       "4588  2014-07-08 00:00:00    0.0       4.0       2.25         2890     18226   \n",
       "\n",
       "      floors  waterfront  view  condition  sqft_above  sqft_basement  \\\n",
       "4354     1.0           0     0          4        1490              0   \n",
       "4356     1.0           0     0          4        1300           1300   \n",
       "4357     1.0           0     2          4        1600           1600   \n",
       "4358     2.0           0     0          4        2490            990   \n",
       "4361     1.0           0     0          5         760            740   \n",
       "4362     2.0           0     0          3        3680              0   \n",
       "4374     1.0           0     3          3        2200              0   \n",
       "4376     1.0           0     2          4        1270            900   \n",
       "4382     2.0           0     0          3        3210           1420   \n",
       "4383     2.0           0     0          3        4430              0   \n",
       "4385     2.0           0     2          3        3250           1780   \n",
       "4386     1.0           0     0          4        1280            900   \n",
       "4389     2.0           0     0          3        4210              0   \n",
       "4394     2.0           0     0          5        3690              0   \n",
       "4405     1.5           0     4          3        2600            700   \n",
       "4408     2.0           0     0          4        2880              0   \n",
       "4411     1.0           0     0          4        1300            700   \n",
       "4412     1.0           0     0          5        1040            820   \n",
       "4413     2.0           0     0          3        1990              0   \n",
       "4420     1.0           0     0          3        1360              0   \n",
       "4442     1.0           0     0          3         720              0   \n",
       "4448     1.5           0     0          5        1670           1070   \n",
       "4453     1.0           0     0          4        1300              0   \n",
       "4454     2.0           0     0          3        2090              0   \n",
       "4472     2.0           0     0          3        4060              0   \n",
       "4478     1.0           0     0          5        1510           1400   \n",
       "4479     1.0           0     0          4        1110            800   \n",
       "4480     1.0           0     4          5        1520           1360   \n",
       "4481     2.0           0     0          3        3240              0   \n",
       "4487     1.5           0     0          5        1260            820   \n",
       "4499     2.0           0     0          3        3870              0   \n",
       "4507     2.0           0     0          4        2310              0   \n",
       "4509     2.0           0     0          3        3020              0   \n",
       "4520     1.0           0     0          5         980            980   \n",
       "4521     1.0           0     0          2        1410            400   \n",
       "4522     1.5           0     0          3        1490              0   \n",
       "4523     2.0           1     4          3        3740           1490   \n",
       "4528     1.0           1     4          3        2600           1950   \n",
       "4534     1.0           0     0          3        1310              0   \n",
       "4542     2.0           0     0          3        2640              0   \n",
       "4552     2.0           0     0          3        2100              0   \n",
       "4554     1.0           0     0          4         810              0   \n",
       "4555     1.0           0     0          5        1520              0   \n",
       "4558     1.0           0     4          5        2140           1360   \n",
       "4563     1.5           0     4          4        1530            600   \n",
       "4567     2.0           0     2          4        4080              0   \n",
       "4574     1.0           0     0          3        1520              0   \n",
       "4575     2.0           0     0          3        8020              0   \n",
       "4588     3.0           1     4          3        2890              0   \n",
       "\n",
       "      yr_built  yr_renovated                         street              city  \\\n",
       "4354      1962             0                3911 S 328th St       Federal Way   \n",
       "4356      1960          2001                2120 31st Ave W           Seattle   \n",
       "4357      1953          1983        12271 Marine View Dr SW            Burien   \n",
       "4358      1983             0               21809 SE 38th Pl          Issaquah   \n",
       "4361      1920             0        14901-14999 12th Ave SW            Burien   \n",
       "4362      1990          2009         1223-1237 244th Ave NE         Sammamish   \n",
       "4374      2007             0             39612 254th Ave SE          Enumclaw   \n",
       "4376      1960          2001                216 SW 183rd St     Normandy Park   \n",
       "4382      2006             0            6925 Oakmont Ave SE        Snoqualmie   \n",
       "4383      2013          1923                 9235 NE 5th St          Bellevue   \n",
       "4385      2008             0              4140 Boulevard Pl     Mercer Island   \n",
       "4386      1954          1975      31603 E Lake Morton Dr SE              Kent   \n",
       "4389      2006             0              2234 167th Ave SE          Bellevue   \n",
       "4394      1977             0              19055 35th Ave NE  Lake Forest Park   \n",
       "4405      1926          1999               3665 50th Ave NE           Seattle   \n",
       "4408      1990             0              25437 163rd Pl SE         Covington   \n",
       "4411      1986             0                3202 S 194th St            SeaTac   \n",
       "4412      1954             0               10744 62nd Ave S           Seattle   \n",
       "4413      1990          2009              32706 20th Ave SW       Federal Way   \n",
       "4420      1955          2005               18423 61st Pl NE           Kenmore   \n",
       "4442      1940          1996           1236 S Cloverdale St           Seattle   \n",
       "4448      1925             0                1013 NE 80th St           Seattle   \n",
       "4453      1952             0               2760 72nd Ave SE     Mercer Island   \n",
       "4454      1998          2006              27622 237th Pl SE      Maple Valley   \n",
       "4472      2002             0                21418 SE 5th Pl         Sammamish   \n",
       "4478      1979             0             13505 208th Ave NE       Woodinville   \n",
       "4479      1951          1999         11620-11698 57th Ave S           Seattle   \n",
       "4480      1950             0                9243 NE 20th St        Clyde Hill   \n",
       "4481      2013          1923      1301-1303 Monterey Ave NE            Renton   \n",
       "4487      1926             0               6506 40th Ave SW           Seattle   \n",
       "4499      1998          2006           101-127 247th Ave SE         Sammamish   \n",
       "4507      1968             0             29656 232nd Ave SE     Black Diamond   \n",
       "4509      1952          2002               4115 85th Ave SE     Mercer Island   \n",
       "4520      1931             0                 506 21st St SE            Auburn   \n",
       "4521      1959             0         12231 Occidental Ave S           Seattle   \n",
       "4522      1926          2003                4921 28th Ave S           Seattle   \n",
       "4523      2005             0              7455 W Mercer Way     Mercer Island   \n",
       "4528      2002             0   425 E Lake Sammamish Pkwy SE         Sammamish   \n",
       "4534      1957          2000               16232 SE 10th St          Bellevue   \n",
       "4542      2001             0                34529 SE Jay Ct        Snoqualmie   \n",
       "4552      1965          1984               4500 NE 171st St  Lake Forest Park   \n",
       "4554      1959             0         30401-30499 8th Ave SW       Federal Way   \n",
       "4555      1951             0              11533 22nd Ave NE           Seattle   \n",
       "4558      1951             0               12725 8th Ave NW           Seattle   \n",
       "4563      1941          1998               3428 60th Ave SW           Seattle   \n",
       "4567      1983             0               2710 95th Ave NE        Clyde Hill   \n",
       "4574      1956          2001               2533 155th Pl SE          Bellevue   \n",
       "4575      2001             0                 2 Crescent Key          Bellevue   \n",
       "4588      1984             0  3227-3399 Mountain View Ave N            Renton   \n",
       "\n",
       "      statezip country  \n",
       "4354  WA 98001     USA  \n",
       "4356  WA 98199     USA  \n",
       "4357  WA 98146     USA  \n",
       "4358  WA 98075     USA  \n",
       "4361  WA 98166     USA  \n",
       "4362  WA 98074     USA  \n",
       "4374  WA 98022     USA  \n",
       "4376  WA 98166     USA  \n",
       "4382  WA 98065     USA  \n",
       "4383  WA 98004     USA  \n",
       "4385  WA 98040     USA  \n",
       "4386  WA 98042     USA  \n",
       "4389  WA 98008     USA  \n",
       "4394  WA 98155     USA  \n",
       "4405  WA 98105     USA  \n",
       "4408  WA 98042     USA  \n",
       "4411  WA 98188     USA  \n",
       "4412  WA 98178     USA  \n",
       "4413  WA 98023     USA  \n",
       "4420  WA 98028     USA  \n",
       "4442  WA 98108     USA  \n",
       "4448  WA 98115     USA  \n",
       "4453  WA 98040     USA  \n",
       "4454  WA 98038     USA  \n",
       "4472  WA 98074     USA  \n",
       "4478  WA 98077     USA  \n",
       "4479  WA 98178     USA  \n",
       "4480  WA 98004     USA  \n",
       "4481  WA 98056     USA  \n",
       "4487  WA 98136     USA  \n",
       "4499  WA 98074     USA  \n",
       "4507  WA 98010     USA  \n",
       "4509  WA 98040     USA  \n",
       "4520  WA 98002     USA  \n",
       "4521  WA 98168     USA  \n",
       "4522  WA 98108     USA  \n",
       "4523  WA 98040     USA  \n",
       "4528  WA 98074     USA  \n",
       "4534  WA 98008     USA  \n",
       "4542  WA 98065     USA  \n",
       "4552  WA 98155     USA  \n",
       "4554  WA 98023     USA  \n",
       "4555  WA 98125     USA  \n",
       "4558  WA 98177     USA  \n",
       "4563  WA 98116     USA  \n",
       "4567  WA 98004     USA  \n",
       "4574  WA 98007     USA  \n",
       "4575  WA 98006     USA  \n",
       "4588  WA 98056     USA  "
      ]
     },
     "execution_count": 14,
     "metadata": {},
     "output_type": "execute_result"
    }
   ],
   "source": [
    "df[df[\"price\"]==0].head(50)"
   ]
  },
  {
   "cell_type": "code",
   "execution_count": 15,
   "metadata": {
    "execution": {
     "iopub.execute_input": "2021-01-05T18:08:51.320928Z",
     "iopub.status.busy": "2021-01-05T18:08:51.320313Z",
     "iopub.status.idle": "2021-01-05T18:08:51.589610Z",
     "shell.execute_reply": "2021-01-05T18:08:51.588834Z"
    },
    "papermill": {
     "duration": 0.358354,
     "end_time": "2021-01-05T18:08:51.589738",
     "exception": false,
     "start_time": "2021-01-05T18:08:51.231384",
     "status": "completed"
    },
    "tags": []
   },
   "outputs": [
    {
     "name": "stderr",
     "output_type": "stream",
     "text": [
      "C:\\Users\\DELL\\anaconda3\\lib\\site-packages\\seaborn\\distributions.py:2551: FutureWarning: `distplot` is a deprecated function and will be removed in a future version. Please adapt your code to use either `displot` (a figure-level function with similar flexibility) or `histplot` (an axes-level function for histograms).\n",
      "  warnings.warn(msg, FutureWarning)\n"
     ]
    },
    {
     "data": {
      "text/plain": [
       "Text(0.5, 1.0, 'Sqft_living for 0 price')"
      ]
     },
     "execution_count": 15,
     "metadata": {},
     "output_type": "execute_result"
    },
    {
     "data": {
      "image/png": "[encoded data removed]",
      "text/plain": [
       "<Figure size 1080x432 with 1 Axes>"
      ]
     },
     "metadata": {
      "needs_background": "light"
     },
     "output_type": "display_data"
    }
   ],
   "source": [
    "# plt.figure(figsize=(15,6))\n",
    "# ax = sns.distplot(df[df[\"price\"]==0].sqft_living)\n",
    "# ax.set_title('Sqft_living for 0 price', fontsize=14)"
   ]
  },
  {
   "cell_type": "markdown",
   "metadata": {
    "papermill": {
     "duration": 0.128139,
     "end_time": "2021-01-05T18:08:51.847754",
     "exception": false,
     "start_time": "2021-01-05T18:08:51.719615",
     "status": "completed"
    },
    "tags": []
   },
   "source": [
    "Majority of the 0 price house's sqft_living ranges between 1000-5000.\n",
    "\n",
    "We have to check its correlation with other columns also."
   ]
  },
  {
   "cell_type": "code",
   "execution_count": 16,
   "metadata": {
    "execution": {
     "iopub.execute_input": "2021-01-05T18:08:52.152787Z",
     "iopub.status.busy": "2021-01-05T18:08:52.151717Z",
     "iopub.status.idle": "2021-01-05T18:08:52.159928Z",
     "shell.execute_reply": "2021-01-05T18:08:52.160663Z"
    },
    "papermill": {
     "duration": 0.184969,
     "end_time": "2021-01-05T18:08:52.160818",
     "exception": false,
     "start_time": "2021-01-05T18:08:51.975849",
     "status": "completed"
    },
    "tags": []
   },
   "outputs": [
    {
     "data": {
      "text/html": [
       "<div>\n",
       "<style scoped>\n",
       "    .dataframe tbody tr th:only-of-type {\n",
       "        vertical-align: middle;\n",
       "    }\n",
       "\n",
       "    .dataframe tbody tr th {\n",
       "        vertical-align: top;\n",
       "    }\n",
       "\n",
       "    .dataframe thead th {\n",
       "        text-align: right;\n",
       "    }\n",
       "</style>\n",
       "<table border=\"1\" class=\"dataframe\">\n",
       "  <thead>\n",
       "    <tr style=\"text-align: right;\">\n",
       "      <th></th>\n",
       "      <th>date</th>\n",
       "      <th>price</th>\n",
       "      <th>bedrooms</th>\n",
       "      <th>bathrooms</th>\n",
       "      <th>sqft_living</th>\n",
       "      <th>sqft_lot</th>\n",
       "      <th>floors</th>\n",
       "      <th>waterfront</th>\n",
       "      <th>view</th>\n",
       "      <th>condition</th>\n",
       "      <th>sqft_above</th>\n",
       "      <th>sqft_basement</th>\n",
       "      <th>yr_built</th>\n",
       "      <th>yr_renovated</th>\n",
       "      <th>street</th>\n",
       "      <th>city</th>\n",
       "      <th>statezip</th>\n",
       "      <th>country</th>\n",
       "    </tr>\n",
       "  </thead>\n",
       "  <tbody>\n",
       "    <tr>\n",
       "      <th>min</th>\n",
       "      <td>2014-05-05 00:00:00</td>\n",
       "      <td>0.0</td>\n",
       "      <td>1.000000</td>\n",
       "      <td>1.00000</td>\n",
       "      <td>720.000000</td>\n",
       "      <td>3500.000000</td>\n",
       "      <td>1.0</td>\n",
       "      <td>0.000000</td>\n",
       "      <td>0.000000</td>\n",
       "      <td>2.000000</td>\n",
       "      <td>720.000000</td>\n",
       "      <td>0.000000</td>\n",
       "      <td>1920.000000</td>\n",
       "      <td>0.000000</td>\n",
       "      <td>101-127 247th Ave SE</td>\n",
       "      <td>Auburn</td>\n",
       "      <td>WA 98001</td>\n",
       "      <td>USA</td>\n",
       "    </tr>\n",
       "    <tr>\n",
       "      <th>max</th>\n",
       "      <td>2014-07-08 00:00:00</td>\n",
       "      <td>0.0</td>\n",
       "      <td>6.000000</td>\n",
       "      <td>6.25000</td>\n",
       "      <td>8020.000000</td>\n",
       "      <td>188200.000000</td>\n",
       "      <td>3.0</td>\n",
       "      <td>1.000000</td>\n",
       "      <td>4.000000</td>\n",
       "      <td>5.000000</td>\n",
       "      <td>8020.000000</td>\n",
       "      <td>1950.000000</td>\n",
       "      <td>2013.000000</td>\n",
       "      <td>2009.000000</td>\n",
       "      <td>9243 NE 20th St</td>\n",
       "      <td>Woodinville</td>\n",
       "      <td>WA 98199</td>\n",
       "      <td>USA</td>\n",
       "    </tr>\n",
       "    <tr>\n",
       "      <th>mean</th>\n",
       "      <td>NaN</td>\n",
       "      <td>0.0</td>\n",
       "      <td>3.979592</td>\n",
       "      <td>2.69898</td>\n",
       "      <td>2787.142857</td>\n",
       "      <td>16453.306122</td>\n",
       "      <td>1.5</td>\n",
       "      <td>0.061224</td>\n",
       "      <td>0.795918</td>\n",
       "      <td>3.673469</td>\n",
       "      <td>2295.714286</td>\n",
       "      <td>491.428571</td>\n",
       "      <td>1969.918367</td>\n",
       "      <td>812.714286</td>\n",
       "      <td>NaN</td>\n",
       "      <td>NaN</td>\n",
       "      <td>NaN</td>\n",
       "      <td>NaN</td>\n",
       "    </tr>\n",
       "    <tr>\n",
       "      <th>median</th>\n",
       "      <td>NaN</td>\n",
       "      <td>0.0</td>\n",
       "      <td>4.000000</td>\n",
       "      <td>2.50000</td>\n",
       "      <td>2600.000000</td>\n",
       "      <td>9000.000000</td>\n",
       "      <td>1.5</td>\n",
       "      <td>0.000000</td>\n",
       "      <td>0.000000</td>\n",
       "      <td>3.000000</td>\n",
       "      <td>1990.000000</td>\n",
       "      <td>0.000000</td>\n",
       "      <td>1962.000000</td>\n",
       "      <td>0.000000</td>\n",
       "      <td>NaN</td>\n",
       "      <td>NaN</td>\n",
       "      <td>NaN</td>\n",
       "      <td>NaN</td>\n",
       "    </tr>\n",
       "  </tbody>\n",
       "</table>\n",
       "</div>"
      ],
      "text/plain": [
       "                       date  price  bedrooms  bathrooms  sqft_living  \\\n",
       "min     2014-05-05 00:00:00    0.0  1.000000    1.00000   720.000000   \n",
       "max     2014-07-08 00:00:00    0.0  6.000000    6.25000  8020.000000   \n",
       "mean                    NaN    0.0  3.979592    2.69898  2787.142857   \n",
       "median                  NaN    0.0  4.000000    2.50000  2600.000000   \n",
       "\n",
       "             sqft_lot  floors  waterfront      view  condition   sqft_above  \\\n",
       "min       3500.000000     1.0    0.000000  0.000000   2.000000   720.000000   \n",
       "max     188200.000000     3.0    1.000000  4.000000   5.000000  8020.000000   \n",
       "mean     16453.306122     1.5    0.061224  0.795918   3.673469  2295.714286   \n",
       "median    9000.000000     1.5    0.000000  0.000000   3.000000  1990.000000   \n",
       "\n",
       "        sqft_basement     yr_built  yr_renovated                street  \\\n",
       "min          0.000000  1920.000000      0.000000  101-127 247th Ave SE   \n",
       "max       1950.000000  2013.000000   2009.000000       9243 NE 20th St   \n",
       "mean       491.428571  1969.918367    812.714286                   NaN   \n",
       "median       0.000000  1962.000000      0.000000                   NaN   \n",
       "\n",
       "               city  statezip country  \n",
       "min          Auburn  WA 98001     USA  \n",
       "max     Woodinville  WA 98199     USA  \n",
       "mean            NaN       NaN     NaN  \n",
       "median          NaN       NaN     NaN  "
      ]
     },
     "execution_count": 16,
     "metadata": {},
     "output_type": "execute_result"
    }
   ],
   "source": [
    "# df[df[\"price\"]==0].agg([min, max, 'mean', 'median'])"
   ]
  },
  {
   "cell_type": "markdown",
   "metadata": {
    "papermill": {
     "duration": 0.132299,
     "end_time": "2021-01-05T18:08:52.422049",
     "exception": false,
     "start_time": "2021-01-05T18:08:52.289750",
     "status": "completed"
    },
    "tags": []
   },
   "source": [
    "So, 0 price houses have ~4 bedrooms, ~2.5 bathrooms and ~2800 sqft living.\n",
    "\n",
    "As we discussed above these are some major columns on which price depends. So we'll use these to replace 0 prices of houses."
   ]
  },
  {
   "cell_type": "code",
   "execution_count": 17,
   "metadata": {
    "execution": {
     "iopub.execute_input": "2021-01-05T18:08:52.695085Z",
     "iopub.status.busy": "2021-01-05T18:08:52.694263Z",
     "iopub.status.idle": "2021-01-05T18:08:52.698839Z",
     "shell.execute_reply": "2021-01-05T18:08:52.698035Z"
    },
    "papermill": {
     "duration": 0.145548,
     "end_time": "2021-01-05T18:08:52.698967",
     "exception": false,
     "start_time": "2021-01-05T18:08:52.553419",
     "status": "completed"
    },
    "tags": []
   },
   "outputs": [],
   "source": [
    "# df1 = df[(df.bedrooms == 4) & (df.bathrooms > 1) & (df.bathrooms < 4) & (df.sqft_living > 2500) & \n",
    "#          (df.sqft_living < 3000) & (df.floors < 3) & (df.yr_built < 1970)]"
   ]
  },
  {
   "cell_type": "code",
   "execution_count": 18,
   "metadata": {
    "execution": {
     "iopub.execute_input": "2021-01-05T18:08:52.965271Z",
     "iopub.status.busy": "2021-01-05T18:08:52.963814Z",
     "iopub.status.idle": "2021-01-05T18:08:52.967843Z",
     "shell.execute_reply": "2021-01-05T18:08:52.968558Z"
    },
    "papermill": {
     "duration": 0.139733,
     "end_time": "2021-01-05T18:08:52.968723",
     "exception": false,
     "start_time": "2021-01-05T18:08:52.828990",
     "status": "completed"
    },
    "tags": []
   },
   "outputs": [],
   "source": [
    "# df1.shape"
   ]
  },
  {
   "cell_type": "code",
   "execution_count": 19,
   "metadata": {
    "execution": {
     "iopub.execute_input": "2021-01-05T18:08:53.225681Z",
     "iopub.status.busy": "2021-01-05T18:08:53.225027Z",
     "iopub.status.idle": "2021-01-05T18:08:53.229589Z",
     "shell.execute_reply": "2021-01-05T18:08:53.228931Z"
    },
    "papermill": {
     "duration": 0.130275,
     "end_time": "2021-01-05T18:08:53.229693",
     "exception": false,
     "start_time": "2021-01-05T18:08:53.099418",
     "status": "completed"
    },
    "tags": []
   },
   "outputs": [],
   "source": [
    "# df1.price.mean()"
   ]
  },
  {
   "cell_type": "code",
   "execution_count": 20,
   "metadata": {
    "execution": {
     "iopub.execute_input": "2021-01-05T18:08:53.411212Z",
     "iopub.status.busy": "2021-01-05T18:08:53.410579Z",
     "iopub.status.idle": "2021-01-05T18:08:53.415972Z",
     "shell.execute_reply": "2021-01-05T18:08:53.415350Z"
    },
    "papermill": {
     "duration": 0.099381,
     "end_time": "2021-01-05T18:08:53.416073",
     "exception": false,
     "start_time": "2021-01-05T18:08:53.316692",
     "status": "completed"
    },
    "tags": []
   },
   "outputs": [],
   "source": [
    "# df['price'].replace(to_replace = 0, value = 735000, inplace = True)\n",
    "# len(df[(df['price'] == 0)])"
   ]
  },
  {
   "cell_type": "code",
   "execution_count": 21,
   "metadata": {},
   "outputs": [],
   "source": [
    "df = df[df['price'] != 0]"
   ]
  },
  {
   "cell_type": "markdown",
   "metadata": {
    "papermill": {
     "duration": 0.085755,
     "end_time": "2021-01-05T18:08:53.588399",
     "exception": false,
     "start_time": "2021-01-05T18:08:53.502644",
     "status": "completed"
    },
    "tags": []
   },
   "source": [
    "And, it's done!!"
   ]
  },
  {
   "cell_type": "markdown",
   "metadata": {
    "papermill": {
     "duration": 0.087967,
     "end_time": "2021-01-05T18:08:53.763493",
     "exception": false,
     "start_time": "2021-01-05T18:08:53.675526",
     "status": "completed"
    },
    "tags": []
   },
   "source": [
    "Before moving forward let's quickly deal with 0 bedrooms and bathrooms."
   ]
  },
  {
   "cell_type": "code",
   "execution_count": 22,
   "metadata": {},
   "outputs": [],
   "source": [
    "df =df[(df['bedrooms']!=0) & (df['bathrooms']!=0)]"
   ]
  },
  {
   "cell_type": "markdown",
   "metadata": {
    "papermill": {
     "duration": 0.091909,
     "end_time": "2021-01-05T18:08:59.290624",
     "exception": false,
     "start_time": "2021-01-05T18:08:59.198715",
     "status": "completed"
    },
    "tags": []
   },
   "source": [
    "Alright then, we've dealt with 0s let's move forward"
   ]
  },
  {
   "cell_type": "code",
   "execution_count": 23,
   "metadata": {
    "execution": {
     "iopub.execute_input": "2021-01-05T18:08:59.490348Z",
     "iopub.status.busy": "2021-01-05T18:08:59.483656Z",
     "iopub.status.idle": "2021-01-05T18:10:01.978607Z",
     "shell.execute_reply": "2021-01-05T18:10:01.979134Z"
    },
    "papermill": {
     "duration": 62.59578,
     "end_time": "2021-01-05T18:10:01.979318",
     "exception": false,
     "start_time": "2021-01-05T18:08:59.383538",
     "status": "completed"
    },
    "tags": []
   },
   "outputs": [],
   "source": [
    "# ax = sns.pairplot(df)"
   ]
  },
  {
   "cell_type": "markdown",
   "metadata": {
    "papermill": {
     "duration": 0.1125,
     "end_time": "2021-01-05T18:10:02.203634",
     "exception": false,
     "start_time": "2021-01-05T18:10:02.091134",
     "status": "completed"
    },
    "tags": []
   },
   "source": [
    "There are alot of outliers can clearly observed!!\n",
    "\n",
    "Let's visualize it more clearly!"
   ]
  },
  {
   "cell_type": "code",
   "execution_count": 24,
   "metadata": {
    "execution": {
     "iopub.execute_input": "2021-01-05T18:10:02.467887Z",
     "iopub.status.busy": "2021-01-05T18:10:02.467261Z",
     "iopub.status.idle": "2021-01-05T18:10:02.849690Z",
     "shell.execute_reply": "2021-01-05T18:10:02.850194Z"
    },
    "papermill": {
     "duration": 0.498629,
     "end_time": "2021-01-05T18:10:02.850342",
     "exception": false,
     "start_time": "2021-01-05T18:10:02.351713",
     "status": "completed"
    },
    "tags": []
   },
   "outputs": [
    {
     "name": "stderr",
     "output_type": "stream",
     "text": [
      "C:\\Users\\DELL\\anaconda3\\lib\\site-packages\\seaborn\\distributions.py:2551: FutureWarning: `distplot` is a deprecated function and will be removed in a future version. Please adapt your code to use either `displot` (a figure-level function with similar flexibility) or `histplot` (an axes-level function for histograms).\n",
      "  warnings.warn(msg, FutureWarning)\n"
     ]
    },
    {
     "data": {
      "text/plain": [
       "Text(0.5, 1.0, 'Distplot of Price')"
      ]
     },
     "execution_count": 24,
     "metadata": {},
     "output_type": "execute_result"
    },
    {
     "data": {
      "image/png": "[encoded data removed]",
      "text/plain": [
       "<Figure size 1080x720 with 1 Axes>"
      ]
     },
     "metadata": {
      "needs_background": "light"
     },
     "output_type": "display_data"
    }
   ],
   "source": [
    "plt.figure(figsize=(15,10))\n",
    "ax = sns.distplot(df['price'], kde=True)\n",
    "ax.set_title('Distplot of Price', fontsize=14)"
   ]
  },
  {
   "cell_type": "markdown",
   "metadata": {
    "papermill": {
     "duration": 0.114735,
     "end_time": "2021-01-05T18:10:03.081438",
     "exception": false,
     "start_time": "2021-01-05T18:10:02.966703",
     "status": "completed"
    },
    "tags": []
   },
   "source": [
    "Highly negative skewed!! Can be treated by eleminating or replacing outliers.\n",
    "\n",
    "**Outliers**: Outliers are extreme values that deviate from other observations on data , they may indicate a variability in a measurement, experimental errors or a novelty. In other words, an outlier is an observation that diverges from an overall pattern on a sample.\n",
    "\n",
    "**How to detect them**:\n",
    "- Scatter plot\n",
    "- Box plot\n",
    "- Z score\n",
    "\n",
    "**Treatment**:\n",
    "- Z Score\n",
    "- IQR\n",
    "- Eleminating\n",
    "- Central Tendency Capping.\n",
    "\n",
    "**Z Score**: \n",
    "The z-score or standard score of an observation is a metric that indicates how many standard deviations a data point is from the sample’s mean, assuming a gaussian distribution. This makes z-score a parametric method. Very frequently data points are not to described by a gaussian distribution, this problem can be solved by applying transformations to data ie: scaling it."
   ]
  },
  {
   "cell_type": "code",
   "execution_count": 25,
   "metadata": {
    "execution": {
     "iopub.execute_input": "2021-01-05T18:10:03.313990Z",
     "iopub.status.busy": "2021-01-05T18:10:03.313353Z",
     "iopub.status.idle": "2021-01-05T18:10:03.326111Z",
     "shell.execute_reply": "2021-01-05T18:10:03.325525Z"
    },
    "papermill": {
     "duration": 0.129842,
     "end_time": "2021-01-05T18:10:03.326253",
     "exception": false,
     "start_time": "2021-01-05T18:10:03.196411",
     "status": "completed"
    },
    "tags": []
   },
   "outputs": [],
   "source": [
    "from scipy import stats\n",
    "df['price'] = df['price'].replace([data['price'][np.abs(stats.zscore(data['price'])) > 3]],np.median(df['price']))"
   ]
  },
  {
   "cell_type": "markdown",
   "metadata": {
    "papermill": {
     "duration": 0.114768,
     "end_time": "2021-01-05T18:10:03.557590",
     "exception": false,
     "start_time": "2021-01-05T18:10:03.442822",
     "status": "completed"
    },
    "tags": []
   },
   "source": [
    "Handling outliers of price columns. As, it is very important because at last we're predicting price and disturbance in its distribution might hit hard to our predictions."
   ]
  },
  {
   "cell_type": "code",
   "execution_count": 26,
   "metadata": {
    "execution": {
     "iopub.execute_input": "2021-01-05T18:10:03.824096Z",
     "iopub.status.busy": "2021-01-05T18:10:03.823212Z",
     "iopub.status.idle": "2021-01-05T18:10:04.123894Z",
     "shell.execute_reply": "2021-01-05T18:10:04.124436Z"
    },
    "papermill": {
     "duration": 0.45199,
     "end_time": "2021-01-05T18:10:04.124583",
     "exception": false,
     "start_time": "2021-01-05T18:10:03.672593",
     "status": "completed"
    },
    "tags": []
   },
   "outputs": [
    {
     "name": "stderr",
     "output_type": "stream",
     "text": [
      "C:\\Users\\DELL\\anaconda3\\lib\\site-packages\\seaborn\\distributions.py:2551: FutureWarning: `distplot` is a deprecated function and will be removed in a future version. Please adapt your code to use either `displot` (a figure-level function with similar flexibility) or `histplot` (an axes-level function for histograms).\n",
      "  warnings.warn(msg, FutureWarning)\n"
     ]
    },
    {
     "data": {
      "text/plain": [
       "Text(0.5, 1.0, 'Distplot of Price')"
      ]
     },
     "execution_count": 26,
     "metadata": {},
     "output_type": "execute_result"
    },
    {
     "data": {
      "image/png": "[encoded data removed]",
      "text/plain": [
       "<Figure size 1080x720 with 1 Axes>"
      ]
     },
     "metadata": {
      "needs_background": "light"
     },
     "output_type": "display_data"
    }
   ],
   "source": [
    "plt.figure(figsize=(15,10))\n",
    "ax = sns.distplot(df['price'], kde=True)\n",
    "ax.set_title('Distplot of Price', fontsize=14)"
   ]
  },
  {
   "cell_type": "markdown",
   "metadata": {
    "papermill": {
     "duration": 0.117856,
     "end_time": "2021-01-05T18:10:04.362403",
     "exception": false,
     "start_time": "2021-01-05T18:10:04.244547",
     "status": "completed"
    },
    "tags": []
   },
   "source": [
    "What a CHANGE!!\n",
    "Quickly Visualizing more columns."
   ]
  },
  {
   "cell_type": "code",
   "execution_count": 27,
   "metadata": {
    "execution": {
     "iopub.execute_input": "2021-01-05T18:10:04.614210Z",
     "iopub.status.busy": "2021-01-05T18:10:04.613482Z",
     "iopub.status.idle": "2021-01-05T18:10:04.882023Z",
     "shell.execute_reply": "2021-01-05T18:10:04.882609Z"
    },
    "papermill": {
     "duration": 0.403801,
     "end_time": "2021-01-05T18:10:04.882745",
     "exception": false,
     "start_time": "2021-01-05T18:10:04.478944",
     "status": "completed"
    },
    "tags": []
   },
   "outputs": [
    {
     "data": {
      "text/plain": [
       "Text(0.5, 1.0, 'Sqft_living VS Price')"
      ]
     },
     "execution_count": 27,
     "metadata": {},
     "output_type": "execute_result"
    },
    {
     "data": {
      "image/png": "[encoded data removed]",
      "text/plain": [
       "<Figure size 720x432 with 1 Axes>"
      ]
     },
     "metadata": {
      "needs_background": "light"
     },
     "output_type": "display_data"
    }
   ],
   "source": [
    "plt.figure(figsize=(10,6))\n",
    "ax = sns.scatterplot(data=df, x=\"sqft_living\", y=\"price\")\n",
    "ax.set_title('Sqft_living VS Price', fontsize=14)"
   ]
  },
  {
   "cell_type": "markdown",
   "metadata": {
    "papermill": {
     "duration": 0.119869,
     "end_time": "2021-01-05T18:10:05.126149",
     "exception": false,
     "start_time": "2021-01-05T18:10:05.006280",
     "status": "completed"
    },
    "tags": []
   },
   "source": [
    "As we can observe that many of the data is less than 6000. So, let's handle this uneven data.\n",
    "\n",
    "Removing outliers of Sqft_living using different approach."
   ]
  },
  {
   "cell_type": "code",
   "execution_count": 28,
   "metadata": {
    "execution": {
     "iopub.execute_input": "2021-01-05T18:10:05.373458Z",
     "iopub.status.busy": "2021-01-05T18:10:05.372733Z",
     "iopub.status.idle": "2021-01-05T18:10:05.376740Z",
     "shell.execute_reply": "2021-01-05T18:10:05.377233Z"
    },
    "papermill": {
     "duration": 0.131727,
     "end_time": "2021-01-05T18:10:05.377366",
     "exception": false,
     "start_time": "2021-01-05T18:10:05.245639",
     "status": "completed"
    },
    "tags": []
   },
   "outputs": [],
   "source": [
    "df['sqft_living'] = np.where((df.sqft_living >6000 ), 6000, df.sqft_living)"
   ]
  },
  {
   "cell_type": "markdown",
   "metadata": {
    "papermill": {
     "duration": 0.124583,
     "end_time": "2021-01-05T18:10:06.152408",
     "exception": false,
     "start_time": "2021-01-05T18:10:06.027825",
     "status": "completed"
    },
    "tags": []
   },
   "source": [
    "Similarly, doing with rest of the continuous columns."
   ]
  },
  {
   "cell_type": "code",
   "execution_count": 29,
   "metadata": {
    "execution": {
     "iopub.execute_input": "2021-01-05T18:10:06.520503Z",
     "iopub.status.busy": "2021-01-05T18:10:06.511744Z",
     "iopub.status.idle": "2021-01-05T18:10:06.771012Z",
     "shell.execute_reply": "2021-01-05T18:10:06.769930Z"
    },
    "papermill": {
     "duration": 0.443458,
     "end_time": "2021-01-05T18:10:06.771130",
     "exception": false,
     "start_time": "2021-01-05T18:10:06.327672",
     "status": "completed"
    },
    "tags": []
   },
   "outputs": [
    {
     "data": {
      "text/plain": [
       "Text(0.5, 1.0, 'Sqft_lot VS Price')"
      ]
     },
     "execution_count": 29,
     "metadata": {},
     "output_type": "execute_result"
    },
    {
     "data": {
      "image/png": "[encoded data removed]",
      "text/plain": [
       "<Figure size 720x432 with 1 Axes>"
      ]
     },
     "metadata": {
      "needs_background": "light"
     },
     "output_type": "display_data"
    }
   ],
   "source": [
    "plt.figure(figsize=(10,6))\n",
    "ax = sns.scatterplot(data=df, x=\"sqft_lot\", y=\"price\")\n",
    "ax.ticklabel_format(style='plain')\n",
    "ax.set_title('Sqft_lot VS Price', fontsize=14)"
   ]
  },
  {
   "cell_type": "markdown",
   "metadata": {
    "papermill": {
     "duration": 0.128815,
     "end_time": "2021-01-05T18:10:07.026125",
     "exception": false,
     "start_time": "2021-01-05T18:10:06.897310",
     "status": "completed"
    },
    "tags": []
   },
   "source": [
    "Too much disturbance in this column and also as we checked above is not much correlated to our dependent column price. So, I've decided to leave it as it is."
   ]
  },
  {
   "cell_type": "code",
   "execution_count": 30,
   "metadata": {
    "execution": {
     "iopub.execute_input": "2021-01-05T18:10:07.315005Z",
     "iopub.status.busy": "2021-01-05T18:10:07.307792Z",
     "iopub.status.idle": "2021-01-05T18:10:07.549774Z",
     "shell.execute_reply": "2021-01-05T18:10:07.550485Z"
    },
    "papermill": {
     "duration": 0.397955,
     "end_time": "2021-01-05T18:10:07.550654",
     "exception": false,
     "start_time": "2021-01-05T18:10:07.152699",
     "status": "completed"
    },
    "tags": []
   },
   "outputs": [
    {
     "data": {
      "text/plain": [
       "Text(0.5, 1.0, 'Sqft_above VS Price')"
      ]
     },
     "execution_count": 30,
     "metadata": {},
     "output_type": "execute_result"
    },
    {
     "data": {
      "image/png": "[encoded data removed]",
      "text/plain": [
       "<Figure size 720x432 with 1 Axes>"
      ]
     },
     "metadata": {
      "needs_background": "light"
     },
     "output_type": "display_data"
    }
   ],
   "source": [
    "plt.figure(figsize=(10,6))\n",
    "ax = sns.scatterplot(data=df, x=\"sqft_above\", y=\"price\")\n",
    "ax.ticklabel_format(style='plain')\n",
    "ax.set_title('Sqft_above VS Price', fontsize=14)"
   ]
  },
  {
   "cell_type": "code",
   "execution_count": 31,
   "metadata": {
    "execution": {
     "iopub.execute_input": "2021-01-05T18:10:07.917066Z",
     "iopub.status.busy": "2021-01-05T18:10:07.916266Z",
     "iopub.status.idle": "2021-01-05T18:10:07.921205Z",
     "shell.execute_reply": "2021-01-05T18:10:07.920482Z"
    },
    "papermill": {
     "duration": 0.190467,
     "end_time": "2021-01-05T18:10:07.921329",
     "exception": false,
     "start_time": "2021-01-05T18:10:07.730862",
     "status": "completed"
    },
    "tags": []
   },
   "outputs": [],
   "source": [
    "df['sqft_above'] = np.where((df.sqft_above >5000 ), 5000, df.sqft_above)"
   ]
  },
  {
   "cell_type": "code",
   "execution_count": 32,
   "metadata": {
    "execution": {
     "iopub.execute_input": "2021-01-05T18:10:08.296053Z",
     "iopub.status.busy": "2021-01-05T18:10:08.294424Z",
     "iopub.status.idle": "2021-01-05T18:10:08.504258Z",
     "shell.execute_reply": "2021-01-05T18:10:08.503641Z"
    },
    "papermill": {
     "duration": 0.404863,
     "end_time": "2021-01-05T18:10:08.504386",
     "exception": false,
     "start_time": "2021-01-05T18:10:08.099523",
     "status": "completed"
    },
    "tags": []
   },
   "outputs": [
    {
     "data": {
      "text/plain": [
       "Text(0.5, 1.0, 'Sqft_basement VS Price')"
      ]
     },
     "execution_count": 32,
     "metadata": {},
     "output_type": "execute_result"
    },
    {
     "data": {
      "image/png": "[encoded data removed]",
      "text/plain": [
       "<Figure size 1080x432 with 1 Axes>"
      ]
     },
     "metadata": {
      "needs_background": "light"
     },
     "output_type": "display_data"
    }
   ],
   "source": [
    "plt.figure(figsize=(15,6))\n",
    "ax = sns.scatterplot(data=df, x=\"sqft_basement\", y=\"price\")\n",
    "ax.ticklabel_format(style='plain')\n",
    "ax.set_title('Sqft_basement VS Price', fontsize=14)"
   ]
  },
  {
   "cell_type": "markdown",
   "metadata": {
    "papermill": {
     "duration": 0.131092,
     "end_time": "2021-01-05T18:10:08.765139",
     "exception": false,
     "start_time": "2021-01-05T18:10:08.634047",
     "status": "completed"
    },
    "tags": []
   },
   "source": [
    "Alot of 0's in sqft_basement but not an outliers because houses might have without basements.\n",
    "\n",
    "**Note**: `not all extreme points can be treated as outlier. May they are really an authentic data.`\n",
    "\n",
    "Still, let's make extreme large values near 2000."
   ]
  },
  {
   "cell_type": "code",
   "execution_count": 33,
   "metadata": {
    "execution": {
     "iopub.execute_input": "2021-01-05T18:10:09.032007Z",
     "iopub.status.busy": "2021-01-05T18:10:09.031421Z",
     "iopub.status.idle": "2021-01-05T18:10:09.034458Z",
     "shell.execute_reply": "2021-01-05T18:10:09.034943Z"
    },
    "papermill": {
     "duration": 0.140533,
     "end_time": "2021-01-05T18:10:09.035072",
     "exception": false,
     "start_time": "2021-01-05T18:10:08.894539",
     "status": "completed"
    },
    "tags": []
   },
   "outputs": [],
   "source": [
    "df['sqft_basement'] = np.where((df.sqft_basement >2000 ), 2000, df.sqft_basement)"
   ]
  },
  {
   "cell_type": "markdown",
   "metadata": {
    "papermill": {
     "duration": 0.13021,
     "end_time": "2021-01-05T18:10:09.296752",
     "exception": false,
     "start_time": "2021-01-05T18:10:09.166542",
     "status": "completed"
    },
    "tags": []
   },
   "source": [
    "Let's catch up with discrete variables."
   ]
  },
  {
   "cell_type": "code",
   "execution_count": 34,
   "metadata": {
    "execution": {
     "iopub.execute_input": "2021-01-05T18:10:09.564598Z",
     "iopub.status.busy": "2021-01-05T18:10:09.563286Z",
     "iopub.status.idle": "2021-01-05T18:10:10.773523Z",
     "shell.execute_reply": "2021-01-05T18:10:10.772820Z"
    },
    "papermill": {
     "duration": 1.347105,
     "end_time": "2021-01-05T18:10:10.773636",
     "exception": false,
     "start_time": "2021-01-05T18:10:09.426531",
     "status": "completed"
    },
    "tags": []
   },
   "outputs": [
    {
     "data": {
      "text/plain": [
       "Text(0.5, 1.0, 'Bedrooms VS Price')"
      ]
     },
     "execution_count": 34,
     "metadata": {},
     "output_type": "execute_result"
    },
    {
     "data": {
      "image/png": "[encoded data removed]",
      "text/plain": [
       "<Figure size 1080x432 with 1 Axes>"
      ]
     },
     "metadata": {
      "needs_background": "light"
     },
     "output_type": "display_data"
    }
   ],
   "source": [
    "plt.figure(figsize=(15,6))\n",
    "ax = sns.barplot(x=df['bedrooms'], y=df['price'])\n",
    "ax.set_xticklabels(ax.get_xticklabels(), rotation=0)\n",
    "ax.set_title('Bedrooms VS Price', fontsize=14)"
   ]
  },
  {
   "cell_type": "code",
   "execution_count": 35,
   "metadata": {
    "execution": {
     "iopub.execute_input": "2021-01-05T18:10:11.042578Z",
     "iopub.status.busy": "2021-01-05T18:10:11.041808Z",
     "iopub.status.idle": "2021-01-05T18:10:11.047641Z",
     "shell.execute_reply": "2021-01-05T18:10:11.048138Z"
    },
    "papermill": {
     "duration": 0.143758,
     "end_time": "2021-01-05T18:10:11.048284",
     "exception": false,
     "start_time": "2021-01-05T18:10:10.904526",
     "status": "completed"
    },
    "tags": []
   },
   "outputs": [
    {
     "data": {
      "text/plain": [
       "9"
      ]
     },
     "execution_count": 35,
     "metadata": {},
     "output_type": "execute_result"
    }
   ],
   "source": [
    "df['bedrooms'].nunique()"
   ]
  },
  {
   "cell_type": "code",
   "execution_count": 36,
   "metadata": {
    "execution": {
     "iopub.execute_input": "2021-01-05T18:10:11.323124Z",
     "iopub.status.busy": "2021-01-05T18:10:11.320381Z",
     "iopub.status.idle": "2021-01-05T18:10:11.338050Z",
     "shell.execute_reply": "2021-01-05T18:10:11.337414Z"
    },
    "papermill": {
     "duration": 0.15793,
     "end_time": "2021-01-05T18:10:11.338157",
     "exception": false,
     "start_time": "2021-01-05T18:10:11.180227",
     "status": "completed"
    },
    "tags": []
   },
   "outputs": [
    {
     "data": {
      "text/html": [
       "<div>\n",
       "<style scoped>\n",
       "    .dataframe tbody tr th:only-of-type {\n",
       "        vertical-align: middle;\n",
       "    }\n",
       "\n",
       "    .dataframe tbody tr th {\n",
       "        vertical-align: top;\n",
       "    }\n",
       "\n",
       "    .dataframe thead th {\n",
       "        text-align: right;\n",
       "    }\n",
       "</style>\n",
       "<table border=\"1\" class=\"dataframe\">\n",
       "  <thead>\n",
       "    <tr style=\"text-align: right;\">\n",
       "      <th></th>\n",
       "      <th>len</th>\n",
       "      <th>min</th>\n",
       "      <th>max</th>\n",
       "    </tr>\n",
       "    <tr>\n",
       "      <th>bedrooms</th>\n",
       "      <th></th>\n",
       "      <th></th>\n",
       "      <th></th>\n",
       "    </tr>\n",
       "  </thead>\n",
       "  <tbody>\n",
       "    <tr>\n",
       "      <th>1.0</th>\n",
       "      <td>37.0</td>\n",
       "      <td>80000.0</td>\n",
       "      <td>540000.0</td>\n",
       "    </tr>\n",
       "    <tr>\n",
       "      <th>2.0</th>\n",
       "      <td>561.0</td>\n",
       "      <td>7800.0</td>\n",
       "      <td>1695000.0</td>\n",
       "    </tr>\n",
       "    <tr>\n",
       "      <th>3.0</th>\n",
       "      <td>2025.0</td>\n",
       "      <td>83300.0</td>\n",
       "      <td>2147500.0</td>\n",
       "    </tr>\n",
       "    <tr>\n",
       "      <th>4.0</th>\n",
       "      <td>1512.0</td>\n",
       "      <td>84350.0</td>\n",
       "      <td>2199900.0</td>\n",
       "    </tr>\n",
       "    <tr>\n",
       "      <th>5.0</th>\n",
       "      <td>338.0</td>\n",
       "      <td>185000.0</td>\n",
       "      <td>2238888.0</td>\n",
       "    </tr>\n",
       "    <tr>\n",
       "      <th>6.0</th>\n",
       "      <td>59.0</td>\n",
       "      <td>175000.0</td>\n",
       "      <td>2180000.0</td>\n",
       "    </tr>\n",
       "    <tr>\n",
       "      <th>7.0</th>\n",
       "      <td>14.0</td>\n",
       "      <td>280000.0</td>\n",
       "      <td>1950000.0</td>\n",
       "    </tr>\n",
       "    <tr>\n",
       "      <th>8.0</th>\n",
       "      <td>2.0</td>\n",
       "      <td>340000.0</td>\n",
       "      <td>1970000.0</td>\n",
       "    </tr>\n",
       "    <tr>\n",
       "      <th>9.0</th>\n",
       "      <td>1.0</td>\n",
       "      <td>599999.0</td>\n",
       "      <td>599999.0</td>\n",
       "    </tr>\n",
       "  </tbody>\n",
       "</table>\n",
       "</div>"
      ],
      "text/plain": [
       "             len       min        max\n",
       "bedrooms                             \n",
       "1.0         37.0   80000.0   540000.0\n",
       "2.0        561.0    7800.0  1695000.0\n",
       "3.0       2025.0   83300.0  2147500.0\n",
       "4.0       1512.0   84350.0  2199900.0\n",
       "5.0        338.0  185000.0  2238888.0\n",
       "6.0         59.0  175000.0  2180000.0\n",
       "7.0         14.0  280000.0  1950000.0\n",
       "8.0          2.0  340000.0  1970000.0\n",
       "9.0          1.0  599999.0   599999.0"
      ]
     },
     "execution_count": 36,
     "metadata": {},
     "output_type": "execute_result"
    }
   ],
   "source": [
    "bedroom = df.groupby(['bedrooms']).price.agg([len, min, max])\n",
    "bedroom"
   ]
  },
  {
   "cell_type": "markdown",
   "metadata": {
    "papermill": {
     "duration": 0.13399,
     "end_time": "2021-01-05T18:10:11.608357",
     "exception": false,
     "start_time": "2021-01-05T18:10:11.474367",
     "status": "completed"
    },
    "tags": []
   },
   "source": [
    "Max price of 7,8,9 bedrooms are less than that of 6 bedrooms which is kind strange, but it might possible if the house is far from the main town or have some issues like paranormal activities like hollywood movies😂😂!!\n",
    "\n",
    "We can leave it as it ease or we can change it also!! I personally think let's deal with it because less than 20 rows have more than 6 bedrooms and it will might lead to disturbance in our distribution."
   ]
  },
  {
   "cell_type": "code",
   "execution_count": 37,
   "metadata": {
    "execution": {
     "iopub.execute_input": "2021-01-05T18:10:11.883835Z",
     "iopub.status.busy": "2021-01-05T18:10:11.882892Z",
     "iopub.status.idle": "2021-01-05T18:10:11.887657Z",
     "shell.execute_reply": "2021-01-05T18:10:11.886916Z"
    },
    "papermill": {
     "duration": 0.144871,
     "end_time": "2021-01-05T18:10:11.887773",
     "exception": false,
     "start_time": "2021-01-05T18:10:11.742902",
     "status": "completed"
    },
    "tags": []
   },
   "outputs": [],
   "source": [
    "df['bedrooms'] = np.where((df.bedrooms >6 ), 6, df.bedrooms)"
   ]
  },
  {
   "cell_type": "code",
   "execution_count": 38,
   "metadata": {
    "execution": {
     "iopub.execute_input": "2021-01-05T18:10:12.162011Z",
     "iopub.status.busy": "2021-01-05T18:10:12.161368Z",
     "iopub.status.idle": "2021-01-05T18:10:13.438605Z",
     "shell.execute_reply": "2021-01-05T18:10:13.439082Z"
    },
    "papermill": {
     "duration": 1.418675,
     "end_time": "2021-01-05T18:10:13.439269",
     "exception": false,
     "start_time": "2021-01-05T18:10:12.020594",
     "status": "completed"
    },
    "tags": []
   },
   "outputs": [
    {
     "data": {
      "text/plain": [
       "Text(0.5, 1.0, 'Bathrooms VS Price')"
      ]
     },
     "execution_count": 38,
     "metadata": {},
     "output_type": "execute_result"
    },
    {
     "data": {
      "image/png": "[encoded data removed]",
      "text/plain": [
       "<Figure size 1080x432 with 1 Axes>"
      ]
     },
     "metadata": {
      "needs_background": "light"
     },
     "output_type": "display_data"
    }
   ],
   "source": [
    "plt.figure(figsize=(15,6))\n",
    "ax = sns.barplot(x=df['bathrooms'], y=df['price'])\n",
    "ax.set_xticklabels(ax.get_xticklabels(), rotation=0)\n",
    "ax.set_title('Bathrooms VS Price', fontsize=14)"
   ]
  },
  {
   "cell_type": "code",
   "execution_count": 39,
   "metadata": {},
   "outputs": [
    {
     "data": {
      "text/html": [
       "<div>\n",
       "<style scoped>\n",
       "    .dataframe tbody tr th:only-of-type {\n",
       "        vertical-align: middle;\n",
       "    }\n",
       "\n",
       "    .dataframe tbody tr th {\n",
       "        vertical-align: top;\n",
       "    }\n",
       "\n",
       "    .dataframe thead th {\n",
       "        text-align: right;\n",
       "    }\n",
       "</style>\n",
       "<table border=\"1\" class=\"dataframe\">\n",
       "  <thead>\n",
       "    <tr style=\"text-align: right;\">\n",
       "      <th></th>\n",
       "      <th>len</th>\n",
       "      <th>min</th>\n",
       "      <th>max</th>\n",
       "    </tr>\n",
       "    <tr>\n",
       "      <th>bathrooms</th>\n",
       "      <th></th>\n",
       "      <th></th>\n",
       "      <th></th>\n",
       "    </tr>\n",
       "  </thead>\n",
       "  <tbody>\n",
       "    <tr>\n",
       "      <th>0.75</th>\n",
       "      <td>17.0</td>\n",
       "      <td>80000.0</td>\n",
       "      <td>562100.0</td>\n",
       "    </tr>\n",
       "    <tr>\n",
       "      <th>1.00</th>\n",
       "      <td>736.0</td>\n",
       "      <td>7800.0</td>\n",
       "      <td>2110000.0</td>\n",
       "    </tr>\n",
       "    <tr>\n",
       "      <th>1.25</th>\n",
       "      <td>3.0</td>\n",
       "      <td>321950.0</td>\n",
       "      <td>545000.0</td>\n",
       "    </tr>\n",
       "    <tr>\n",
       "      <th>1.50</th>\n",
       "      <td>287.0</td>\n",
       "      <td>107500.0</td>\n",
       "      <td>2199900.0</td>\n",
       "    </tr>\n",
       "    <tr>\n",
       "      <th>1.75</th>\n",
       "      <td>628.0</td>\n",
       "      <td>120750.0</td>\n",
       "      <td>2100000.0</td>\n",
       "    </tr>\n",
       "    <tr>\n",
       "      <th>2.00</th>\n",
       "      <td>425.0</td>\n",
       "      <td>83300.0</td>\n",
       "      <td>1755000.0</td>\n",
       "    </tr>\n",
       "    <tr>\n",
       "      <th>2.25</th>\n",
       "      <td>413.0</td>\n",
       "      <td>132250.0</td>\n",
       "      <td>2110000.0</td>\n",
       "    </tr>\n",
       "    <tr>\n",
       "      <th>2.50</th>\n",
       "      <td>1184.0</td>\n",
       "      <td>168000.0</td>\n",
       "      <td>1920000.0</td>\n",
       "    </tr>\n",
       "    <tr>\n",
       "      <th>2.75</th>\n",
       "      <td>270.0</td>\n",
       "      <td>188000.0</td>\n",
       "      <td>2180000.0</td>\n",
       "    </tr>\n",
       "    <tr>\n",
       "      <th>3.00</th>\n",
       "      <td>164.0</td>\n",
       "      <td>235000.0</td>\n",
       "      <td>1990000.0</td>\n",
       "    </tr>\n",
       "    <tr>\n",
       "      <th>3.25</th>\n",
       "      <td>135.0</td>\n",
       "      <td>300000.0</td>\n",
       "      <td>1900000.0</td>\n",
       "    </tr>\n",
       "    <tr>\n",
       "      <th>3.50</th>\n",
       "      <td>159.0</td>\n",
       "      <td>248000.0</td>\n",
       "      <td>2147500.0</td>\n",
       "    </tr>\n",
       "    <tr>\n",
       "      <th>3.75</th>\n",
       "      <td>34.0</td>\n",
       "      <td>195000.0</td>\n",
       "      <td>2065000.0</td>\n",
       "    </tr>\n",
       "    <tr>\n",
       "      <th>4.00</th>\n",
       "      <td>21.0</td>\n",
       "      <td>315000.0</td>\n",
       "      <td>2000000.0</td>\n",
       "    </tr>\n",
       "    <tr>\n",
       "      <th>4.25</th>\n",
       "      <td>22.0</td>\n",
       "      <td>465000.0</td>\n",
       "      <td>2000000.0</td>\n",
       "    </tr>\n",
       "    <tr>\n",
       "      <th>4.50</th>\n",
       "      <td>26.0</td>\n",
       "      <td>465000.0</td>\n",
       "      <td>2005000.0</td>\n",
       "    </tr>\n",
       "    <tr>\n",
       "      <th>4.75</th>\n",
       "      <td>7.0</td>\n",
       "      <td>465000.0</td>\n",
       "      <td>2200000.0</td>\n",
       "    </tr>\n",
       "    <tr>\n",
       "      <th>5.00</th>\n",
       "      <td>5.0</td>\n",
       "      <td>495000.0</td>\n",
       "      <td>1800000.0</td>\n",
       "    </tr>\n",
       "    <tr>\n",
       "      <th>5.25</th>\n",
       "      <td>4.0</td>\n",
       "      <td>300000.0</td>\n",
       "      <td>1681000.0</td>\n",
       "    </tr>\n",
       "    <tr>\n",
       "      <th>5.50</th>\n",
       "      <td>4.0</td>\n",
       "      <td>465000.0</td>\n",
       "      <td>2150000.0</td>\n",
       "    </tr>\n",
       "    <tr>\n",
       "      <th>5.75</th>\n",
       "      <td>1.0</td>\n",
       "      <td>540000.0</td>\n",
       "      <td>540000.0</td>\n",
       "    </tr>\n",
       "    <tr>\n",
       "      <th>6.25</th>\n",
       "      <td>1.0</td>\n",
       "      <td>465000.0</td>\n",
       "      <td>465000.0</td>\n",
       "    </tr>\n",
       "    <tr>\n",
       "      <th>6.50</th>\n",
       "      <td>1.0</td>\n",
       "      <td>2238888.0</td>\n",
       "      <td>2238888.0</td>\n",
       "    </tr>\n",
       "    <tr>\n",
       "      <th>6.75</th>\n",
       "      <td>1.0</td>\n",
       "      <td>465000.0</td>\n",
       "      <td>465000.0</td>\n",
       "    </tr>\n",
       "    <tr>\n",
       "      <th>8.00</th>\n",
       "      <td>1.0</td>\n",
       "      <td>465000.0</td>\n",
       "      <td>465000.0</td>\n",
       "    </tr>\n",
       "  </tbody>\n",
       "</table>\n",
       "</div>"
      ],
      "text/plain": [
       "              len        min        max\n",
       "bathrooms                              \n",
       "0.75         17.0    80000.0   562100.0\n",
       "1.00        736.0     7800.0  2110000.0\n",
       "1.25          3.0   321950.0   545000.0\n",
       "1.50        287.0   107500.0  2199900.0\n",
       "1.75        628.0   120750.0  2100000.0\n",
       "2.00        425.0    83300.0  1755000.0\n",
       "2.25        413.0   132250.0  2110000.0\n",
       "2.50       1184.0   168000.0  1920000.0\n",
       "2.75        270.0   188000.0  2180000.0\n",
       "3.00        164.0   235000.0  1990000.0\n",
       "3.25        135.0   300000.0  1900000.0\n",
       "3.50        159.0   248000.0  2147500.0\n",
       "3.75         34.0   195000.0  2065000.0\n",
       "4.00         21.0   315000.0  2000000.0\n",
       "4.25         22.0   465000.0  2000000.0\n",
       "4.50         26.0   465000.0  2005000.0\n",
       "4.75          7.0   465000.0  2200000.0\n",
       "5.00          5.0   495000.0  1800000.0\n",
       "5.25          4.0   300000.0  1681000.0\n",
       "5.50          4.0   465000.0  2150000.0\n",
       "5.75          1.0   540000.0   540000.0\n",
       "6.25          1.0   465000.0   465000.0\n",
       "6.50          1.0  2238888.0  2238888.0\n",
       "6.75          1.0   465000.0   465000.0\n",
       "8.00          1.0   465000.0   465000.0"
      ]
     },
     "execution_count": 39,
     "metadata": {},
     "output_type": "execute_result"
    }
   ],
   "source": [
    "df.groupby(['bathrooms']).price.agg([len, min, max])"
   ]
  },
  {
   "cell_type": "code",
   "execution_count": 40,
   "metadata": {
    "execution": {
     "iopub.execute_input": "2021-01-05T18:10:13.844893Z",
     "iopub.status.busy": "2021-01-05T18:10:13.843834Z",
     "iopub.status.idle": "2021-01-05T18:10:13.848999Z",
     "shell.execute_reply": "2021-01-05T18:10:13.848153Z"
    },
    "papermill": {
     "duration": 0.207372,
     "end_time": "2021-01-05T18:10:13.849128",
     "exception": false,
     "start_time": "2021-01-05T18:10:13.641756",
     "status": "completed"
    },
    "tags": []
   },
   "outputs": [
    {
     "data": {
      "text/plain": [
       "25"
      ]
     },
     "execution_count": 40,
     "metadata": {},
     "output_type": "execute_result"
    }
   ],
   "source": [
    "df['bathrooms'].nunique()"
   ]
  },
  {
   "cell_type": "markdown",
   "metadata": {
    "papermill": {
     "duration": 0.193527,
     "end_time": "2021-01-05T18:10:14.235480",
     "exception": false,
     "start_time": "2021-01-05T18:10:14.041953",
     "status": "completed"
    },
    "tags": []
   },
   "source": [
    "See, personally I don't have idea about 1.25, 1.75 kind of bethrooms but it doesn't seems an error because we have alot more entries like that."
   ]
  },
  {
   "cell_type": "code",
   "execution_count": 41,
   "metadata": {
    "execution": {
     "iopub.execute_input": "2021-01-05T18:10:14.622636Z",
     "iopub.status.busy": "2021-01-05T18:10:14.620302Z",
     "iopub.status.idle": "2021-01-05T18:10:14.627869Z",
     "shell.execute_reply": "2021-01-05T18:10:14.627014Z"
    },
    "papermill": {
     "duration": 0.203948,
     "end_time": "2021-01-05T18:10:14.628011",
     "exception": false,
     "start_time": "2021-01-05T18:10:14.424063",
     "status": "completed"
    },
    "tags": []
   },
   "outputs": [],
   "source": [
    "df['bathrooms'] = np.where((df.bathrooms == 0.75), 1, df.bathrooms)\n",
    "df['bathrooms'] = np.where((df.bathrooms == 1.25 ), 1, df.bathrooms)\n",
    "df['bathrooms'] = np.where((df.bathrooms > 4.75 ), 5, df.bathrooms)"
   ]
  },
  {
   "cell_type": "markdown",
   "metadata": {
    "papermill": {
     "duration": 0.137827,
     "end_time": "2021-01-05T18:10:14.986648",
     "exception": false,
     "start_time": "2021-01-05T18:10:14.848821",
     "status": "completed"
    },
    "tags": []
   },
   "source": [
    "I here replaced few of less occuring entries to decrease the skewness of our distribution."
   ]
  },
  {
   "cell_type": "code",
   "execution_count": 42,
   "metadata": {
    "execution": {
     "iopub.execute_input": "2021-01-05T18:10:15.264627Z",
     "iopub.status.busy": "2021-01-05T18:10:15.263736Z",
     "iopub.status.idle": "2021-01-05T18:10:15.619332Z",
     "shell.execute_reply": "2021-01-05T18:10:15.618721Z"
    },
    "papermill": {
     "duration": 0.496298,
     "end_time": "2021-01-05T18:10:15.619440",
     "exception": false,
     "start_time": "2021-01-05T18:10:15.123142",
     "status": "completed"
    },
    "tags": []
   },
   "outputs": [
    {
     "data": {
      "text/plain": [
       "Text(0.5, 1.0, 'Floors VS Price')"
      ]
     },
     "execution_count": 42,
     "metadata": {},
     "output_type": "execute_result"
    },
    {
     "data": {
      "image/png": "[encoded data removed]",
      "text/plain": [
       "<Figure size 1080x432 with 1 Axes>"
      ]
     },
     "metadata": {
      "needs_background": "light"
     },
     "output_type": "display_data"
    }
   ],
   "source": [
    "plt.figure(figsize=(15,6))\n",
    "ax = sns.barplot(x=df['floors'], y=df['price'])\n",
    "ax.set_xticklabels(ax.get_xticklabels(), rotation=0)\n",
    "ax.set_title('Floors VS Price', fontsize=14)"
   ]
  },
  {
   "cell_type": "markdown",
   "metadata": {
    "papermill": {
     "duration": 0.13715,
     "end_time": "2021-01-05T18:10:15.894011",
     "exception": false,
     "start_time": "2021-01-05T18:10:15.756861",
     "status": "completed"
    },
    "tags": []
   },
   "source": [
    "Maximum price is for 2.5 floors trailing by 3.5 floors."
   ]
  },
  {
   "cell_type": "code",
   "execution_count": 43,
   "metadata": {
    "execution": {
     "iopub.execute_input": "2021-01-05T18:10:16.174274Z",
     "iopub.status.busy": "2021-01-05T18:10:16.173264Z",
     "iopub.status.idle": "2021-01-05T18:10:16.189720Z",
     "shell.execute_reply": "2021-01-05T18:10:16.190416Z"
    },
    "papermill": {
     "duration": 0.160134,
     "end_time": "2021-01-05T18:10:16.190589",
     "exception": false,
     "start_time": "2021-01-05T18:10:16.030455",
     "status": "completed"
    },
    "tags": []
   },
   "outputs": [
    {
     "data": {
      "text/html": [
       "<div>\n",
       "<style scoped>\n",
       "    .dataframe tbody tr th:only-of-type {\n",
       "        vertical-align: middle;\n",
       "    }\n",
       "\n",
       "    .dataframe tbody tr th {\n",
       "        vertical-align: top;\n",
       "    }\n",
       "\n",
       "    .dataframe thead th {\n",
       "        text-align: right;\n",
       "    }\n",
       "</style>\n",
       "<table border=\"1\" class=\"dataframe\">\n",
       "  <thead>\n",
       "    <tr style=\"text-align: right;\">\n",
       "      <th></th>\n",
       "      <th>len</th>\n",
       "      <th>min</th>\n",
       "      <th>max</th>\n",
       "    </tr>\n",
       "    <tr>\n",
       "      <th>floors</th>\n",
       "      <th></th>\n",
       "      <th></th>\n",
       "      <th></th>\n",
       "    </tr>\n",
       "  </thead>\n",
       "  <tbody>\n",
       "    <tr>\n",
       "      <th>1.0</th>\n",
       "      <td>2151.0</td>\n",
       "      <td>7800.0</td>\n",
       "      <td>2199900.0</td>\n",
       "    </tr>\n",
       "    <tr>\n",
       "      <th>1.5</th>\n",
       "      <td>439.0</td>\n",
       "      <td>132500.0</td>\n",
       "      <td>2027000.0</td>\n",
       "    </tr>\n",
       "    <tr>\n",
       "      <th>2.0</th>\n",
       "      <td>1790.0</td>\n",
       "      <td>84350.0</td>\n",
       "      <td>2238888.0</td>\n",
       "    </tr>\n",
       "    <tr>\n",
       "      <th>2.5</th>\n",
       "      <td>41.0</td>\n",
       "      <td>195000.0</td>\n",
       "      <td>1990000.0</td>\n",
       "    </tr>\n",
       "    <tr>\n",
       "      <th>3.0</th>\n",
       "      <td>127.0</td>\n",
       "      <td>288790.0</td>\n",
       "      <td>2000000.0</td>\n",
       "    </tr>\n",
       "    <tr>\n",
       "      <th>3.5</th>\n",
       "      <td>1.0</td>\n",
       "      <td>563500.0</td>\n",
       "      <td>563500.0</td>\n",
       "    </tr>\n",
       "  </tbody>\n",
       "</table>\n",
       "</div>"
      ],
      "text/plain": [
       "           len       min        max\n",
       "floors                             \n",
       "1.0     2151.0    7800.0  2199900.0\n",
       "1.5      439.0  132500.0  2027000.0\n",
       "2.0     1790.0   84350.0  2238888.0\n",
       "2.5       41.0  195000.0  1990000.0\n",
       "3.0      127.0  288790.0  2000000.0\n",
       "3.5        1.0  563500.0   563500.0"
      ]
     },
     "execution_count": 43,
     "metadata": {},
     "output_type": "execute_result"
    }
   ],
   "source": [
    "floor = df.groupby(['floors']).price.agg([len , min, max])\n",
    "floor"
   ]
  },
  {
   "cell_type": "markdown",
   "metadata": {
    "papermill": {
     "duration": 0.191803,
     "end_time": "2021-01-05T18:10:16.573144",
     "exception": false,
     "start_time": "2021-01-05T18:10:16.381341",
     "status": "completed"
    },
    "tags": []
   },
   "source": [
    "Only two houses have 3.5 floors. Handling this by replacing it with 3.0 floors."
   ]
  },
  {
   "cell_type": "code",
   "execution_count": 44,
   "metadata": {
    "execution": {
     "iopub.execute_input": "2021-01-05T18:10:16.961101Z",
     "iopub.status.busy": "2021-01-05T18:10:16.960281Z",
     "iopub.status.idle": "2021-01-05T18:10:16.964127Z",
     "shell.execute_reply": "2021-01-05T18:10:16.963276Z"
    },
    "papermill": {
     "duration": 0.200793,
     "end_time": "2021-01-05T18:10:16.964277",
     "exception": false,
     "start_time": "2021-01-05T18:10:16.763484",
     "status": "completed"
    },
    "tags": []
   },
   "outputs": [],
   "source": [
    "df['floors'] = np.where((df.floors == 3.5 ), 3, df.floors)"
   ]
  },
  {
   "cell_type": "code",
   "execution_count": 45,
   "metadata": {
    "execution": {
     "iopub.execute_input": "2021-01-05T18:10:17.317648Z",
     "iopub.status.busy": "2021-01-05T18:10:17.316860Z",
     "iopub.status.idle": "2021-01-05T18:10:17.650457Z",
     "shell.execute_reply": "2021-01-05T18:10:17.648870Z"
    },
    "papermill": {
     "duration": 0.493732,
     "end_time": "2021-01-05T18:10:17.650619",
     "exception": false,
     "start_time": "2021-01-05T18:10:17.156887",
     "status": "completed"
    },
    "tags": []
   },
   "outputs": [
    {
     "data": {
      "text/plain": [
       "Text(0.5, 1.0, 'Waterfront VS Price')"
      ]
     },
     "execution_count": 45,
     "metadata": {},
     "output_type": "execute_result"
    },
    {
     "data": {
      "image/png": "[encoded data removed]",
      "text/plain": [
       "<Figure size 1080x432 with 1 Axes>"
      ]
     },
     "metadata": {
      "needs_background": "light"
     },
     "output_type": "display_data"
    }
   ],
   "source": [
    "plt.figure(figsize=(15,6))\n",
    "ax = sns.barplot(x=df['waterfront'], y=df['price'])\n",
    "ax.set_xticklabels(ax.get_xticklabels(), rotation=0)\n",
    "ax.set_title('Waterfront VS Price', fontsize=14)"
   ]
  },
  {
   "cell_type": "code",
   "execution_count": 46,
   "metadata": {
    "execution": {
     "iopub.execute_input": "2021-01-05T18:10:18.045972Z",
     "iopub.status.busy": "2021-01-05T18:10:18.045357Z",
     "iopub.status.idle": "2021-01-05T18:10:18.062123Z",
     "shell.execute_reply": "2021-01-05T18:10:18.061440Z"
    },
    "papermill": {
     "duration": 0.215811,
     "end_time": "2021-01-05T18:10:18.062280",
     "exception": false,
     "start_time": "2021-01-05T18:10:17.846469",
     "status": "completed"
    },
    "tags": []
   },
   "outputs": [
    {
     "data": {
      "text/html": [
       "<div>\n",
       "<style scoped>\n",
       "    .dataframe tbody tr th:only-of-type {\n",
       "        vertical-align: middle;\n",
       "    }\n",
       "\n",
       "    .dataframe tbody tr th {\n",
       "        vertical-align: top;\n",
       "    }\n",
       "\n",
       "    .dataframe thead th {\n",
       "        text-align: right;\n",
       "    }\n",
       "</style>\n",
       "<table border=\"1\" class=\"dataframe\">\n",
       "  <thead>\n",
       "    <tr style=\"text-align: right;\">\n",
       "      <th></th>\n",
       "      <th>len</th>\n",
       "      <th>min</th>\n",
       "      <th>max</th>\n",
       "    </tr>\n",
       "    <tr>\n",
       "      <th>waterfront</th>\n",
       "      <th></th>\n",
       "      <th></th>\n",
       "      <th></th>\n",
       "    </tr>\n",
       "  </thead>\n",
       "  <tbody>\n",
       "    <tr>\n",
       "      <th>0</th>\n",
       "      <td>4519.0</td>\n",
       "      <td>7800.0</td>\n",
       "      <td>2238888.0</td>\n",
       "    </tr>\n",
       "    <tr>\n",
       "      <th>1</th>\n",
       "      <td>30.0</td>\n",
       "      <td>385000.0</td>\n",
       "      <td>2200000.0</td>\n",
       "    </tr>\n",
       "  </tbody>\n",
       "</table>\n",
       "</div>"
      ],
      "text/plain": [
       "               len       min        max\n",
       "waterfront                             \n",
       "0           4519.0    7800.0  2238888.0\n",
       "1             30.0  385000.0  2200000.0"
      ]
     },
     "execution_count": 46,
     "metadata": {},
     "output_type": "execute_result"
    }
   ],
   "source": [
    "waterfront = df.groupby(['waterfront']).price.agg([len , min, max])\n",
    "waterfront"
   ]
  },
  {
   "cell_type": "markdown",
   "metadata": {
    "papermill": {
     "duration": 0.200563,
     "end_time": "2021-01-05T18:10:18.457984",
     "exception": false,
     "start_time": "2021-01-05T18:10:18.257421",
     "status": "completed"
    },
    "tags": []
   },
   "source": [
    "Clearly, houses with waterfront starts only with ~0.4million. No, changes for me in this column."
   ]
  },
  {
   "cell_type": "code",
   "execution_count": 47,
   "metadata": {
    "execution": {
     "iopub.execute_input": "2021-01-05T18:10:18.858861Z",
     "iopub.status.busy": "2021-01-05T18:10:18.856982Z",
     "iopub.status.idle": "2021-01-05T18:10:19.316109Z",
     "shell.execute_reply": "2021-01-05T18:10:19.316772Z"
    },
    "papermill": {
     "duration": 0.663272,
     "end_time": "2021-01-05T18:10:19.316906",
     "exception": false,
     "start_time": "2021-01-05T18:10:18.653634",
     "status": "completed"
    },
    "tags": []
   },
   "outputs": [
    {
     "data": {
      "text/plain": [
       "Text(0.5, 1.0, 'View VS Price')"
      ]
     },
     "execution_count": 47,
     "metadata": {},
     "output_type": "execute_result"
    },
    {
     "data": {
      "image/png": "[encoded data removed]",
      "text/plain": [
       "<Figure size 1080x432 with 1 Axes>"
      ]
     },
     "metadata": {
      "needs_background": "light"
     },
     "output_type": "display_data"
    }
   ],
   "source": [
    "plt.figure(figsize=(15,6))\n",
    "ax = sns.barplot(x=df['view'], y=df['price'])\n",
    "ax.set_xticklabels(ax.get_xticklabels(), rotation=0)\n",
    "ax.set_title('View VS Price', fontsize=14)"
   ]
  },
  {
   "cell_type": "code",
   "execution_count": 48,
   "metadata": {
    "execution": {
     "iopub.execute_input": "2021-01-05T18:10:19.601702Z",
     "iopub.status.busy": "2021-01-05T18:10:19.600944Z",
     "iopub.status.idle": "2021-01-05T18:10:19.622889Z",
     "shell.execute_reply": "2021-01-05T18:10:19.622164Z"
    },
    "papermill": {
     "duration": 0.16572,
     "end_time": "2021-01-05T18:10:19.623043",
     "exception": false,
     "start_time": "2021-01-05T18:10:19.457323",
     "status": "completed"
    },
    "tags": []
   },
   "outputs": [
    {
     "data": {
      "text/html": [
       "<div>\n",
       "<style scoped>\n",
       "    .dataframe tbody tr th:only-of-type {\n",
       "        vertical-align: middle;\n",
       "    }\n",
       "\n",
       "    .dataframe tbody tr th {\n",
       "        vertical-align: top;\n",
       "    }\n",
       "\n",
       "    .dataframe thead th {\n",
       "        text-align: right;\n",
       "    }\n",
       "</style>\n",
       "<table border=\"1\" class=\"dataframe\">\n",
       "  <thead>\n",
       "    <tr style=\"text-align: right;\">\n",
       "      <th></th>\n",
       "      <th>len</th>\n",
       "      <th>min</th>\n",
       "      <th>max</th>\n",
       "    </tr>\n",
       "    <tr>\n",
       "      <th>view</th>\n",
       "      <th></th>\n",
       "      <th></th>\n",
       "      <th></th>\n",
       "    </tr>\n",
       "  </thead>\n",
       "  <tbody>\n",
       "    <tr>\n",
       "      <th>0</th>\n",
       "      <td>4102.0</td>\n",
       "      <td>7800.000000</td>\n",
       "      <td>2238888.0</td>\n",
       "    </tr>\n",
       "    <tr>\n",
       "      <th>1</th>\n",
       "      <td>69.0</td>\n",
       "      <td>180785.714286</td>\n",
       "      <td>1965221.0</td>\n",
       "    </tr>\n",
       "    <tr>\n",
       "      <th>2</th>\n",
       "      <td>200.0</td>\n",
       "      <td>175000.000000</td>\n",
       "      <td>1925000.0</td>\n",
       "    </tr>\n",
       "    <tr>\n",
       "      <th>3</th>\n",
       "      <td>115.0</td>\n",
       "      <td>107500.000000</td>\n",
       "      <td>2180000.0</td>\n",
       "    </tr>\n",
       "    <tr>\n",
       "      <th>4</th>\n",
       "      <td>63.0</td>\n",
       "      <td>361000.000000</td>\n",
       "      <td>2200000.0</td>\n",
       "    </tr>\n",
       "  </tbody>\n",
       "</table>\n",
       "</div>"
      ],
      "text/plain": [
       "         len            min        max\n",
       "view                                  \n",
       "0     4102.0    7800.000000  2238888.0\n",
       "1       69.0  180785.714286  1965221.0\n",
       "2      200.0  175000.000000  1925000.0\n",
       "3      115.0  107500.000000  2180000.0\n",
       "4       63.0  361000.000000  2200000.0"
      ]
     },
     "execution_count": 48,
     "metadata": {},
     "output_type": "execute_result"
    }
   ],
   "source": [
    "view = df.groupby(['view']).price.agg([len , min, max])\n",
    "view"
   ]
  },
  {
   "cell_type": "markdown",
   "metadata": {
    "papermill": {
     "duration": 0.198024,
     "end_time": "2021-01-05T18:10:20.021434",
     "exception": false,
     "start_time": "2021-01-05T18:10:19.823410",
     "status": "completed"
    },
    "tags": []
   },
   "source": [
    "Well no need for any changes. 0 view is for houses having no sea facing view or anything like that. So it seems pretty authentic to me."
   ]
  },
  {
   "cell_type": "code",
   "execution_count": 49,
   "metadata": {
    "execution": {
     "iopub.execute_input": "2021-01-05T18:10:20.428925Z",
     "iopub.status.busy": "2021-01-05T18:10:20.427800Z",
     "iopub.status.idle": "2021-01-05T18:10:20.883622Z",
     "shell.execute_reply": "2021-01-05T18:10:20.884342Z"
    },
    "papermill": {
     "duration": 0.663859,
     "end_time": "2021-01-05T18:10:20.884515",
     "exception": false,
     "start_time": "2021-01-05T18:10:20.220656",
     "status": "completed"
    },
    "tags": []
   },
   "outputs": [
    {
     "data": {
      "text/plain": [
       "Text(0.5, 1.0, 'Condition VS Price')"
      ]
     },
     "execution_count": 49,
     "metadata": {},
     "output_type": "execute_result"
    },
    {
     "data": {
      "image/png": "[encoded data removed]",
      "text/plain": [
       "<Figure size 1080x432 with 1 Axes>"
      ]
     },
     "metadata": {
      "needs_background": "light"
     },
     "output_type": "display_data"
    }
   ],
   "source": [
    "plt.figure(figsize=(15,6))\n",
    "ax = sns.barplot(x=df['condition'], y=df['price'])\n",
    "ax.set_xticklabels(ax.get_xticklabels(), rotation=0)\n",
    "ax.set_title('Condition VS Price', fontsize=14)"
   ]
  },
  {
   "cell_type": "code",
   "execution_count": 50,
   "metadata": {
    "execution": {
     "iopub.execute_input": "2021-01-05T18:10:21.288783Z",
     "iopub.status.busy": "2021-01-05T18:10:21.287716Z",
     "iopub.status.idle": "2021-01-05T18:10:21.307461Z",
     "shell.execute_reply": "2021-01-05T18:10:21.306699Z"
    },
    "papermill": {
     "duration": 0.222459,
     "end_time": "2021-01-05T18:10:21.307588",
     "exception": false,
     "start_time": "2021-01-05T18:10:21.085129",
     "status": "completed"
    },
    "tags": []
   },
   "outputs": [
    {
     "data": {
      "text/html": [
       "<div>\n",
       "<style scoped>\n",
       "    .dataframe tbody tr th:only-of-type {\n",
       "        vertical-align: middle;\n",
       "    }\n",
       "\n",
       "    .dataframe tbody tr th {\n",
       "        vertical-align: top;\n",
       "    }\n",
       "\n",
       "    .dataframe thead th {\n",
       "        text-align: right;\n",
       "    }\n",
       "</style>\n",
       "<table border=\"1\" class=\"dataframe\">\n",
       "  <thead>\n",
       "    <tr style=\"text-align: right;\">\n",
       "      <th></th>\n",
       "      <th>len</th>\n",
       "      <th>min</th>\n",
       "      <th>max</th>\n",
       "    </tr>\n",
       "    <tr>\n",
       "      <th>condition</th>\n",
       "      <th></th>\n",
       "      <th></th>\n",
       "      <th></th>\n",
       "    </tr>\n",
       "  </thead>\n",
       "  <tbody>\n",
       "    <tr>\n",
       "      <th>1</th>\n",
       "      <td>6.0</td>\n",
       "      <td>7800.0</td>\n",
       "      <td>550000.0</td>\n",
       "    </tr>\n",
       "    <tr>\n",
       "      <th>2</th>\n",
       "      <td>31.0</td>\n",
       "      <td>80000.0</td>\n",
       "      <td>623000.0</td>\n",
       "    </tr>\n",
       "    <tr>\n",
       "      <th>3</th>\n",
       "      <td>2849.0</td>\n",
       "      <td>83000.0</td>\n",
       "      <td>2238888.0</td>\n",
       "    </tr>\n",
       "    <tr>\n",
       "      <th>4</th>\n",
       "      <td>1238.0</td>\n",
       "      <td>83300.0</td>\n",
       "      <td>2110000.0</td>\n",
       "    </tr>\n",
       "    <tr>\n",
       "      <th>5</th>\n",
       "      <td>425.0</td>\n",
       "      <td>83300.0</td>\n",
       "      <td>2147500.0</td>\n",
       "    </tr>\n",
       "  </tbody>\n",
       "</table>\n",
       "</div>"
      ],
      "text/plain": [
       "              len      min        max\n",
       "condition                            \n",
       "1             6.0   7800.0   550000.0\n",
       "2            31.0  80000.0   623000.0\n",
       "3          2849.0  83000.0  2238888.0\n",
       "4          1238.0  83300.0  2110000.0\n",
       "5           425.0  83300.0  2147500.0"
      ]
     },
     "execution_count": 50,
     "metadata": {},
     "output_type": "execute_result"
    }
   ],
   "source": [
    "condition = df.groupby(['condition']).price.agg([len , min, max])\n",
    "condition"
   ]
  },
  {
   "cell_type": "markdown",
   "metadata": {
    "papermill": {
     "duration": 0.200377,
     "end_time": "2021-01-05T18:10:21.712163",
     "exception": false,
     "start_time": "2021-01-05T18:10:21.511786",
     "status": "completed"
    },
    "tags": []
   },
   "source": [
    "Possibly the condition here is for the condition of house and I assuming 5 as best condition and 1 as the worst.\n",
    "\n",
    "But 1 has just 6 houses that means USA is a country of good conditioned houses.\n",
    "\n",
    "Well just one change for me to replace 1 with 2. That's all."
   ]
  },
  {
   "cell_type": "code",
   "execution_count": 51,
   "metadata": {
    "execution": {
     "iopub.execute_input": "2021-01-05T18:10:22.121124Z",
     "iopub.status.busy": "2021-01-05T18:10:22.119947Z",
     "iopub.status.idle": "2021-01-05T18:10:22.130109Z",
     "shell.execute_reply": "2021-01-05T18:10:22.129356Z"
    },
    "papermill": {
     "duration": 0.216298,
     "end_time": "2021-01-05T18:10:22.130269",
     "exception": false,
     "start_time": "2021-01-05T18:10:21.913971",
     "status": "completed"
    },
    "tags": []
   },
   "outputs": [],
   "source": [
    "df['condition'] = np.where((df.condition == 1 ), 2, df.condition)"
   ]
  },
  {
   "cell_type": "markdown",
   "metadata": {
    "papermill": {
     "duration": 0.205863,
     "end_time": "2021-01-05T18:10:22.536870",
     "exception": false,
     "start_time": "2021-01-05T18:10:22.331007",
     "status": "completed"
    },
    "tags": []
   },
   "source": [
    "Done with the Discrete columns here. Yr_built & yr_renovated are out of two least correlated columns with price. Thus, decided to leave them as it is."
   ]
  },
  {
   "cell_type": "markdown",
   "metadata": {
    "papermill": {
     "duration": 0.198219,
     "end_time": "2021-01-05T18:10:22.934285",
     "exception": false,
     "start_time": "2021-01-05T18:10:22.736066",
     "status": "completed"
    },
    "tags": []
   },
   "source": [
    "Let's quickly check prediction with these continuous columns only except sqft_lot, yr_built and yr_renovated."
   ]
  },
  {
   "cell_type": "code",
   "execution_count": null,
   "metadata": {},
   "outputs": [],
   "source": []
  },
  {
   "cell_type": "code",
   "execution_count": 52,
   "metadata": {
    "execution": {
     "iopub.execute_input": "2021-01-05T18:10:23.383746Z",
     "iopub.status.busy": "2021-01-05T18:10:23.382918Z",
     "iopub.status.idle": "2021-01-05T18:10:23.407784Z",
     "shell.execute_reply": "2021-01-05T18:10:23.407018Z"
    },
    "papermill": {
     "duration": 0.268026,
     "end_time": "2021-01-05T18:10:23.407927",
     "exception": false,
     "start_time": "2021-01-05T18:10:23.139901",
     "status": "completed"
    },
    "tags": []
   },
   "outputs": [
    {
     "data": {
      "text/plain": [
       "47.11151350950104"
      ]
     },
     "execution_count": 52,
     "metadata": {},
     "output_type": "execute_result"
    }
   ],
   "source": [
    "X = df.drop([\"date\",'street', 'city','statezip','sqft_lot','country','price','yr_built','yr_renovated'], axis=1)\n",
    "y = df[['price']]\n",
    "from sklearn.model_selection import train_test_split\n",
    "train_X, test_X, train_y, test_y= train_test_split(X,y, test_size=0.3, random_state=0)\n",
    "\n",
    "from sklearn.linear_model import LinearRegression\n",
    "mlrm = LinearRegression()\n",
    "\n",
    "mlrm.fit(train_X,train_y)\n",
    "\n",
    "mlrm.score(train_X, train_y)*100"
   ]
  },
  {
   "cell_type": "markdown",
   "metadata": {
    "papermill": {
     "duration": 0.20525,
     "end_time": "2021-01-05T18:10:23.815263",
     "exception": false,
     "start_time": "2021-01-05T18:10:23.610013",
     "status": "completed"
    },
    "tags": []
   },
   "source": [
    "Increased!!..."
   ]
  },
  {
   "cell_type": "markdown",
   "metadata": {
    "papermill": {
     "duration": 0.201394,
     "end_time": "2021-01-05T18:10:24.217128",
     "exception": false,
     "start_time": "2021-01-05T18:10:24.015734",
     "status": "completed"
    },
    "tags": []
   },
   "source": [
    "Time to drop few columns from our dataframe."
   ]
  },
  {
   "cell_type": "code",
   "execution_count": 53,
   "metadata": {
    "execution": {
     "iopub.execute_input": "2021-01-05T18:10:24.626034Z",
     "iopub.status.busy": "2021-01-05T18:10:24.624956Z",
     "iopub.status.idle": "2021-01-05T18:10:24.635138Z",
     "shell.execute_reply": "2021-01-05T18:10:24.635800Z"
    },
    "papermill": {
     "duration": 0.217753,
     "end_time": "2021-01-05T18:10:24.635970",
     "exception": false,
     "start_time": "2021-01-05T18:10:24.418217",
     "status": "completed"
    },
    "tags": []
   },
   "outputs": [],
   "source": [
    "df.drop([\"date\",'yr_built','yr_renovated','sqft_lot'], axis=1, inplace = True)"
   ]
  },
  {
   "cell_type": "code",
   "execution_count": 54,
   "metadata": {
    "execution": {
     "iopub.execute_input": "2021-01-05T18:10:26.913502Z",
     "iopub.status.busy": "2021-01-05T18:10:26.912676Z",
     "iopub.status.idle": "2021-01-05T18:10:26.933054Z",
     "shell.execute_reply": "2021-01-05T18:10:26.932228Z"
    },
    "papermill": {
     "duration": 0.22735,
     "end_time": "2021-01-05T18:10:26.933206",
     "exception": false,
     "start_time": "2021-01-05T18:10:26.705856",
     "status": "completed"
    },
    "tags": []
   },
   "outputs": [
    {
     "data": {
      "text/html": [
       "<div>\n",
       "<style scoped>\n",
       "    .dataframe tbody tr th:only-of-type {\n",
       "        vertical-align: middle;\n",
       "    }\n",
       "\n",
       "    .dataframe tbody tr th {\n",
       "        vertical-align: top;\n",
       "    }\n",
       "\n",
       "    .dataframe thead th {\n",
       "        text-align: right;\n",
       "    }\n",
       "</style>\n",
       "<table border=\"1\" class=\"dataframe\">\n",
       "  <thead>\n",
       "    <tr style=\"text-align: right;\">\n",
       "      <th></th>\n",
       "      <th>price</th>\n",
       "      <th>bedrooms</th>\n",
       "      <th>bathrooms</th>\n",
       "      <th>sqft_living</th>\n",
       "      <th>floors</th>\n",
       "      <th>waterfront</th>\n",
       "      <th>view</th>\n",
       "      <th>condition</th>\n",
       "      <th>sqft_above</th>\n",
       "      <th>sqft_basement</th>\n",
       "    </tr>\n",
       "  </thead>\n",
       "  <tbody>\n",
       "    <tr>\n",
       "      <th>price</th>\n",
       "      <td>1.000000</td>\n",
       "      <td>0.339034</td>\n",
       "      <td>0.503162</td>\n",
       "      <td>0.645863</td>\n",
       "      <td>0.274658</td>\n",
       "      <td>0.094322</td>\n",
       "      <td>0.335369</td>\n",
       "      <td>0.056096</td>\n",
       "      <td>0.556642</td>\n",
       "      <td>0.279241</td>\n",
       "    </tr>\n",
       "    <tr>\n",
       "      <th>bedrooms</th>\n",
       "      <td>0.339034</td>\n",
       "      <td>1.000000</td>\n",
       "      <td>0.543573</td>\n",
       "      <td>0.611428</td>\n",
       "      <td>0.181944</td>\n",
       "      <td>-0.005359</td>\n",
       "      <td>0.115529</td>\n",
       "      <td>0.021841</td>\n",
       "      <td>0.497108</td>\n",
       "      <td>0.330307</td>\n",
       "    </tr>\n",
       "    <tr>\n",
       "      <th>bathrooms</th>\n",
       "      <td>0.503162</td>\n",
       "      <td>0.543573</td>\n",
       "      <td>1.000000</td>\n",
       "      <td>0.758261</td>\n",
       "      <td>0.498072</td>\n",
       "      <td>0.059237</td>\n",
       "      <td>0.201841</td>\n",
       "      <td>-0.124986</td>\n",
       "      <td>0.688325</td>\n",
       "      <td>0.277754</td>\n",
       "    </tr>\n",
       "    <tr>\n",
       "      <th>sqft_living</th>\n",
       "      <td>0.645863</td>\n",
       "      <td>0.611428</td>\n",
       "      <td>0.758261</td>\n",
       "      <td>1.000000</td>\n",
       "      <td>0.349398</td>\n",
       "      <td>0.090017</td>\n",
       "      <td>0.301344</td>\n",
       "      <td>-0.063638</td>\n",
       "      <td>0.872987</td>\n",
       "      <td>0.425535</td>\n",
       "    </tr>\n",
       "    <tr>\n",
       "      <th>floors</th>\n",
       "      <td>0.274658</td>\n",
       "      <td>0.181944</td>\n",
       "      <td>0.498072</td>\n",
       "      <td>0.349398</td>\n",
       "      <td>1.000000</td>\n",
       "      <td>0.015939</td>\n",
       "      <td>0.030318</td>\n",
       "      <td>-0.276742</td>\n",
       "      <td>0.528965</td>\n",
       "      <td>-0.262263</td>\n",
       "    </tr>\n",
       "    <tr>\n",
       "      <th>waterfront</th>\n",
       "      <td>0.094322</td>\n",
       "      <td>-0.005359</td>\n",
       "      <td>0.059237</td>\n",
       "      <td>0.090017</td>\n",
       "      <td>0.015939</td>\n",
       "      <td>1.000000</td>\n",
       "      <td>0.347815</td>\n",
       "      <td>0.005963</td>\n",
       "      <td>0.066232</td>\n",
       "      <td>0.072375</td>\n",
       "    </tr>\n",
       "    <tr>\n",
       "      <th>view</th>\n",
       "      <td>0.335369</td>\n",
       "      <td>0.115529</td>\n",
       "      <td>0.201841</td>\n",
       "      <td>0.301344</td>\n",
       "      <td>0.030318</td>\n",
       "      <td>0.347815</td>\n",
       "      <td>1.000000</td>\n",
       "      <td>0.062653</td>\n",
       "      <td>0.169359</td>\n",
       "      <td>0.306185</td>\n",
       "    </tr>\n",
       "    <tr>\n",
       "      <th>condition</th>\n",
       "      <td>0.056096</td>\n",
       "      <td>0.021841</td>\n",
       "      <td>-0.124986</td>\n",
       "      <td>-0.063638</td>\n",
       "      <td>-0.276742</td>\n",
       "      <td>0.005963</td>\n",
       "      <td>0.062653</td>\n",
       "      <td>1.000000</td>\n",
       "      <td>-0.180060</td>\n",
       "      <td>0.203544</td>\n",
       "    </tr>\n",
       "    <tr>\n",
       "      <th>sqft_above</th>\n",
       "      <td>0.556642</td>\n",
       "      <td>0.497108</td>\n",
       "      <td>0.688325</td>\n",
       "      <td>0.872987</td>\n",
       "      <td>0.528965</td>\n",
       "      <td>0.066232</td>\n",
       "      <td>0.169359</td>\n",
       "      <td>-0.180060</td>\n",
       "      <td>1.000000</td>\n",
       "      <td>-0.066307</td>\n",
       "    </tr>\n",
       "    <tr>\n",
       "      <th>sqft_basement</th>\n",
       "      <td>0.279241</td>\n",
       "      <td>0.330307</td>\n",
       "      <td>0.277754</td>\n",
       "      <td>0.425535</td>\n",
       "      <td>-0.262263</td>\n",
       "      <td>0.072375</td>\n",
       "      <td>0.306185</td>\n",
       "      <td>0.203544</td>\n",
       "      <td>-0.066307</td>\n",
       "      <td>1.000000</td>\n",
       "    </tr>\n",
       "  </tbody>\n",
       "</table>\n",
       "</div>"
      ],
      "text/plain": [
       "                  price  bedrooms  bathrooms  sqft_living    floors  \\\n",
       "price          1.000000  0.339034   0.503162     0.645863  0.274658   \n",
       "bedrooms       0.339034  1.000000   0.543573     0.611428  0.181944   \n",
       "bathrooms      0.503162  0.543573   1.000000     0.758261  0.498072   \n",
       "sqft_living    0.645863  0.611428   0.758261     1.000000  0.349398   \n",
       "floors         0.274658  0.181944   0.498072     0.349398  1.000000   \n",
       "waterfront     0.094322 -0.005359   0.059237     0.090017  0.015939   \n",
       "view           0.335369  0.115529   0.201841     0.301344  0.030318   \n",
       "condition      0.056096  0.021841  -0.124986    -0.063638 -0.276742   \n",
       "sqft_above     0.556642  0.497108   0.688325     0.872987  0.528965   \n",
       "sqft_basement  0.279241  0.330307   0.277754     0.425535 -0.262263   \n",
       "\n",
       "               waterfront      view  condition  sqft_above  sqft_basement  \n",
       "price            0.094322  0.335369   0.056096    0.556642       0.279241  \n",
       "bedrooms        -0.005359  0.115529   0.021841    0.497108       0.330307  \n",
       "bathrooms        0.059237  0.201841  -0.124986    0.688325       0.277754  \n",
       "sqft_living      0.090017  0.301344  -0.063638    0.872987       0.425535  \n",
       "floors           0.015939  0.030318  -0.276742    0.528965      -0.262263  \n",
       "waterfront       1.000000  0.347815   0.005963    0.066232       0.072375  \n",
       "view             0.347815  1.000000   0.062653    0.169359       0.306185  \n",
       "condition        0.005963  0.062653   1.000000   -0.180060       0.203544  \n",
       "sqft_above       0.066232  0.169359  -0.180060    1.000000      -0.066307  \n",
       "sqft_basement    0.072375  0.306185   0.203544   -0.066307       1.000000  "
      ]
     },
     "execution_count": 54,
     "metadata": {},
     "output_type": "execute_result"
    }
   ],
   "source": [
    "df.corr()"
   ]
  },
  {
   "cell_type": "code",
   "execution_count": 55,
   "metadata": {
    "execution": {
     "iopub.execute_input": "2021-01-05T18:10:27.350533Z",
     "iopub.status.busy": "2021-01-05T18:10:27.349672Z",
     "iopub.status.idle": "2021-01-05T18:10:27.890315Z",
     "shell.execute_reply": "2021-01-05T18:10:27.889450Z"
    },
    "papermill": {
     "duration": 0.752037,
     "end_time": "2021-01-05T18:10:27.890449",
     "exception": false,
     "start_time": "2021-01-05T18:10:27.138412",
     "status": "completed"
    },
    "tags": []
   },
   "outputs": [
    {
     "data": {
      "text/plain": [
       "Text(0.5, 1.0, 'CORRELATION MATRIX')"
      ]
     },
     "execution_count": 55,
     "metadata": {},
     "output_type": "execute_result"
    },
    {
     "data": {
      "image/png": "[encoded data removed]",
      "text/plain": [
       "<Figure size 1080x432 with 2 Axes>"
      ]
     },
     "metadata": {
      "needs_background": "light"
     },
     "output_type": "display_data"
    }
   ],
   "source": [
    "plt.figure(figsize=(15,6))\n",
    "ax = sns.heatmap(df.corr(),annot = True)\n",
    "ax.set_title('CORRELATION MATRIX', fontsize=14)"
   ]
  },
  {
   "cell_type": "markdown",
   "metadata": {
    "papermill": {
     "duration": 0.209356,
     "end_time": "2021-01-05T18:10:28.310451",
     "exception": false,
     "start_time": "2021-01-05T18:10:28.101095",
     "status": "completed"
    },
    "tags": []
   },
   "source": [
    "Sqft_living and sqft_above are highly correlated but Sqft_abobe is less correlated with price. So we got our column which can be dropped."
   ]
  },
  {
   "cell_type": "markdown",
   "metadata": {
    "papermill": {
     "duration": 0.156276,
     "end_time": "2021-01-05T18:10:29.357685",
     "exception": false,
     "start_time": "2021-01-05T18:10:29.201409",
     "status": "completed"
    },
    "tags": []
   },
   "source": [
    "Now, as you all can notice in heatmap. Columns like condition and waterfront have less impressive correlation with our dependent variable. So that I've decided to drop them as well."
   ]
  },
  {
   "cell_type": "code",
   "execution_count": 56,
   "metadata": {
    "execution": {
     "iopub.execute_input": "2021-01-05T18:10:29.784981Z",
     "iopub.status.busy": "2021-01-05T18:10:29.784111Z",
     "iopub.status.idle": "2021-01-05T18:10:29.786713Z",
     "shell.execute_reply": "2021-01-05T18:10:29.787459Z"
    },
    "papermill": {
     "duration": 0.218848,
     "end_time": "2021-01-05T18:10:29.787630",
     "exception": false,
     "start_time": "2021-01-05T18:10:29.568782",
     "status": "completed"
    },
    "tags": []
   },
   "outputs": [],
   "source": [
    "df.drop(['waterfront','condition','sqft_above'],axis=1, inplace=True)"
   ]
  },
  {
   "cell_type": "code",
   "execution_count": 57,
   "metadata": {
    "execution": {
     "iopub.execute_input": "2021-01-05T18:10:30.221078Z",
     "iopub.status.busy": "2021-01-05T18:10:30.220450Z",
     "iopub.status.idle": "2021-01-05T18:10:30.225144Z",
     "shell.execute_reply": "2021-01-05T18:10:30.225779Z"
    },
    "papermill": {
     "duration": 0.230299,
     "end_time": "2021-01-05T18:10:30.225914",
     "exception": false,
     "start_time": "2021-01-05T18:10:29.995615",
     "status": "completed"
    },
    "tags": []
   },
   "outputs": [
    {
     "data": {
      "text/html": [
       "<div>\n",
       "<style scoped>\n",
       "    .dataframe tbody tr th:only-of-type {\n",
       "        vertical-align: middle;\n",
       "    }\n",
       "\n",
       "    .dataframe tbody tr th {\n",
       "        vertical-align: top;\n",
       "    }\n",
       "\n",
       "    .dataframe thead th {\n",
       "        text-align: right;\n",
       "    }\n",
       "</style>\n",
       "<table border=\"1\" class=\"dataframe\">\n",
       "  <thead>\n",
       "    <tr style=\"text-align: right;\">\n",
       "      <th></th>\n",
       "      <th>price</th>\n",
       "      <th>bedrooms</th>\n",
       "      <th>bathrooms</th>\n",
       "      <th>sqft_living</th>\n",
       "      <th>floors</th>\n",
       "      <th>view</th>\n",
       "      <th>sqft_basement</th>\n",
       "      <th>street</th>\n",
       "      <th>city</th>\n",
       "      <th>statezip</th>\n",
       "      <th>country</th>\n",
       "    </tr>\n",
       "  </thead>\n",
       "  <tbody>\n",
       "    <tr>\n",
       "      <th>0</th>\n",
       "      <td>313000.0</td>\n",
       "      <td>3.0</td>\n",
       "      <td>1.50</td>\n",
       "      <td>1340</td>\n",
       "      <td>1.5</td>\n",
       "      <td>0</td>\n",
       "      <td>0</td>\n",
       "      <td>18810 Densmore Ave N</td>\n",
       "      <td>Shoreline</td>\n",
       "      <td>WA 98133</td>\n",
       "      <td>USA</td>\n",
       "    </tr>\n",
       "    <tr>\n",
       "      <th>1</th>\n",
       "      <td>465000.0</td>\n",
       "      <td>5.0</td>\n",
       "      <td>2.50</td>\n",
       "      <td>3650</td>\n",
       "      <td>2.0</td>\n",
       "      <td>4</td>\n",
       "      <td>280</td>\n",
       "      <td>709 W Blaine St</td>\n",
       "      <td>Seattle</td>\n",
       "      <td>WA 98119</td>\n",
       "      <td>USA</td>\n",
       "    </tr>\n",
       "    <tr>\n",
       "      <th>2</th>\n",
       "      <td>342000.0</td>\n",
       "      <td>3.0</td>\n",
       "      <td>2.00</td>\n",
       "      <td>1930</td>\n",
       "      <td>1.0</td>\n",
       "      <td>0</td>\n",
       "      <td>0</td>\n",
       "      <td>26206-26214 143rd Ave SE</td>\n",
       "      <td>Kent</td>\n",
       "      <td>WA 98042</td>\n",
       "      <td>USA</td>\n",
       "    </tr>\n",
       "    <tr>\n",
       "      <th>3</th>\n",
       "      <td>420000.0</td>\n",
       "      <td>3.0</td>\n",
       "      <td>2.25</td>\n",
       "      <td>2000</td>\n",
       "      <td>1.0</td>\n",
       "      <td>0</td>\n",
       "      <td>1000</td>\n",
       "      <td>857 170th Pl NE</td>\n",
       "      <td>Bellevue</td>\n",
       "      <td>WA 98008</td>\n",
       "      <td>USA</td>\n",
       "    </tr>\n",
       "    <tr>\n",
       "      <th>4</th>\n",
       "      <td>550000.0</td>\n",
       "      <td>4.0</td>\n",
       "      <td>2.50</td>\n",
       "      <td>1940</td>\n",
       "      <td>1.0</td>\n",
       "      <td>0</td>\n",
       "      <td>800</td>\n",
       "      <td>9105 170th Ave NE</td>\n",
       "      <td>Redmond</td>\n",
       "      <td>WA 98052</td>\n",
       "      <td>USA</td>\n",
       "    </tr>\n",
       "  </tbody>\n",
       "</table>\n",
       "</div>"
      ],
      "text/plain": [
       "      price  bedrooms  bathrooms  sqft_living  floors  view  sqft_basement  \\\n",
       "0  313000.0       3.0       1.50         1340     1.5     0              0   \n",
       "1  465000.0       5.0       2.50         3650     2.0     4            280   \n",
       "2  342000.0       3.0       2.00         1930     1.0     0              0   \n",
       "3  420000.0       3.0       2.25         2000     1.0     0           1000   \n",
       "4  550000.0       4.0       2.50         1940     1.0     0            800   \n",
       "\n",
       "                     street       city  statezip country  \n",
       "0      18810 Densmore Ave N  Shoreline  WA 98133     USA  \n",
       "1           709 W Blaine St    Seattle  WA 98119     USA  \n",
       "2  26206-26214 143rd Ave SE       Kent  WA 98042     USA  \n",
       "3           857 170th Pl NE   Bellevue  WA 98008     USA  \n",
       "4         9105 170th Ave NE    Redmond  WA 98052     USA  "
      ]
     },
     "execution_count": 57,
     "metadata": {},
     "output_type": "execute_result"
    }
   ],
   "source": [
    "df.head()"
   ]
  },
  {
   "cell_type": "code",
   "execution_count": 58,
   "metadata": {
    "execution": {
     "iopub.execute_input": "2021-01-05T18:10:30.526373Z",
     "iopub.status.busy": "2021-01-05T18:10:30.525730Z",
     "iopub.status.idle": "2021-01-05T18:10:30.534872Z",
     "shell.execute_reply": "2021-01-05T18:10:30.535660Z"
    },
    "papermill": {
     "duration": 0.160765,
     "end_time": "2021-01-05T18:10:30.535820",
     "exception": false,
     "start_time": "2021-01-05T18:10:30.375055",
     "status": "completed"
    },
    "tags": []
   },
   "outputs": [
    {
     "data": {
      "text/plain": [
       "price            float64\n",
       "bedrooms         float64\n",
       "bathrooms        float64\n",
       "sqft_living        int64\n",
       "floors           float64\n",
       "view               int64\n",
       "sqft_basement      int64\n",
       "street            object\n",
       "city              object\n",
       "statezip          object\n",
       "country           object\n",
       "dtype: object"
      ]
     },
     "execution_count": 58,
     "metadata": {},
     "output_type": "execute_result"
    }
   ],
   "source": [
    "df.dtypes"
   ]
  },
  {
   "cell_type": "markdown",
   "metadata": {
    "papermill": {
     "duration": 0.210511,
     "end_time": "2021-01-05T18:10:30.957507",
     "exception": false,
     "start_time": "2021-01-05T18:10:30.746996",
     "status": "completed"
    },
    "tags": []
   },
   "source": [
    "Here is the end of EDA with continuous terms."
   ]
  },
  {
   "cell_type": "markdown",
   "metadata": {
    "papermill": {
     "duration": 0.210254,
     "end_time": "2021-01-05T18:10:31.377597",
     "exception": false,
     "start_time": "2021-01-05T18:10:31.167343",
     "status": "completed"
    },
    "tags": []
   },
   "source": [
    "Left with object types to handle. Let's start with country."
   ]
  },
  {
   "cell_type": "code",
   "execution_count": 59,
   "metadata": {
    "execution": {
     "iopub.execute_input": "2021-01-05T18:10:31.804317Z",
     "iopub.status.busy": "2021-01-05T18:10:31.803631Z",
     "iopub.status.idle": "2021-01-05T18:10:31.807702Z",
     "shell.execute_reply": "2021-01-05T18:10:31.808332Z"
    },
    "papermill": {
     "duration": 0.219625,
     "end_time": "2021-01-05T18:10:31.808469",
     "exception": false,
     "start_time": "2021-01-05T18:10:31.588844",
     "status": "completed"
    },
    "tags": []
   },
   "outputs": [
    {
     "data": {
      "text/plain": [
       "1"
      ]
     },
     "execution_count": 59,
     "metadata": {},
     "output_type": "execute_result"
    }
   ],
   "source": [
    "df['country'].nunique()"
   ]
  },
  {
   "cell_type": "markdown",
   "metadata": {
    "papermill": {
     "duration": 0.149655,
     "end_time": "2021-01-05T18:10:32.107861",
     "exception": false,
     "start_time": "2021-01-05T18:10:31.958206",
     "status": "completed"
    },
    "tags": []
   },
   "source": [
    "All the entries have common country, will never affect our dependent variable. Will drop it later."
   ]
  },
  {
   "cell_type": "code",
   "execution_count": 60,
   "metadata": {
    "execution": {
     "iopub.execute_input": "2021-01-05T18:10:32.411270Z",
     "iopub.status.busy": "2021-01-05T18:10:32.410581Z",
     "iopub.status.idle": "2021-01-05T18:10:32.421507Z",
     "shell.execute_reply": "2021-01-05T18:10:32.420823Z"
    },
    "papermill": {
     "duration": 0.163609,
     "end_time": "2021-01-05T18:10:32.421610",
     "exception": false,
     "start_time": "2021-01-05T18:10:32.258001",
     "status": "completed"
    },
    "tags": []
   },
   "outputs": [
    {
     "data": {
      "text/plain": [
       "4474"
      ]
     },
     "execution_count": 60,
     "metadata": {},
     "output_type": "execute_result"
    }
   ],
   "source": [
    "df['street'].nunique()"
   ]
  },
  {
   "cell_type": "markdown",
   "metadata": {
    "papermill": {
     "duration": 0.149348,
     "end_time": "2021-01-05T18:10:32.720343",
     "exception": false,
     "start_time": "2021-01-05T18:10:32.570995",
     "status": "completed"
    },
    "tags": []
   },
   "source": [
    "Too many unique values for 4600 entries, again will never affect our dependent variable. Will drop it later."
   ]
  },
  {
   "cell_type": "markdown",
   "metadata": {
    "papermill": {
     "duration": 0.152907,
     "end_time": "2021-01-05T18:10:33.024921",
     "exception": false,
     "start_time": "2021-01-05T18:10:32.872014",
     "status": "completed"
    },
    "tags": []
   },
   "source": [
    "Just left with city and statezip. Here we all know satezip and city are quite relateable things. Like every city has a unique zip code. So, we have to choose wisely one out of these two columns."
   ]
  },
  {
   "cell_type": "code",
   "execution_count": 61,
   "metadata": {
    "execution": {
     "iopub.execute_input": "2021-01-05T18:10:33.337523Z",
     "iopub.status.busy": "2021-01-05T18:10:33.336208Z",
     "iopub.status.idle": "2021-01-05T18:10:33.341169Z",
     "shell.execute_reply": "2021-01-05T18:10:33.341723Z"
    },
    "papermill": {
     "duration": 0.163519,
     "end_time": "2021-01-05T18:10:33.341856",
     "exception": false,
     "start_time": "2021-01-05T18:10:33.178337",
     "status": "completed"
    },
    "tags": []
   },
   "outputs": [
    {
     "data": {
      "text/plain": [
       "44"
      ]
     },
     "execution_count": 61,
     "metadata": {},
     "output_type": "execute_result"
    }
   ],
   "source": [
    "df['city'].nunique()"
   ]
  },
  {
   "cell_type": "code",
   "execution_count": 62,
   "metadata": {
    "execution": {
     "iopub.execute_input": "2021-01-05T18:10:33.647771Z",
     "iopub.status.busy": "2021-01-05T18:10:33.647133Z",
     "iopub.status.idle": "2021-01-05T18:10:33.654145Z",
     "shell.execute_reply": "2021-01-05T18:10:33.655119Z"
    },
    "papermill": {
     "duration": 0.162441,
     "end_time": "2021-01-05T18:10:33.655339",
     "exception": false,
     "start_time": "2021-01-05T18:10:33.492898",
     "status": "completed"
    },
    "tags": []
   },
   "outputs": [
    {
     "data": {
      "text/plain": [
       "77"
      ]
     },
     "execution_count": 62,
     "metadata": {},
     "output_type": "execute_result"
    }
   ],
   "source": [
    "df['statezip'].nunique()"
   ]
  },
  {
   "cell_type": "markdown",
   "metadata": {
    "papermill": {
     "duration": 0.149218,
     "end_time": "2021-01-05T18:10:33.956291",
     "exception": false,
     "start_time": "2021-01-05T18:10:33.807073",
     "status": "completed"
    },
    "tags": []
   },
   "source": [
    "As we can observe, city has 44 unique values and statezip has 77. Let's see which variable has more impact to price."
   ]
  },
  {
   "cell_type": "code",
   "execution_count": 63,
   "metadata": {
    "execution": {
     "iopub.execute_input": "2021-01-05T18:10:34.260708Z",
     "iopub.status.busy": "2021-01-05T18:10:34.259995Z",
     "iopub.status.idle": "2021-01-05T18:10:34.295445Z",
     "shell.execute_reply": "2021-01-05T18:10:34.295967Z"
    },
    "papermill": {
     "duration": 0.189703,
     "end_time": "2021-01-05T18:10:34.296115",
     "exception": false,
     "start_time": "2021-01-05T18:10:34.106412",
     "status": "completed"
    },
    "tags": []
   },
   "outputs": [
    {
     "data": {
      "text/html": [
       "<div>\n",
       "<style scoped>\n",
       "    .dataframe tbody tr th:only-of-type {\n",
       "        vertical-align: middle;\n",
       "    }\n",
       "\n",
       "    .dataframe tbody tr th {\n",
       "        vertical-align: top;\n",
       "    }\n",
       "\n",
       "    .dataframe thead th {\n",
       "        text-align: right;\n",
       "    }\n",
       "</style>\n",
       "<table border=\"1\" class=\"dataframe\">\n",
       "  <thead>\n",
       "    <tr style=\"text-align: right;\">\n",
       "      <th></th>\n",
       "      <th>len</th>\n",
       "      <th>min</th>\n",
       "      <th>max</th>\n",
       "    </tr>\n",
       "    <tr>\n",
       "      <th>city</th>\n",
       "      <th></th>\n",
       "      <th></th>\n",
       "      <th></th>\n",
       "    </tr>\n",
       "  </thead>\n",
       "  <tbody>\n",
       "    <tr>\n",
       "      <th>Algona</th>\n",
       "      <td>5.0</td>\n",
       "      <td>100000.000000</td>\n",
       "      <td>262000.0</td>\n",
       "    </tr>\n",
       "    <tr>\n",
       "      <th>Auburn</th>\n",
       "      <td>175.0</td>\n",
       "      <td>87500.000000</td>\n",
       "      <td>900000.0</td>\n",
       "    </tr>\n",
       "    <tr>\n",
       "      <th>Beaux Arts Village</th>\n",
       "      <td>1.0</td>\n",
       "      <td>745000.000000</td>\n",
       "      <td>745000.0</td>\n",
       "    </tr>\n",
       "    <tr>\n",
       "      <th>Bellevue</th>\n",
       "      <td>281.0</td>\n",
       "      <td>248000.000000</td>\n",
       "      <td>2150000.0</td>\n",
       "    </tr>\n",
       "    <tr>\n",
       "      <th>Black Diamond</th>\n",
       "      <td>8.0</td>\n",
       "      <td>224000.000000</td>\n",
       "      <td>650000.0</td>\n",
       "    </tr>\n",
       "    <tr>\n",
       "      <th>Bothell</th>\n",
       "      <td>33.0</td>\n",
       "      <td>347000.000000</td>\n",
       "      <td>749995.0</td>\n",
       "    </tr>\n",
       "    <tr>\n",
       "      <th>Burien</th>\n",
       "      <td>72.0</td>\n",
       "      <td>100000.000000</td>\n",
       "      <td>1035000.0</td>\n",
       "    </tr>\n",
       "    <tr>\n",
       "      <th>Carnation</th>\n",
       "      <td>22.0</td>\n",
       "      <td>80000.000000</td>\n",
       "      <td>1680000.0</td>\n",
       "    </tr>\n",
       "    <tr>\n",
       "      <th>Clyde Hill</th>\n",
       "      <td>9.0</td>\n",
       "      <td>465000.000000</td>\n",
       "      <td>1388000.0</td>\n",
       "    </tr>\n",
       "    <tr>\n",
       "      <th>Covington</th>\n",
       "      <td>42.0</td>\n",
       "      <td>83300.000000</td>\n",
       "      <td>2199900.0</td>\n",
       "    </tr>\n",
       "    <tr>\n",
       "      <th>Des Moines</th>\n",
       "      <td>58.0</td>\n",
       "      <td>140000.000000</td>\n",
       "      <td>950000.0</td>\n",
       "    </tr>\n",
       "    <tr>\n",
       "      <th>Duvall</th>\n",
       "      <td>42.0</td>\n",
       "      <td>117833.333333</td>\n",
       "      <td>955000.0</td>\n",
       "    </tr>\n",
       "    <tr>\n",
       "      <th>Enumclaw</th>\n",
       "      <td>27.0</td>\n",
       "      <td>107500.000000</td>\n",
       "      <td>687000.0</td>\n",
       "    </tr>\n",
       "    <tr>\n",
       "      <th>Fall City</th>\n",
       "      <td>11.0</td>\n",
       "      <td>275000.000000</td>\n",
       "      <td>1600000.0</td>\n",
       "    </tr>\n",
       "    <tr>\n",
       "      <th>Federal Way</th>\n",
       "      <td>145.0</td>\n",
       "      <td>120750.000000</td>\n",
       "      <td>819000.0</td>\n",
       "    </tr>\n",
       "    <tr>\n",
       "      <th>Inglewood-Finn Hill</th>\n",
       "      <td>1.0</td>\n",
       "      <td>425000.000000</td>\n",
       "      <td>425000.0</td>\n",
       "    </tr>\n",
       "    <tr>\n",
       "      <th>Issaquah</th>\n",
       "      <td>186.0</td>\n",
       "      <td>195000.000000</td>\n",
       "      <td>2238888.0</td>\n",
       "    </tr>\n",
       "    <tr>\n",
       "      <th>Kenmore</th>\n",
       "      <td>65.0</td>\n",
       "      <td>238750.000000</td>\n",
       "      <td>1120000.0</td>\n",
       "    </tr>\n",
       "    <tr>\n",
       "      <th>Kent</th>\n",
       "      <td>184.0</td>\n",
       "      <td>100000.000000</td>\n",
       "      <td>651000.0</td>\n",
       "    </tr>\n",
       "    <tr>\n",
       "      <th>Kirkland</th>\n",
       "      <td>187.0</td>\n",
       "      <td>90000.000000</td>\n",
       "      <td>1710000.0</td>\n",
       "    </tr>\n",
       "    <tr>\n",
       "      <th>Lake Forest Park</th>\n",
       "      <td>34.0</td>\n",
       "      <td>260000.000000</td>\n",
       "      <td>790000.0</td>\n",
       "    </tr>\n",
       "    <tr>\n",
       "      <th>Maple Valley</th>\n",
       "      <td>95.0</td>\n",
       "      <td>108333.333333</td>\n",
       "      <td>725000.0</td>\n",
       "    </tr>\n",
       "    <tr>\n",
       "      <th>Medina</th>\n",
       "      <td>11.0</td>\n",
       "      <td>188000.000000</td>\n",
       "      <td>2100000.0</td>\n",
       "    </tr>\n",
       "    <tr>\n",
       "      <th>Mercer Island</th>\n",
       "      <td>82.0</td>\n",
       "      <td>435000.000000</td>\n",
       "      <td>2027000.0</td>\n",
       "    </tr>\n",
       "    <tr>\n",
       "      <th>Milton</th>\n",
       "      <td>2.0</td>\n",
       "      <td>250000.000000</td>\n",
       "      <td>320000.0</td>\n",
       "    </tr>\n",
       "    <tr>\n",
       "      <th>Newcastle</th>\n",
       "      <td>33.0</td>\n",
       "      <td>339900.000000</td>\n",
       "      <td>1200000.0</td>\n",
       "    </tr>\n",
       "    <tr>\n",
       "      <th>Normandy Park</th>\n",
       "      <td>17.0</td>\n",
       "      <td>192000.000000</td>\n",
       "      <td>1309500.0</td>\n",
       "    </tr>\n",
       "    <tr>\n",
       "      <th>North Bend</th>\n",
       "      <td>50.0</td>\n",
       "      <td>240000.000000</td>\n",
       "      <td>845000.0</td>\n",
       "    </tr>\n",
       "    <tr>\n",
       "      <th>Pacific</th>\n",
       "      <td>6.0</td>\n",
       "      <td>174000.000000</td>\n",
       "      <td>260000.0</td>\n",
       "    </tr>\n",
       "    <tr>\n",
       "      <th>Preston</th>\n",
       "      <td>2.0</td>\n",
       "      <td>439900.000000</td>\n",
       "      <td>685000.0</td>\n",
       "    </tr>\n",
       "    <tr>\n",
       "      <th>Ravensdale</th>\n",
       "      <td>7.0</td>\n",
       "      <td>225000.000000</td>\n",
       "      <td>792500.0</td>\n",
       "    </tr>\n",
       "    <tr>\n",
       "      <th>Redmond</th>\n",
       "      <td>234.0</td>\n",
       "      <td>170000.000000</td>\n",
       "      <td>1700000.0</td>\n",
       "    </tr>\n",
       "    <tr>\n",
       "      <th>Renton</th>\n",
       "      <td>291.0</td>\n",
       "      <td>100000.000000</td>\n",
       "      <td>1135250.0</td>\n",
       "    </tr>\n",
       "    <tr>\n",
       "      <th>Sammamish</th>\n",
       "      <td>171.0</td>\n",
       "      <td>237333.333333</td>\n",
       "      <td>2000000.0</td>\n",
       "    </tr>\n",
       "    <tr>\n",
       "      <th>SeaTac</th>\n",
       "      <td>28.0</td>\n",
       "      <td>110700.000000</td>\n",
       "      <td>489000.0</td>\n",
       "    </tr>\n",
       "    <tr>\n",
       "      <th>Seattle</th>\n",
       "      <td>1560.0</td>\n",
       "      <td>90000.000000</td>\n",
       "      <td>2180000.0</td>\n",
       "    </tr>\n",
       "    <tr>\n",
       "      <th>Shoreline</th>\n",
       "      <td>123.0</td>\n",
       "      <td>176225.000000</td>\n",
       "      <td>2005000.0</td>\n",
       "    </tr>\n",
       "    <tr>\n",
       "      <th>Skykomish</th>\n",
       "      <td>3.0</td>\n",
       "      <td>134000.000000</td>\n",
       "      <td>415000.0</td>\n",
       "    </tr>\n",
       "    <tr>\n",
       "      <th>Snoqualmie</th>\n",
       "      <td>69.0</td>\n",
       "      <td>235000.000000</td>\n",
       "      <td>1149000.0</td>\n",
       "    </tr>\n",
       "    <tr>\n",
       "      <th>Snoqualmie Pass</th>\n",
       "      <td>1.0</td>\n",
       "      <td>525000.000000</td>\n",
       "      <td>525000.0</td>\n",
       "    </tr>\n",
       "    <tr>\n",
       "      <th>Tukwila</th>\n",
       "      <td>29.0</td>\n",
       "      <td>7800.000000</td>\n",
       "      <td>2110000.0</td>\n",
       "    </tr>\n",
       "    <tr>\n",
       "      <th>Vashon</th>\n",
       "      <td>29.0</td>\n",
       "      <td>160000.000000</td>\n",
       "      <td>849900.0</td>\n",
       "    </tr>\n",
       "    <tr>\n",
       "      <th>Woodinville</th>\n",
       "      <td>114.0</td>\n",
       "      <td>250000.000000</td>\n",
       "      <td>1820000.0</td>\n",
       "    </tr>\n",
       "    <tr>\n",
       "      <th>Yarrow Point</th>\n",
       "      <td>4.0</td>\n",
       "      <td>84350.000000</td>\n",
       "      <td>1901000.0</td>\n",
       "    </tr>\n",
       "  </tbody>\n",
       "</table>\n",
       "</div>"
      ],
      "text/plain": [
       "                        len            min        max\n",
       "city                                                 \n",
       "Algona                  5.0  100000.000000   262000.0\n",
       "Auburn                175.0   87500.000000   900000.0\n",
       "Beaux Arts Village      1.0  745000.000000   745000.0\n",
       "Bellevue              281.0  248000.000000  2150000.0\n",
       "Black Diamond           8.0  224000.000000   650000.0\n",
       "Bothell                33.0  347000.000000   749995.0\n",
       "Burien                 72.0  100000.000000  1035000.0\n",
       "Carnation              22.0   80000.000000  1680000.0\n",
       "Clyde Hill              9.0  465000.000000  1388000.0\n",
       "Covington              42.0   83300.000000  2199900.0\n",
       "Des Moines             58.0  140000.000000   950000.0\n",
       "Duvall                 42.0  117833.333333   955000.0\n",
       "Enumclaw               27.0  107500.000000   687000.0\n",
       "Fall City              11.0  275000.000000  1600000.0\n",
       "Federal Way           145.0  120750.000000   819000.0\n",
       "Inglewood-Finn Hill     1.0  425000.000000   425000.0\n",
       "Issaquah              186.0  195000.000000  2238888.0\n",
       "Kenmore                65.0  238750.000000  1120000.0\n",
       "Kent                  184.0  100000.000000   651000.0\n",
       "Kirkland              187.0   90000.000000  1710000.0\n",
       "Lake Forest Park       34.0  260000.000000   790000.0\n",
       "Maple Valley           95.0  108333.333333   725000.0\n",
       "Medina                 11.0  188000.000000  2100000.0\n",
       "Mercer Island          82.0  435000.000000  2027000.0\n",
       "Milton                  2.0  250000.000000   320000.0\n",
       "Newcastle              33.0  339900.000000  1200000.0\n",
       "Normandy Park          17.0  192000.000000  1309500.0\n",
       "North Bend             50.0  240000.000000   845000.0\n",
       "Pacific                 6.0  174000.000000   260000.0\n",
       "Preston                 2.0  439900.000000   685000.0\n",
       "Ravensdale              7.0  225000.000000   792500.0\n",
       "Redmond               234.0  170000.000000  1700000.0\n",
       "Renton                291.0  100000.000000  1135250.0\n",
       "Sammamish             171.0  237333.333333  2000000.0\n",
       "SeaTac                 28.0  110700.000000   489000.0\n",
       "Seattle              1560.0   90000.000000  2180000.0\n",
       "Shoreline             123.0  176225.000000  2005000.0\n",
       "Skykomish               3.0  134000.000000   415000.0\n",
       "Snoqualmie             69.0  235000.000000  1149000.0\n",
       "Snoqualmie Pass         1.0  525000.000000   525000.0\n",
       "Tukwila                29.0    7800.000000  2110000.0\n",
       "Vashon                 29.0  160000.000000   849900.0\n",
       "Woodinville           114.0  250000.000000  1820000.0\n",
       "Yarrow Point            4.0   84350.000000  1901000.0"
      ]
     },
     "execution_count": 63,
     "metadata": {},
     "output_type": "execute_result"
    }
   ],
   "source": [
    "city = df.groupby(['city']).price.agg([len, min, max])\n",
    "pd.set_option('display.max_rows',70)\n",
    "city"
   ]
  },
  {
   "cell_type": "code",
   "execution_count": 64,
   "metadata": {
    "execution": {
     "iopub.execute_input": "2021-01-05T18:10:34.610483Z",
     "iopub.status.busy": "2021-01-05T18:10:34.608921Z",
     "iopub.status.idle": "2021-01-05T18:10:36.907098Z",
     "shell.execute_reply": "2021-01-05T18:10:36.906496Z"
    },
    "papermill": {
     "duration": 2.457066,
     "end_time": "2021-01-05T18:10:36.907231",
     "exception": false,
     "start_time": "2021-01-05T18:10:34.450165",
     "status": "completed"
    },
    "tags": []
   },
   "outputs": [
    {
     "data": {
      "image/png": "[encoded data removed]",
      "text/plain": [
       "<Figure size 1080x720 with 1 Axes>"
      ]
     },
     "metadata": {
      "needs_background": "light"
     },
     "output_type": "display_data"
    }
   ],
   "source": [
    "plt.figure(figsize=(15,10))\n",
    "ax = sns.barplot(x=\"city\", y=\"price\", data=df)\n",
    "ax.set_xticklabels(ax.get_xticklabels(), rotation=90, ha=\"right\");"
   ]
  },
  {
   "cell_type": "code",
   "execution_count": 65,
   "metadata": {
    "execution": {
     "iopub.execute_input": "2021-01-05T18:10:37.227640Z",
     "iopub.status.busy": "2021-01-05T18:10:37.226986Z",
     "iopub.status.idle": "2021-01-05T18:10:37.248788Z",
     "shell.execute_reply": "2021-01-05T18:10:37.247937Z"
    },
    "papermill": {
     "duration": 0.185212,
     "end_time": "2021-01-05T18:10:37.248917",
     "exception": false,
     "start_time": "2021-01-05T18:10:37.063705",
     "status": "completed"
    },
    "tags": []
   },
   "outputs": [
    {
     "data": {
      "text/html": [
       "<div>\n",
       "<style scoped>\n",
       "    .dataframe tbody tr th:only-of-type {\n",
       "        vertical-align: middle;\n",
       "    }\n",
       "\n",
       "    .dataframe tbody tr th {\n",
       "        vertical-align: top;\n",
       "    }\n",
       "\n",
       "    .dataframe thead th {\n",
       "        text-align: right;\n",
       "    }\n",
       "</style>\n",
       "<table border=\"1\" class=\"dataframe\">\n",
       "  <thead>\n",
       "    <tr style=\"text-align: right;\">\n",
       "      <th></th>\n",
       "      <th>len</th>\n",
       "      <th>min</th>\n",
       "      <th>max</th>\n",
       "    </tr>\n",
       "    <tr>\n",
       "      <th>statezip</th>\n",
       "      <th></th>\n",
       "      <th></th>\n",
       "      <th></th>\n",
       "    </tr>\n",
       "  </thead>\n",
       "  <tbody>\n",
       "    <tr>\n",
       "      <th>WA 98001</th>\n",
       "      <td>66.0</td>\n",
       "      <td>100000.000000</td>\n",
       "      <td>625000.0</td>\n",
       "    </tr>\n",
       "    <tr>\n",
       "      <th>WA 98002</th>\n",
       "      <td>35.0</td>\n",
       "      <td>87500.000000</td>\n",
       "      <td>340000.0</td>\n",
       "    </tr>\n",
       "    <tr>\n",
       "      <th>WA 98003</th>\n",
       "      <td>48.0</td>\n",
       "      <td>156000.000000</td>\n",
       "      <td>819000.0</td>\n",
       "    </tr>\n",
       "    <tr>\n",
       "      <th>WA 98004</th>\n",
       "      <td>71.0</td>\n",
       "      <td>84350.000000</td>\n",
       "      <td>2150000.0</td>\n",
       "    </tr>\n",
       "    <tr>\n",
       "      <th>WA 98005</th>\n",
       "      <td>29.0</td>\n",
       "      <td>497333.333333</td>\n",
       "      <td>1900000.0</td>\n",
       "    </tr>\n",
       "    <tr>\n",
       "      <th>...</th>\n",
       "      <td>...</td>\n",
       "      <td>...</td>\n",
       "      <td>...</td>\n",
       "    </tr>\n",
       "    <tr>\n",
       "      <th>WA 98188</th>\n",
       "      <td>22.0</td>\n",
       "      <td>110700.000000</td>\n",
       "      <td>489000.0</td>\n",
       "    </tr>\n",
       "    <tr>\n",
       "      <th>WA 98198</th>\n",
       "      <td>56.0</td>\n",
       "      <td>140000.000000</td>\n",
       "      <td>950000.0</td>\n",
       "    </tr>\n",
       "    <tr>\n",
       "      <th>WA 98199</th>\n",
       "      <td>67.0</td>\n",
       "      <td>193000.000000</td>\n",
       "      <td>1655000.0</td>\n",
       "    </tr>\n",
       "    <tr>\n",
       "      <th>WA 98288</th>\n",
       "      <td>3.0</td>\n",
       "      <td>134000.000000</td>\n",
       "      <td>415000.0</td>\n",
       "    </tr>\n",
       "    <tr>\n",
       "      <th>WA 98354</th>\n",
       "      <td>2.0</td>\n",
       "      <td>250000.000000</td>\n",
       "      <td>320000.0</td>\n",
       "    </tr>\n",
       "  </tbody>\n",
       "</table>\n",
       "<p>77 rows × 3 columns</p>\n",
       "</div>"
      ],
      "text/plain": [
       "           len            min        max\n",
       "statezip                                \n",
       "WA 98001  66.0  100000.000000   625000.0\n",
       "WA 98002  35.0   87500.000000   340000.0\n",
       "WA 98003  48.0  156000.000000   819000.0\n",
       "WA 98004  71.0   84350.000000  2150000.0\n",
       "WA 98005  29.0  497333.333333  1900000.0\n",
       "...        ...            ...        ...\n",
       "WA 98188  22.0  110700.000000   489000.0\n",
       "WA 98198  56.0  140000.000000   950000.0\n",
       "WA 98199  67.0  193000.000000  1655000.0\n",
       "WA 98288   3.0  134000.000000   415000.0\n",
       "WA 98354   2.0  250000.000000   320000.0\n",
       "\n",
       "[77 rows x 3 columns]"
      ]
     },
     "execution_count": 65,
     "metadata": {},
     "output_type": "execute_result"
    }
   ],
   "source": [
    "statezip = df.groupby(['statezip']).price.agg([len, min, max])\n",
    "pd.set_option('display.max_rows',70)\n",
    "statezip"
   ]
  },
  {
   "cell_type": "code",
   "execution_count": 66,
   "metadata": {
    "execution": {
     "iopub.execute_input": "2021-01-05T18:10:37.694395Z",
     "iopub.status.busy": "2021-01-05T18:10:37.693440Z",
     "iopub.status.idle": "2021-01-05T18:10:40.843919Z",
     "shell.execute_reply": "2021-01-05T18:10:40.843261Z"
    },
    "papermill": {
     "duration": 3.37538,
     "end_time": "2021-01-05T18:10:40.844028",
     "exception": false,
     "start_time": "2021-01-05T18:10:37.468648",
     "status": "completed"
    },
    "tags": []
   },
   "outputs": [
    {
     "data": {
      "image/png": "[encoded data removed]",
      "text/plain": [
       "<Figure size 1080x720 with 1 Axes>"
      ]
     },
     "metadata": {
      "needs_background": "light"
     },
     "output_type": "display_data"
    }
   ],
   "source": [
    "plt.figure(figsize=(15,10))\n",
    "ax = sns.barplot(x=\"statezip\", y=\"price\", data=df)\n",
    "ax.set_xticklabels(ax.get_xticklabels(), rotation=90, ha=\"right\");"
   ]
  },
  {
   "cell_type": "markdown",
   "metadata": {
    "papermill": {
     "duration": 0.155762,
     "end_time": "2021-01-05T18:10:41.164832",
     "exception": false,
     "start_time": "2021-01-05T18:10:41.009070",
     "status": "completed"
    },
    "tags": []
   },
   "source": [
    "You can observe a litle high variation in statezip in comparison to city. So I'have selected our final column that is statezip.\n",
    "\n",
    "Now, let's drop street, city and country before moving forward."
   ]
  },
  {
   "cell_type": "code",
   "execution_count": 67,
   "metadata": {
    "execution": {
     "iopub.execute_input": "2021-01-05T18:10:41.483541Z",
     "iopub.status.busy": "2021-01-05T18:10:41.482907Z",
     "iopub.status.idle": "2021-01-05T18:10:41.486954Z",
     "shell.execute_reply": "2021-01-05T18:10:41.487471Z"
    },
    "papermill": {
     "duration": 0.167053,
     "end_time": "2021-01-05T18:10:41.487632",
     "exception": false,
     "start_time": "2021-01-05T18:10:41.320579",
     "status": "completed"
    },
    "tags": []
   },
   "outputs": [],
   "source": [
    "df.drop(['street','city','country'],axis=1, inplace=True)"
   ]
  },
  {
   "cell_type": "markdown",
   "metadata": {
    "papermill": {
     "duration": 0.156776,
     "end_time": "2021-01-05T18:10:41.799934",
     "exception": false,
     "start_time": "2021-01-05T18:10:41.643158",
     "status": "completed"
    },
    "tags": []
   },
   "source": [
    "**Encoding**: In laymens language it is just converting data into numerical forms so that our model can understand data easily.\n",
    "\n",
    "There are many techniques for label encoding but here after observing data well I choose One Hot Encoding.\n",
    "\n",
    "**Note**: The one hot encoder does not accept 1-dimensional array or a pandas series, the input should always be 2-dimensional and the data passed to the encoder should not contain strings."
   ]
  },
  {
   "cell_type": "code",
   "execution_count": 68,
   "metadata": {
    "execution": {
     "iopub.execute_input": "2021-01-05T18:10:42.160797Z",
     "iopub.status.busy": "2021-01-05T18:10:42.159637Z",
     "iopub.status.idle": "2021-01-05T18:10:42.195839Z",
     "shell.execute_reply": "2021-01-05T18:10:42.195274Z"
    },
    "papermill": {
     "duration": 0.236262,
     "end_time": "2021-01-05T18:10:42.195949",
     "exception": false,
     "start_time": "2021-01-05T18:10:41.959687",
     "status": "completed"
    },
    "tags": []
   },
   "outputs": [
    {
     "data": {
      "text/html": [
       "<div>\n",
       "<style scoped>\n",
       "    .dataframe tbody tr th:only-of-type {\n",
       "        vertical-align: middle;\n",
       "    }\n",
       "\n",
       "    .dataframe tbody tr th {\n",
       "        vertical-align: top;\n",
       "    }\n",
       "\n",
       "    .dataframe thead th {\n",
       "        text-align: right;\n",
       "    }\n",
       "</style>\n",
       "<table border=\"1\" class=\"dataframe\">\n",
       "  <thead>\n",
       "    <tr style=\"text-align: right;\">\n",
       "      <th></th>\n",
       "      <th>price</th>\n",
       "      <th>bedrooms</th>\n",
       "      <th>bathrooms</th>\n",
       "      <th>sqft_living</th>\n",
       "      <th>floors</th>\n",
       "      <th>view</th>\n",
       "      <th>sqft_basement</th>\n",
       "      <th>statezip_WA 98001</th>\n",
       "      <th>statezip_WA 98002</th>\n",
       "      <th>statezip_WA 98003</th>\n",
       "      <th>...</th>\n",
       "      <th>statezip_WA 98155</th>\n",
       "      <th>statezip_WA 98166</th>\n",
       "      <th>statezip_WA 98168</th>\n",
       "      <th>statezip_WA 98177</th>\n",
       "      <th>statezip_WA 98178</th>\n",
       "      <th>statezip_WA 98188</th>\n",
       "      <th>statezip_WA 98198</th>\n",
       "      <th>statezip_WA 98199</th>\n",
       "      <th>statezip_WA 98288</th>\n",
       "      <th>statezip_WA 98354</th>\n",
       "    </tr>\n",
       "  </thead>\n",
       "  <tbody>\n",
       "    <tr>\n",
       "      <th>0</th>\n",
       "      <td>313000.0</td>\n",
       "      <td>3.0</td>\n",
       "      <td>1.50</td>\n",
       "      <td>1340</td>\n",
       "      <td>1.5</td>\n",
       "      <td>0</td>\n",
       "      <td>0</td>\n",
       "      <td>0</td>\n",
       "      <td>0</td>\n",
       "      <td>0</td>\n",
       "      <td>...</td>\n",
       "      <td>0</td>\n",
       "      <td>0</td>\n",
       "      <td>0</td>\n",
       "      <td>0</td>\n",
       "      <td>0</td>\n",
       "      <td>0</td>\n",
       "      <td>0</td>\n",
       "      <td>0</td>\n",
       "      <td>0</td>\n",
       "      <td>0</td>\n",
       "    </tr>\n",
       "    <tr>\n",
       "      <th>1</th>\n",
       "      <td>465000.0</td>\n",
       "      <td>5.0</td>\n",
       "      <td>2.50</td>\n",
       "      <td>3650</td>\n",
       "      <td>2.0</td>\n",
       "      <td>4</td>\n",
       "      <td>280</td>\n",
       "      <td>0</td>\n",
       "      <td>0</td>\n",
       "      <td>0</td>\n",
       "      <td>...</td>\n",
       "      <td>0</td>\n",
       "      <td>0</td>\n",
       "      <td>0</td>\n",
       "      <td>0</td>\n",
       "      <td>0</td>\n",
       "      <td>0</td>\n",
       "      <td>0</td>\n",
       "      <td>0</td>\n",
       "      <td>0</td>\n",
       "      <td>0</td>\n",
       "    </tr>\n",
       "    <tr>\n",
       "      <th>2</th>\n",
       "      <td>342000.0</td>\n",
       "      <td>3.0</td>\n",
       "      <td>2.00</td>\n",
       "      <td>1930</td>\n",
       "      <td>1.0</td>\n",
       "      <td>0</td>\n",
       "      <td>0</td>\n",
       "      <td>0</td>\n",
       "      <td>0</td>\n",
       "      <td>0</td>\n",
       "      <td>...</td>\n",
       "      <td>0</td>\n",
       "      <td>0</td>\n",
       "      <td>0</td>\n",
       "      <td>0</td>\n",
       "      <td>0</td>\n",
       "      <td>0</td>\n",
       "      <td>0</td>\n",
       "      <td>0</td>\n",
       "      <td>0</td>\n",
       "      <td>0</td>\n",
       "    </tr>\n",
       "    <tr>\n",
       "      <th>3</th>\n",
       "      <td>420000.0</td>\n",
       "      <td>3.0</td>\n",
       "      <td>2.25</td>\n",
       "      <td>2000</td>\n",
       "      <td>1.0</td>\n",
       "      <td>0</td>\n",
       "      <td>1000</td>\n",
       "      <td>0</td>\n",
       "      <td>0</td>\n",
       "      <td>0</td>\n",
       "      <td>...</td>\n",
       "      <td>0</td>\n",
       "      <td>0</td>\n",
       "      <td>0</td>\n",
       "      <td>0</td>\n",
       "      <td>0</td>\n",
       "      <td>0</td>\n",
       "      <td>0</td>\n",
       "      <td>0</td>\n",
       "      <td>0</td>\n",
       "      <td>0</td>\n",
       "    </tr>\n",
       "    <tr>\n",
       "      <th>4</th>\n",
       "      <td>550000.0</td>\n",
       "      <td>4.0</td>\n",
       "      <td>2.50</td>\n",
       "      <td>1940</td>\n",
       "      <td>1.0</td>\n",
       "      <td>0</td>\n",
       "      <td>800</td>\n",
       "      <td>0</td>\n",
       "      <td>0</td>\n",
       "      <td>0</td>\n",
       "      <td>...</td>\n",
       "      <td>0</td>\n",
       "      <td>0</td>\n",
       "      <td>0</td>\n",
       "      <td>0</td>\n",
       "      <td>0</td>\n",
       "      <td>0</td>\n",
       "      <td>0</td>\n",
       "      <td>0</td>\n",
       "      <td>0</td>\n",
       "      <td>0</td>\n",
       "    </tr>\n",
       "  </tbody>\n",
       "</table>\n",
       "<p>5 rows × 84 columns</p>\n",
       "</div>"
      ],
      "text/plain": [
       "      price  bedrooms  bathrooms  sqft_living  floors  view  sqft_basement  \\\n",
       "0  313000.0       3.0       1.50         1340     1.5     0              0   \n",
       "1  465000.0       5.0       2.50         3650     2.0     4            280   \n",
       "2  342000.0       3.0       2.00         1930     1.0     0              0   \n",
       "3  420000.0       3.0       2.25         2000     1.0     0           1000   \n",
       "4  550000.0       4.0       2.50         1940     1.0     0            800   \n",
       "\n",
       "   statezip_WA 98001  statezip_WA 98002  statezip_WA 98003  ...  \\\n",
       "0                  0                  0                  0  ...   \n",
       "1                  0                  0                  0  ...   \n",
       "2                  0                  0                  0  ...   \n",
       "3                  0                  0                  0  ...   \n",
       "4                  0                  0                  0  ...   \n",
       "\n",
       "   statezip_WA 98155  statezip_WA 98166  statezip_WA 98168  statezip_WA 98177  \\\n",
       "0                  0                  0                  0                  0   \n",
       "1                  0                  0                  0                  0   \n",
       "2                  0                  0                  0                  0   \n",
       "3                  0                  0                  0                  0   \n",
       "4                  0                  0                  0                  0   \n",
       "\n",
       "   statezip_WA 98178  statezip_WA 98188  statezip_WA 98198  statezip_WA 98199  \\\n",
       "0                  0                  0                  0                  0   \n",
       "1                  0                  0                  0                  0   \n",
       "2                  0                  0                  0                  0   \n",
       "3                  0                  0                  0                  0   \n",
       "4                  0                  0                  0                  0   \n",
       "\n",
       "   statezip_WA 98288  statezip_WA 98354  \n",
       "0                  0                  0  \n",
       "1                  0                  0  \n",
       "2                  0                  0  \n",
       "3                  0                  0  \n",
       "4                  0                  0  \n",
       "\n",
       "[5 rows x 84 columns]"
      ]
     },
     "execution_count": 68,
     "metadata": {},
     "output_type": "execute_result"
    }
   ],
   "source": [
    "df = pd.get_dummies(df, columns=['statezip'], prefix = ['statezip'])\n",
    "\n",
    "df.head()"
   ]
  },
  {
   "cell_type": "code",
   "execution_count": 69,
   "metadata": {
    "execution": {
     "iopub.execute_input": "2021-01-05T18:10:42.514395Z",
     "iopub.status.busy": "2021-01-05T18:10:42.513711Z",
     "iopub.status.idle": "2021-01-05T18:10:42.517318Z",
     "shell.execute_reply": "2021-01-05T18:10:42.517920Z"
    },
    "papermill": {
     "duration": 0.166825,
     "end_time": "2021-01-05T18:10:42.518051",
     "exception": false,
     "start_time": "2021-01-05T18:10:42.351226",
     "status": "completed"
    },
    "tags": []
   },
   "outputs": [
    {
     "data": {
      "text/plain": [
       "(4549, 84)"
      ]
     },
     "execution_count": 69,
     "metadata": {},
     "output_type": "execute_result"
    }
   ],
   "source": [
    "df.shape"
   ]
  },
  {
   "cell_type": "code",
   "execution_count": 70,
   "metadata": {
    "execution": {
     "iopub.execute_input": "2021-01-05T18:10:42.836349Z",
     "iopub.status.busy": "2021-01-05T18:10:42.835670Z",
     "iopub.status.idle": "2021-01-05T18:10:42.844447Z",
     "shell.execute_reply": "2021-01-05T18:10:42.843855Z"
    },
    "papermill": {
     "duration": 0.169392,
     "end_time": "2021-01-05T18:10:42.844552",
     "exception": false,
     "start_time": "2021-01-05T18:10:42.675160",
     "status": "completed"
    },
    "tags": []
   },
   "outputs": [
    {
     "data": {
      "text/plain": [
       "Index(['price', 'bedrooms', 'bathrooms', 'sqft_living', 'floors', 'view',\n",
       "       'sqft_basement', 'statezip_WA 98001', 'statezip_WA 98002',\n",
       "       'statezip_WA 98003', 'statezip_WA 98004', 'statezip_WA 98005',\n",
       "       'statezip_WA 98006', 'statezip_WA 98007', 'statezip_WA 98008',\n",
       "       'statezip_WA 98010', 'statezip_WA 98011', 'statezip_WA 98014',\n",
       "       'statezip_WA 98019', 'statezip_WA 98022', 'statezip_WA 98023',\n",
       "       'statezip_WA 98024', 'statezip_WA 98027', 'statezip_WA 98028',\n",
       "       'statezip_WA 98029', 'statezip_WA 98030', 'statezip_WA 98031',\n",
       "       'statezip_WA 98032', 'statezip_WA 98033', 'statezip_WA 98034',\n",
       "       'statezip_WA 98038', 'statezip_WA 98039', 'statezip_WA 98040',\n",
       "       'statezip_WA 98042', 'statezip_WA 98045', 'statezip_WA 98047',\n",
       "       'statezip_WA 98050', 'statezip_WA 98051', 'statezip_WA 98052',\n",
       "       'statezip_WA 98053', 'statezip_WA 98055', 'statezip_WA 98056',\n",
       "       'statezip_WA 98057', 'statezip_WA 98058', 'statezip_WA 98059',\n",
       "       'statezip_WA 98065', 'statezip_WA 98068', 'statezip_WA 98070',\n",
       "       'statezip_WA 98072', 'statezip_WA 98074', 'statezip_WA 98075',\n",
       "       'statezip_WA 98077', 'statezip_WA 98092', 'statezip_WA 98102',\n",
       "       'statezip_WA 98103', 'statezip_WA 98105', 'statezip_WA 98106',\n",
       "       'statezip_WA 98107', 'statezip_WA 98108', 'statezip_WA 98109',\n",
       "       'statezip_WA 98112', 'statezip_WA 98115', 'statezip_WA 98116',\n",
       "       'statezip_WA 98117', 'statezip_WA 98118', 'statezip_WA 98119',\n",
       "       'statezip_WA 98122', 'statezip_WA 98125', 'statezip_WA 98126',\n",
       "       'statezip_WA 98133', 'statezip_WA 98136', 'statezip_WA 98144',\n",
       "       'statezip_WA 98146', 'statezip_WA 98148', 'statezip_WA 98155',\n",
       "       'statezip_WA 98166', 'statezip_WA 98168', 'statezip_WA 98177',\n",
       "       'statezip_WA 98178', 'statezip_WA 98188', 'statezip_WA 98198',\n",
       "       'statezip_WA 98199', 'statezip_WA 98288', 'statezip_WA 98354'],\n",
       "      dtype='object')"
      ]
     },
     "execution_count": 70,
     "metadata": {},
     "output_type": "execute_result"
    }
   ],
   "source": [
    "df.columns"
   ]
  },
  {
   "cell_type": "markdown",
   "metadata": {
    "papermill": {
     "duration": 0.228876,
     "end_time": "2021-01-05T18:10:44.471566",
     "exception": false,
     "start_time": "2021-01-05T18:10:44.242690",
     "status": "completed"
    },
    "tags": []
   },
   "source": [
    "Now, we will train our model divide for train, test and validation dataset.\n",
    "\n",
    "**Training Dataset**: The sample of data used to fit the model.\n",
    "\n",
    "**Validation Dataset**: The sample of data used to provide an unbiased evaluation of a model fit on the training dataset while tuning model hyperparameters. The evaluation becomes more biased as skill on the validation dataset is incorporated into the model configuration.\n",
    "\n",
    "**Test Dataset**: The sample of data used to provide an unbiased evaluation of a final model fit on the training dataset.\n",
    "\n",
    "Apply Linear Regression and hence, it's done."
   ]
  },
  {
   "cell_type": "code",
   "execution_count": 71,
   "metadata": {},
   "outputs": [],
   "source": [
    "from sklearn.preprocessing import StandardScaler"
   ]
  },
  {
   "cell_type": "code",
   "execution_count": 72,
   "metadata": {
    "execution": {
     "iopub.execute_input": "2021-01-05T18:10:44.985983Z",
     "iopub.status.busy": "2021-01-05T18:10:44.982491Z",
     "iopub.status.idle": "2021-01-05T18:10:45.026062Z",
     "shell.execute_reply": "2021-01-05T18:10:45.026679Z"
    },
    "papermill": {
     "duration": 0.308228,
     "end_time": "2021-01-05T18:10:45.026845",
     "exception": false,
     "start_time": "2021-01-05T18:10:44.718617",
     "status": "completed"
    },
    "tags": []
   },
   "outputs": [
    {
     "data": {
      "text/plain": [
       "70.02392521864047"
      ]
     },
     "execution_count": 72,
     "metadata": {},
     "output_type": "execute_result"
    }
   ],
   "source": [
    "X = df.drop([\"price\"],axis = 1)\n",
    "y = df[\"price\"]\n",
    "\n",
    "from sklearn.model_selection import train_test_split\n",
    "train_X, test_X, train_y, test_y= train_test_split(X,y, test_size=0.2, random_state=8)\n",
    "\n",
    "scaler=StandardScaler()\n",
    "scaler.fit(train_X)\n",
    "train_X_s = scaler.transform(train_X)\n",
    "test_X_s = scaler.transform(test_X)\n",
    "\n",
    "from sklearn.linear_model import LinearRegression\n",
    "mlrm = LinearRegression()\n",
    "\n",
    "mlrm.fit(train_X,train_y)\n",
    "\n",
    "mlrm.score(train_X, train_y)*100"
   ]
  },
  {
   "cell_type": "code",
   "execution_count": 73,
   "metadata": {
    "execution": {
     "iopub.execute_input": "2021-01-05T18:10:45.496399Z",
     "iopub.status.busy": "2021-01-05T18:10:45.495253Z",
     "iopub.status.idle": "2021-01-05T18:10:45.500704Z",
     "shell.execute_reply": "2021-01-05T18:10:45.501357Z"
    },
    "papermill": {
     "duration": 0.245637,
     "end_time": "2021-01-05T18:10:45.501525",
     "exception": false,
     "start_time": "2021-01-05T18:10:45.255888",
     "status": "completed"
    },
    "tags": []
   },
   "outputs": [],
   "source": [
    "X_val, X_test, y_val, y_test = train_test_split(test_X, test_y, test_size=0.5, random_state=5)"
   ]
  },
  {
   "cell_type": "code",
   "execution_count": 74,
   "metadata": {},
   "outputs": [
    {
     "data": {
      "text/plain": [
       "67.9263311415679"
      ]
     },
     "execution_count": 74,
     "metadata": {},
     "output_type": "execute_result"
    }
   ],
   "source": [
    "mlrm.score(X_val, y_val)*100"
   ]
  },
  {
   "cell_type": "code",
   "execution_count": 75,
   "metadata": {
    "execution": {
     "iopub.execute_input": "2021-01-05T18:10:46.315518Z",
     "iopub.status.busy": "2021-01-05T18:10:46.313122Z",
     "iopub.status.idle": "2021-01-05T18:10:46.322081Z",
     "shell.execute_reply": "2021-01-05T18:10:46.321520Z"
    },
    "papermill": {
     "duration": 0.174605,
     "end_time": "2021-01-05T18:10:46.322217",
     "exception": false,
     "start_time": "2021-01-05T18:10:46.147612",
     "status": "completed"
    },
    "tags": []
   },
   "outputs": [
    {
     "data": {
      "text/plain": [
       "69.7725824335548"
      ]
     },
     "execution_count": 75,
     "metadata": {},
     "output_type": "execute_result"
    }
   ],
   "source": [
    "mlrm.score(X_test, y_test)*100"
   ]
  },
  {
   "cell_type": "code",
   "execution_count": 76,
   "metadata": {
    "execution": {
     "iopub.execute_input": "2021-01-05T18:10:46.644569Z",
     "iopub.status.busy": "2021-01-05T18:10:46.643899Z",
     "iopub.status.idle": "2021-01-05T18:10:47.447041Z",
     "shell.execute_reply": "2021-01-05T18:10:47.430998Z"
    },
    "papermill": {
     "duration": 0.965111,
     "end_time": "2021-01-05T18:10:47.447165",
     "exception": false,
     "start_time": "2021-01-05T18:10:46.482054",
     "status": "completed"
    },
    "tags": []
   },
   "outputs": [
    {
     "name": "stdout",
     "output_type": "stream",
     "text": [
      "                            OLS Regression Results                            \n",
      "==============================================================================\n",
      "Dep. Variable:                  price   R-squared:                       0.700\n",
      "Model:                            OLS   Adj. R-squared:                  0.693\n",
      "Method:                 Least Squares   F-statistic:                     101.3\n",
      "Date:                Tue, 21 Jun 2022   Prob (F-statistic):               0.00\n",
      "Time:                        17:35:48   Log-Likelihood:                -48849.\n",
      "No. Observations:                3639   AIC:                         9.786e+04\n",
      "Df Residuals:                    3556   BIC:                         9.838e+04\n",
      "Df Model:                          82                                         \n",
      "Covariance Type:            nonrobust                                         \n",
      "=====================================================================================\n",
      "                        coef    std err          t      P>|t|      [0.025      0.975]\n",
      "-------------------------------------------------------------------------------------\n",
      "bedrooms          -4764.1885   4126.521     -1.155      0.248   -1.29e+04    3326.397\n",
      "bathrooms          1.705e+04   6284.570      2.712      0.007    4724.620    2.94e+04\n",
      "sqft_living         184.0106      5.949     30.932      0.000     172.347     195.674\n",
      "floors            -3.064e+04   7490.064     -4.091      0.000   -4.53e+04    -1.6e+04\n",
      "view               5.768e+04   4140.946     13.928      0.000    4.96e+04    6.58e+04\n",
      "sqft_basement       -91.5511      8.864    -10.328      0.000    -108.931     -74.171\n",
      "statezip_WA 98001 -2.667e+04   2.49e+04     -1.070      0.285   -7.55e+04    2.22e+04\n",
      "statezip_WA 98002 -3.071e+04   3.26e+04     -0.943      0.346   -9.46e+04    3.32e+04\n",
      "statezip_WA 98003 -3.266e+04   2.88e+04     -1.134      0.257   -8.91e+04    2.38e+04\n",
      "statezip_WA 98004  6.249e+05    2.6e+04     24.060      0.000    5.74e+05    6.76e+05\n",
      "statezip_WA 98005  3.366e+05   4.03e+04      8.343      0.000    2.58e+05    4.16e+05\n",
      "statezip_WA 98006  3.408e+05   2.29e+04     14.868      0.000    2.96e+05    3.86e+05\n",
      "statezip_WA 98007  3.043e+05   3.35e+04      9.078      0.000    2.39e+05     3.7e+05\n",
      "statezip_WA 98008  1.957e+05   3.07e+04      6.365      0.000    1.35e+05    2.56e+05\n",
      "statezip_WA 98010  8.696e+04   6.36e+04      1.366      0.172   -3.78e+04    2.12e+05\n",
      "statezip_WA 98011  9.996e+04   3.69e+04      2.708      0.007    2.76e+04    1.72e+05\n",
      "statezip_WA 98014  7.713e+04   4.09e+04      1.888      0.059   -2987.437    1.57e+05\n",
      "statezip_WA 98019  4.641e+04   3.08e+04      1.506      0.132    -1.4e+04    1.07e+05\n",
      "statezip_WA 98022 -2.381e+04   3.64e+04     -0.654      0.513   -9.52e+04    4.76e+04\n",
      "statezip_WA 98023 -5.875e+04   2.34e+04     -2.510      0.012   -1.05e+05   -1.29e+04\n",
      "statezip_WA 98024  1.934e+05    5.7e+04      3.390      0.001    8.15e+04    3.05e+05\n",
      "statezip_WA 98027  1.798e+05   2.32e+04      7.736      0.000    1.34e+05    2.25e+05\n",
      "statezip_WA 98028   1.14e+05   2.63e+04      4.328      0.000    6.24e+04    1.66e+05\n",
      "statezip_WA 98029  2.224e+05   2.45e+04      9.068      0.000    1.74e+05     2.7e+05\n",
      "statezip_WA 98030 -3.284e+04   3.26e+04     -1.009      0.313   -9.67e+04     3.1e+04\n",
      "statezip_WA 98031 -7699.5302    2.7e+04     -0.286      0.775   -6.06e+04    4.52e+04\n",
      "statezip_WA 98032 -3.769e+04   4.33e+04     -0.871      0.384   -1.23e+05    4.72e+04\n",
      "statezip_WA 98033  3.514e+05   2.33e+04     15.103      0.000    3.06e+05    3.97e+05\n",
      "statezip_WA 98034  1.572e+05   2.22e+04      7.077      0.000    1.14e+05    2.01e+05\n",
      "statezip_WA 98038 -1.257e+04   2.33e+04     -0.541      0.589   -5.82e+04     3.3e+04\n",
      "statezip_WA 98039  3.032e+05   5.24e+04      5.788      0.000       2e+05    4.06e+05\n",
      "statezip_WA 98040  4.559e+05   2.53e+04     18.046      0.000    4.06e+05    5.05e+05\n",
      "statezip_WA 98042  -942.5192   2.31e+04     -0.041      0.967   -4.62e+04    4.43e+04\n",
      "statezip_WA 98045  5.409e+04   2.84e+04      1.906      0.057   -1556.175     1.1e+05\n",
      "statezip_WA 98047 -3.126e+04   6.87e+04     -0.455      0.649   -1.66e+05    1.03e+05\n",
      "statezip_WA 98050  2.018e+05   1.66e+05      1.218      0.223   -1.23e+05    5.27e+05\n",
      "statezip_WA 98051  5.057e+04   7.54e+04      0.671      0.502   -9.73e+04    1.98e+05\n",
      "statezip_WA 98052  2.687e+05   2.09e+04     12.851      0.000    2.28e+05     3.1e+05\n",
      "statezip_WA 98053   2.06e+05   2.32e+04      8.886      0.000    1.61e+05    2.51e+05\n",
      "statezip_WA 98055  2.397e+04   3.82e+04      0.627      0.531    -5.1e+04    9.89e+04\n",
      "statezip_WA 98056  7.873e+04   2.48e+04      3.178      0.001    3.02e+04    1.27e+05\n",
      "statezip_WA 98057 -1.765e+04   5.12e+04     -0.345      0.730   -1.18e+05    8.27e+04\n",
      "statezip_WA 98058  1.154e+04    2.3e+04      0.501      0.616   -3.36e+04    5.67e+04\n",
      "statezip_WA 98059  7.037e+04   2.29e+04      3.076      0.002    2.55e+04    1.15e+05\n",
      "statezip_WA 98065  8.163e+04   2.55e+04      3.201      0.001    3.16e+04    1.32e+05\n",
      "statezip_WA 98068  2.213e+05   1.66e+05      1.332      0.183   -1.04e+05    5.47e+05\n",
      "statezip_WA 98070  1.067e+05   3.89e+04      2.744      0.006    3.05e+04    1.83e+05\n",
      "statezip_WA 98072  1.663e+05   2.56e+04      6.486      0.000    1.16e+05    2.17e+05\n",
      "statezip_WA 98074  1.887e+05   2.37e+04      7.954      0.000    1.42e+05    2.35e+05\n",
      "statezip_WA 98075  2.328e+05    2.5e+04      9.326      0.000    1.84e+05    2.82e+05\n",
      "statezip_WA 98077  1.745e+05   2.82e+04      6.197      0.000    1.19e+05     2.3e+05\n",
      "statezip_WA 98092 -3.968e+04   2.45e+04     -1.621      0.105   -8.77e+04    8312.112\n",
      "statezip_WA 98102  4.674e+05   4.17e+04     11.209      0.000    3.86e+05    5.49e+05\n",
      "statezip_WA 98103   3.08e+05   2.09e+04     14.760      0.000    2.67e+05    3.49e+05\n",
      "statezip_WA 98105  5.287e+05   3.03e+04     17.439      0.000    4.69e+05    5.88e+05\n",
      "statezip_WA 98106  9.044e+04    2.6e+04      3.482      0.001    3.95e+04    1.41e+05\n",
      "statezip_WA 98107  2.958e+05   2.74e+04     10.815      0.000    2.42e+05    3.49e+05\n",
      "statezip_WA 98108  1.007e+05   3.04e+04      3.311      0.001    4.11e+04     1.6e+05\n",
      "statezip_WA 98109  5.182e+05   3.53e+04     14.681      0.000    4.49e+05    5.87e+05\n",
      "statezip_WA 98112  5.708e+05   2.67e+04     21.376      0.000    5.18e+05    6.23e+05\n",
      "statezip_WA 98115  3.204e+05   2.04e+04     15.721      0.000     2.8e+05     3.6e+05\n",
      "statezip_WA 98116  3.164e+05   2.56e+04     12.378      0.000    2.66e+05    3.67e+05\n",
      "statezip_WA 98117  2.957e+05   2.06e+04     14.335      0.000    2.55e+05    3.36e+05\n",
      "statezip_WA 98118  1.507e+05   2.41e+04      6.257      0.000    1.03e+05    1.98e+05\n",
      "statezip_WA 98119  3.698e+05   2.97e+04     12.440      0.000    3.12e+05    4.28e+05\n",
      "statezip_WA 98122  3.181e+05   2.58e+04     12.325      0.000    2.67e+05    3.69e+05\n",
      "statezip_WA 98125   1.63e+05   2.41e+04      6.764      0.000    1.16e+05     2.1e+05\n",
      "statezip_WA 98126   1.78e+05   2.35e+04      7.576      0.000    1.32e+05    2.24e+05\n",
      "statezip_WA 98133   1.29e+05   2.38e+04      5.421      0.000    8.24e+04    1.76e+05\n",
      "statezip_WA 98136  2.401e+05   2.83e+04      8.492      0.000    1.85e+05    2.96e+05\n",
      "statezip_WA 98144  2.954e+05   2.45e+04     12.038      0.000    2.47e+05    3.43e+05\n",
      "statezip_WA 98146  9.443e+04   2.77e+04      3.408      0.001    4.01e+04    1.49e+05\n",
      "statezip_WA 98148   3.26e+04    4.6e+04      0.708      0.479   -5.76e+04    1.23e+05\n",
      "statezip_WA 98155  1.042e+05   2.34e+04      4.460      0.000    5.84e+04     1.5e+05\n",
      "statezip_WA 98166  8.804e+04   2.73e+04      3.226      0.001    3.45e+04    1.42e+05\n",
      "statezip_WA 98168  1.027e+04   2.48e+04      0.414      0.679   -3.83e+04    5.89e+04\n",
      "statezip_WA 98177  2.251e+05    2.8e+04      8.034      0.000     1.7e+05     2.8e+05\n",
      "statezip_WA 98178 -1.362e+04   2.96e+04     -0.461      0.645   -7.16e+04    4.43e+04\n",
      "statezip_WA 98188 -3.243e+04   4.31e+04     -0.753      0.452   -1.17e+05     5.2e+04\n",
      "statezip_WA 98198 -2.811e+04   2.75e+04     -1.023      0.307    -8.2e+04    2.58e+04\n",
      "statezip_WA 98199  3.787e+05    2.6e+04     14.578      0.000    3.28e+05     4.3e+05\n",
      "statezip_WA 98288  5.097e+04   1.18e+05      0.433      0.665    -1.8e+05    2.82e+05\n",
      "statezip_WA 98354  6.917e+04   1.18e+05      0.589      0.556   -1.61e+05       3e+05\n",
      "==============================================================================\n",
      "Omnibus:                      941.935   Durbin-Watson:                   2.020\n",
      "Prob(Omnibus):                  0.000   Jarque-Bera (JB):            54498.695\n",
      "Skew:                           0.325   Prob(JB):                         0.00\n",
      "Kurtosis:                      21.948   Cond. No.                     1.43e+05\n",
      "==============================================================================\n",
      "\n",
      "Notes:\n",
      "[1] Standard Errors assume that the covariance matrix of the errors is correctly specified.\n",
      "[2] The condition number is large, 1.43e+05. This might indicate that there are\n",
      "strong multicollinearity or other numerical problems.\n"
     ]
    }
   ],
   "source": [
    "import statsmodels.api as sm\n",
    "mod = sm.OLS(train_y, train_X)\n",
    "res = mod.fit()\n",
    "print(res.summary())"
   ]
  },
  {
   "cell_type": "markdown",
   "metadata": {
    "papermill": {
     "duration": 0.232553,
     "end_time": "2021-01-05T18:10:47.905650",
     "exception": false,
     "start_time": "2021-01-05T18:10:47.673097",
     "status": "completed"
    },
    "tags": []
   },
   "source": [
    "We can see the predicted line have almost covered the green line very well. Great!!\n",
    "\n",
    "Also, score seems quite good!! Almost 80% values are predicted well. So, Congrats to us!!😊👍"
   ]
  }
 ],
 "metadata": {
  "kernelspec": {
   "display_name": "Python 3",
   "language": "python",
   "name": "python3"
  },
  "language_info": {
   "codemirror_mode": {
    "name": "ipython",
    "version": 3
   },
   "file_extension": ".py",
   "mimetype": "text/x-python",
   "name": "python",
   "nbconvert_exporter": "python",
   "pygments_lexer": "ipython3",
   "version": "3.8.5"
  },
  "papermill": {
   "duration": 130.094428,
   "end_time": "2021-01-05T18:10:48.281576",
   "environment_variables": {},
   "exception": null,
   "input_path": "__notebook__.ipynb",
   "output_path": "__notebook__.ipynb",
   "parameters": {},
   "start_time": "2021-01-05T18:08:38.187148",
   "version": "2.1.0"
  }
 },
 "nbformat": 4,
 "nbformat_minor": 4
}
