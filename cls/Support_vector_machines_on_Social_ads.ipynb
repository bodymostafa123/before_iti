{
  "nbformat": 4,
  "nbformat_minor": 0,
  "metadata": {
    "colab": {
      "name": "Support vector machines on Social ads.ipynb",
      "provenance": []
    },
    "kernelspec": {
      "name": "python3",
      "display_name": "Python 3"
    },
    "language_info": {
      "name": "python"
    }
  },
  "cells": [
    {
      "cell_type": "code",
      "metadata": {
        "id": "t2bgbBsHoRGn"
      },
      "source": [
        "import seaborn as sns \n",
        "import numpy as np \n",
        "import pandas as pd \n",
        "import matplotlib.pyplot as plt\n"
      ],
      "execution_count": 1,
      "outputs": []
    },
    {
      "cell_type": "code",
      "metadata": {
        "id": "HumUFupqpnkE"
      },
      "source": [
        "df=pd.read_csv('/content/Social_Network_Ads.csv')"
      ],
      "execution_count": 2,
      "outputs": []
    },
    {
      "cell_type": "code",
      "metadata": {
        "colab": {
          "base_uri": "https://localhost:8080/",
          "height": 206
        },
        "id": "eoyCN2vkpraC",
        "outputId": "3873b689-3fcb-4b5f-801a-89c170be7573"
      },
      "source": [
        "df.head()"
      ],
      "execution_count": 3,
      "outputs": [
        {
          "output_type": "execute_result",
          "data": {
            "text/html": [
              "<div>\n",
              "<style scoped>\n",
              "    .dataframe tbody tr th:only-of-type {\n",
              "        vertical-align: middle;\n",
              "    }\n",
              "\n",
              "    .dataframe tbody tr th {\n",
              "        vertical-align: top;\n",
              "    }\n",
              "\n",
              "    .dataframe thead th {\n",
              "        text-align: right;\n",
              "    }\n",
              "</style>\n",
              "<table border=\"1\" class=\"dataframe\">\n",
              "  <thead>\n",
              "    <tr style=\"text-align: right;\">\n",
              "      <th></th>\n",
              "      <th>User ID</th>\n",
              "      <th>Gender</th>\n",
              "      <th>Age</th>\n",
              "      <th>EstimatedSalary</th>\n",
              "      <th>Purchased</th>\n",
              "    </tr>\n",
              "  </thead>\n",
              "  <tbody>\n",
              "    <tr>\n",
              "      <th>0</th>\n",
              "      <td>15624510</td>\n",
              "      <td>Male</td>\n",
              "      <td>19</td>\n",
              "      <td>19000</td>\n",
              "      <td>0</td>\n",
              "    </tr>\n",
              "    <tr>\n",
              "      <th>1</th>\n",
              "      <td>15810944</td>\n",
              "      <td>Male</td>\n",
              "      <td>35</td>\n",
              "      <td>20000</td>\n",
              "      <td>0</td>\n",
              "    </tr>\n",
              "    <tr>\n",
              "      <th>2</th>\n",
              "      <td>15668575</td>\n",
              "      <td>Female</td>\n",
              "      <td>26</td>\n",
              "      <td>43000</td>\n",
              "      <td>0</td>\n",
              "    </tr>\n",
              "    <tr>\n",
              "      <th>3</th>\n",
              "      <td>15603246</td>\n",
              "      <td>Female</td>\n",
              "      <td>27</td>\n",
              "      <td>57000</td>\n",
              "      <td>0</td>\n",
              "    </tr>\n",
              "    <tr>\n",
              "      <th>4</th>\n",
              "      <td>15804002</td>\n",
              "      <td>Male</td>\n",
              "      <td>19</td>\n",
              "      <td>76000</td>\n",
              "      <td>0</td>\n",
              "    </tr>\n",
              "  </tbody>\n",
              "</table>\n",
              "</div>"
            ],
            "text/plain": [
              "    User ID  Gender  Age  EstimatedSalary  Purchased\n",
              "0  15624510    Male   19            19000          0\n",
              "1  15810944    Male   35            20000          0\n",
              "2  15668575  Female   26            43000          0\n",
              "3  15603246  Female   27            57000          0\n",
              "4  15804002    Male   19            76000          0"
            ]
          },
          "metadata": {},
          "execution_count": 3
        }
      ]
    },
    {
      "cell_type": "code",
      "metadata": {
        "colab": {
          "base_uri": "https://localhost:8080/",
          "height": 363
        },
        "id": "omnBD60KpsPK",
        "outputId": "c684064f-8fa3-461d-aaa8-706bb74c8ac6"
      },
      "source": [
        "df.sample(10)"
      ],
      "execution_count": 4,
      "outputs": [
        {
          "output_type": "execute_result",
          "data": {
            "text/html": [
              "<div>\n",
              "<style scoped>\n",
              "    .dataframe tbody tr th:only-of-type {\n",
              "        vertical-align: middle;\n",
              "    }\n",
              "\n",
              "    .dataframe tbody tr th {\n",
              "        vertical-align: top;\n",
              "    }\n",
              "\n",
              "    .dataframe thead th {\n",
              "        text-align: right;\n",
              "    }\n",
              "</style>\n",
              "<table border=\"1\" class=\"dataframe\">\n",
              "  <thead>\n",
              "    <tr style=\"text-align: right;\">\n",
              "      <th></th>\n",
              "      <th>User ID</th>\n",
              "      <th>Gender</th>\n",
              "      <th>Age</th>\n",
              "      <th>EstimatedSalary</th>\n",
              "      <th>Purchased</th>\n",
              "    </tr>\n",
              "  </thead>\n",
              "  <tbody>\n",
              "    <tr>\n",
              "      <th>292</th>\n",
              "      <td>15625395</td>\n",
              "      <td>Male</td>\n",
              "      <td>55</td>\n",
              "      <td>39000</td>\n",
              "      <td>1</td>\n",
              "    </tr>\n",
              "    <tr>\n",
              "      <th>268</th>\n",
              "      <td>15746203</td>\n",
              "      <td>Female</td>\n",
              "      <td>47</td>\n",
              "      <td>144000</td>\n",
              "      <td>1</td>\n",
              "    </tr>\n",
              "    <tr>\n",
              "      <th>229</th>\n",
              "      <td>15721007</td>\n",
              "      <td>Female</td>\n",
              "      <td>42</td>\n",
              "      <td>80000</td>\n",
              "      <td>1</td>\n",
              "    </tr>\n",
              "    <tr>\n",
              "      <th>193</th>\n",
              "      <td>15662901</td>\n",
              "      <td>Male</td>\n",
              "      <td>19</td>\n",
              "      <td>70000</td>\n",
              "      <td>0</td>\n",
              "    </tr>\n",
              "    <tr>\n",
              "      <th>329</th>\n",
              "      <td>15639576</td>\n",
              "      <td>Female</td>\n",
              "      <td>47</td>\n",
              "      <td>107000</td>\n",
              "      <td>1</td>\n",
              "    </tr>\n",
              "    <tr>\n",
              "      <th>319</th>\n",
              "      <td>15623502</td>\n",
              "      <td>Male</td>\n",
              "      <td>36</td>\n",
              "      <td>60000</td>\n",
              "      <td>0</td>\n",
              "    </tr>\n",
              "    <tr>\n",
              "      <th>355</th>\n",
              "      <td>15606472</td>\n",
              "      <td>Male</td>\n",
              "      <td>60</td>\n",
              "      <td>34000</td>\n",
              "      <td>1</td>\n",
              "    </tr>\n",
              "    <tr>\n",
              "      <th>246</th>\n",
              "      <td>15638003</td>\n",
              "      <td>Female</td>\n",
              "      <td>35</td>\n",
              "      <td>50000</td>\n",
              "      <td>0</td>\n",
              "    </tr>\n",
              "    <tr>\n",
              "      <th>279</th>\n",
              "      <td>15759684</td>\n",
              "      <td>Female</td>\n",
              "      <td>50</td>\n",
              "      <td>36000</td>\n",
              "      <td>1</td>\n",
              "    </tr>\n",
              "    <tr>\n",
              "      <th>32</th>\n",
              "      <td>15573452</td>\n",
              "      <td>Female</td>\n",
              "      <td>21</td>\n",
              "      <td>16000</td>\n",
              "      <td>0</td>\n",
              "    </tr>\n",
              "  </tbody>\n",
              "</table>\n",
              "</div>"
            ],
            "text/plain": [
              "      User ID  Gender  Age  EstimatedSalary  Purchased\n",
              "292  15625395    Male   55            39000          1\n",
              "268  15746203  Female   47           144000          1\n",
              "229  15721007  Female   42            80000          1\n",
              "193  15662901    Male   19            70000          0\n",
              "329  15639576  Female   47           107000          1\n",
              "319  15623502    Male   36            60000          0\n",
              "355  15606472    Male   60            34000          1\n",
              "246  15638003  Female   35            50000          0\n",
              "279  15759684  Female   50            36000          1\n",
              "32   15573452  Female   21            16000          0"
            ]
          },
          "metadata": {},
          "execution_count": 4
        }
      ]
    },
    {
      "cell_type": "code",
      "metadata": {
        "colab": {
          "base_uri": "https://localhost:8080/"
        },
        "id": "b6Ox6kybp4az",
        "outputId": "d8d7e890-8b50-4d57-bda6-50f5332fbb14"
      },
      "source": [
        "df.info()"
      ],
      "execution_count": 5,
      "outputs": [
        {
          "output_type": "stream",
          "name": "stdout",
          "text": [
            "<class 'pandas.core.frame.DataFrame'>\n",
            "RangeIndex: 400 entries, 0 to 399\n",
            "Data columns (total 5 columns):\n",
            " #   Column           Non-Null Count  Dtype \n",
            "---  ------           --------------  ----- \n",
            " 0   User ID          400 non-null    int64 \n",
            " 1   Gender           400 non-null    object\n",
            " 2   Age              400 non-null    int64 \n",
            " 3   EstimatedSalary  400 non-null    int64 \n",
            " 4   Purchased        400 non-null    int64 \n",
            "dtypes: int64(4), object(1)\n",
            "memory usage: 15.8+ KB\n"
          ]
        }
      ]
    },
    {
      "cell_type": "code",
      "metadata": {
        "colab": {
          "base_uri": "https://localhost:8080/"
        },
        "id": "3EtJX7mYp76L",
        "outputId": "ad9f3130-207f-478d-b157-625e09ab6ba6"
      },
      "source": [
        "df['Purchased'].value_counts()"
      ],
      "execution_count": 6,
      "outputs": [
        {
          "output_type": "execute_result",
          "data": {
            "text/plain": [
              "0    257\n",
              "1    143\n",
              "Name: Purchased, dtype: int64"
            ]
          },
          "metadata": {},
          "execution_count": 6
        }
      ]
    },
    {
      "cell_type": "code",
      "metadata": {
        "colab": {
          "base_uri": "https://localhost:8080/"
        },
        "id": "jXp1UU46tSYL",
        "outputId": "102e396e-e4cf-482f-d34a-9545263ab0f0"
      },
      "source": [
        "df['Gender'].value_counts()"
      ],
      "execution_count": 23,
      "outputs": [
        {
          "output_type": "execute_result",
          "data": {
            "text/plain": [
              "Female    204\n",
              "Male      196\n",
              "Name: Gender, dtype: int64"
            ]
          },
          "metadata": {},
          "execution_count": 23
        }
      ]
    },
    {
      "cell_type": "code",
      "metadata": {
        "id": "d0HBQYc4tSRf"
      },
      "source": [
        ""
      ],
      "execution_count": null,
      "outputs": []
    },
    {
      "cell_type": "code",
      "metadata": {
        "colab": {
          "base_uri": "https://localhost:8080/",
          "height": 300
        },
        "id": "GE2nGb9SqC8D",
        "outputId": "09681a8b-b430-40ae-a9b6-377b710b968a"
      },
      "source": [
        "df.describe()"
      ],
      "execution_count": 7,
      "outputs": [
        {
          "output_type": "execute_result",
          "data": {
            "text/html": [
              "<div>\n",
              "<style scoped>\n",
              "    .dataframe tbody tr th:only-of-type {\n",
              "        vertical-align: middle;\n",
              "    }\n",
              "\n",
              "    .dataframe tbody tr th {\n",
              "        vertical-align: top;\n",
              "    }\n",
              "\n",
              "    .dataframe thead th {\n",
              "        text-align: right;\n",
              "    }\n",
              "</style>\n",
              "<table border=\"1\" class=\"dataframe\">\n",
              "  <thead>\n",
              "    <tr style=\"text-align: right;\">\n",
              "      <th></th>\n",
              "      <th>User ID</th>\n",
              "      <th>Age</th>\n",
              "      <th>EstimatedSalary</th>\n",
              "      <th>Purchased</th>\n",
              "    </tr>\n",
              "  </thead>\n",
              "  <tbody>\n",
              "    <tr>\n",
              "      <th>count</th>\n",
              "      <td>4.000000e+02</td>\n",
              "      <td>400.000000</td>\n",
              "      <td>400.000000</td>\n",
              "      <td>400.000000</td>\n",
              "    </tr>\n",
              "    <tr>\n",
              "      <th>mean</th>\n",
              "      <td>1.569154e+07</td>\n",
              "      <td>37.655000</td>\n",
              "      <td>69742.500000</td>\n",
              "      <td>0.357500</td>\n",
              "    </tr>\n",
              "    <tr>\n",
              "      <th>std</th>\n",
              "      <td>7.165832e+04</td>\n",
              "      <td>10.482877</td>\n",
              "      <td>34096.960282</td>\n",
              "      <td>0.479864</td>\n",
              "    </tr>\n",
              "    <tr>\n",
              "      <th>min</th>\n",
              "      <td>1.556669e+07</td>\n",
              "      <td>18.000000</td>\n",
              "      <td>15000.000000</td>\n",
              "      <td>0.000000</td>\n",
              "    </tr>\n",
              "    <tr>\n",
              "      <th>25%</th>\n",
              "      <td>1.562676e+07</td>\n",
              "      <td>29.750000</td>\n",
              "      <td>43000.000000</td>\n",
              "      <td>0.000000</td>\n",
              "    </tr>\n",
              "    <tr>\n",
              "      <th>50%</th>\n",
              "      <td>1.569434e+07</td>\n",
              "      <td>37.000000</td>\n",
              "      <td>70000.000000</td>\n",
              "      <td>0.000000</td>\n",
              "    </tr>\n",
              "    <tr>\n",
              "      <th>75%</th>\n",
              "      <td>1.575036e+07</td>\n",
              "      <td>46.000000</td>\n",
              "      <td>88000.000000</td>\n",
              "      <td>1.000000</td>\n",
              "    </tr>\n",
              "    <tr>\n",
              "      <th>max</th>\n",
              "      <td>1.581524e+07</td>\n",
              "      <td>60.000000</td>\n",
              "      <td>150000.000000</td>\n",
              "      <td>1.000000</td>\n",
              "    </tr>\n",
              "  </tbody>\n",
              "</table>\n",
              "</div>"
            ],
            "text/plain": [
              "            User ID         Age  EstimatedSalary   Purchased\n",
              "count  4.000000e+02  400.000000       400.000000  400.000000\n",
              "mean   1.569154e+07   37.655000     69742.500000    0.357500\n",
              "std    7.165832e+04   10.482877     34096.960282    0.479864\n",
              "min    1.556669e+07   18.000000     15000.000000    0.000000\n",
              "25%    1.562676e+07   29.750000     43000.000000    0.000000\n",
              "50%    1.569434e+07   37.000000     70000.000000    0.000000\n",
              "75%    1.575036e+07   46.000000     88000.000000    1.000000\n",
              "max    1.581524e+07   60.000000    150000.000000    1.000000"
            ]
          },
          "metadata": {},
          "execution_count": 7
        }
      ]
    },
    {
      "cell_type": "code",
      "metadata": {
        "colab": {
          "base_uri": "https://localhost:8080/"
        },
        "id": "IKDZeqb9q0Bk",
        "outputId": "a5897218-2fb5-4a01-95ee-f958f48c18ff"
      },
      "source": [
        "143/400"
      ],
      "execution_count": 8,
      "outputs": [
        {
          "output_type": "execute_result",
          "data": {
            "text/plain": [
              "0.3575"
            ]
          },
          "metadata": {},
          "execution_count": 8
        }
      ]
    },
    {
      "cell_type": "code",
      "metadata": {
        "colab": {
          "base_uri": "https://localhost:8080/",
          "height": 252
        },
        "id": "6OguSnrJrBSq",
        "outputId": "8fd86367-21a3-428e-bf72-2fb0e5ebbe80"
      },
      "source": [
        "sns.boxplot(y='Purchased',data=df);"
      ],
      "execution_count": 10,
      "outputs": [
        {
          "output_type": "display_data",
          "data": {
            "image/png": "[encoded data removed]",
            "text/plain": [
              "<Figure size 432x288 with 1 Axes>"
            ]
          },
          "metadata": {
            "needs_background": "light"
          }
        }
      ]
    },
    {
      "cell_type": "code",
      "metadata": {
        "colab": {
          "base_uri": "https://localhost:8080/",
          "height": 252
        },
        "id": "RfDEvJeqrLCS",
        "outputId": "e12f9c43-5d2c-41a2-d1f0-ab46cb453e6b"
      },
      "source": [
        "sns.boxplot(y='EstimatedSalary',data=df);"
      ],
      "execution_count": 11,
      "outputs": [
        {
          "output_type": "display_data",
          "data": {
            "image/png": "[encoded data removed]",
            "text/plain": [
              "<Figure size 432x288 with 1 Axes>"
            ]
          },
          "metadata": {
            "needs_background": "light"
          }
        }
      ]
    },
    {
      "cell_type": "code",
      "metadata": {
        "colab": {
          "base_uri": "https://localhost:8080/",
          "height": 252
        },
        "id": "j7Nu1F8crUMC",
        "outputId": "b58a9ccc-be64-46c9-bc88-1e5b487974a4"
      },
      "source": [
        "sns.boxplot(y='Age',data=df);"
      ],
      "execution_count": 12,
      "outputs": [
        {
          "output_type": "display_data",
          "data": {
            "image/png": "[encoded data removed]",
            "text/plain": [
              "<Figure size 432x288 with 1 Axes>"
            ]
          },
          "metadata": {
            "needs_background": "light"
          }
        }
      ]
    },
    {
      "cell_type": "code",
      "metadata": {
        "colab": {
          "base_uri": "https://localhost:8080/",
          "height": 298
        },
        "id": "E6SOgNPErcup",
        "outputId": "0534334e-ec92-4019-cb26-01e6ef96229e"
      },
      "source": [
        "sns.histplot(x='Age',data=df)"
      ],
      "execution_count": 13,
      "outputs": [
        {
          "output_type": "execute_result",
          "data": {
            "text/plain": [
              "<matplotlib.axes._subplots.AxesSubplot at 0x7fbecc2e8ad0>"
            ]
          },
          "metadata": {},
          "execution_count": 13
        },
        {
          "output_type": "display_data",
          "data": {
            "image/png": "[encoded data removed]",
            "text/plain": [
              "<Figure size 432x288 with 1 Axes>"
            ]
          },
          "metadata": {
            "needs_background": "light"
          }
        }
      ]
    },
    {
      "cell_type": "code",
      "metadata": {
        "colab": {
          "base_uri": "https://localhost:8080/",
          "height": 279
        },
        "id": "Qy9TDLUqr805",
        "outputId": "508a3002-c3fe-4e15-9d10-4ad17ae3f393"
      },
      "source": [
        "sns.kdeplot(x='Age',data=df);"
      ],
      "execution_count": 15,
      "outputs": [
        {
          "output_type": "display_data",
          "data": {
            "image/png": "[encoded data removed]",
            "text/plain": [
              "<Figure size 432x288 with 1 Axes>"
            ]
          },
          "metadata": {
            "needs_background": "light"
          }
        }
      ]
    },
    {
      "cell_type": "code",
      "metadata": {
        "colab": {
          "base_uri": "https://localhost:8080/",
          "height": 290
        },
        "id": "CLDP1GPqsHCR",
        "outputId": "6d524269-1acd-4fc5-eac0-aa88f7203b91"
      },
      "source": [
        "sns.kdeplot(x='EstimatedSalary',data=df);"
      ],
      "execution_count": 16,
      "outputs": [
        {
          "output_type": "display_data",
          "data": {
            "image/png": "[encoded data removed]",
            "text/plain": [
              "<Figure size 432x288 with 1 Axes>"
            ]
          },
          "metadata": {
            "needs_background": "light"
          }
        }
      ]
    },
    {
      "cell_type": "code",
      "metadata": {
        "colab": {
          "base_uri": "https://localhost:8080/",
          "height": 279
        },
        "id": "mrGYiXaysOSR",
        "outputId": "8ef0c14e-8da9-4ef4-d213-5c25e69ad8d2"
      },
      "source": [
        "sns.scatterplot(x='Age',y='EstimatedSalary',hue='Purchased',data=df,palette='bright');"
      ],
      "execution_count": 20,
      "outputs": [
        {
          "output_type": "display_data",
          "data": {
            "image/png": "[encoded data removed]",
            "text/plain": [
              "<Figure size 432x288 with 1 Axes>"
            ]
          },
          "metadata": {
            "needs_background": "light"
          }
        }
      ]
    },
    {
      "cell_type": "markdown",
      "metadata": {
        "id": "KXmeLUHitd-4"
      },
      "source": [
        "#Feature Selection"
      ]
    },
    {
      "cell_type": "code",
      "metadata": {
        "id": "EsgMl_bysT3x"
      },
      "source": [
        "X=df[['EstimatedSalary','Age']]"
      ],
      "execution_count": 21,
      "outputs": []
    },
    {
      "cell_type": "code",
      "metadata": {
        "colab": {
          "base_uri": "https://localhost:8080/",
          "height": 423
        },
        "id": "6246FUUutJ_w",
        "outputId": "2c931c9b-1f6a-4571-f895-3b4ad762d720"
      },
      "source": [
        "X"
      ],
      "execution_count": 22,
      "outputs": [
        {
          "output_type": "execute_result",
          "data": {
            "text/html": [
              "<div>\n",
              "<style scoped>\n",
              "    .dataframe tbody tr th:only-of-type {\n",
              "        vertical-align: middle;\n",
              "    }\n",
              "\n",
              "    .dataframe tbody tr th {\n",
              "        vertical-align: top;\n",
              "    }\n",
              "\n",
              "    .dataframe thead th {\n",
              "        text-align: right;\n",
              "    }\n",
              "</style>\n",
              "<table border=\"1\" class=\"dataframe\">\n",
              "  <thead>\n",
              "    <tr style=\"text-align: right;\">\n",
              "      <th></th>\n",
              "      <th>EstimatedSalary</th>\n",
              "      <th>Age</th>\n",
              "    </tr>\n",
              "  </thead>\n",
              "  <tbody>\n",
              "    <tr>\n",
              "      <th>0</th>\n",
              "      <td>19000</td>\n",
              "      <td>19</td>\n",
              "    </tr>\n",
              "    <tr>\n",
              "      <th>1</th>\n",
              "      <td>20000</td>\n",
              "      <td>35</td>\n",
              "    </tr>\n",
              "    <tr>\n",
              "      <th>2</th>\n",
              "      <td>43000</td>\n",
              "      <td>26</td>\n",
              "    </tr>\n",
              "    <tr>\n",
              "      <th>3</th>\n",
              "      <td>57000</td>\n",
              "      <td>27</td>\n",
              "    </tr>\n",
              "    <tr>\n",
              "      <th>4</th>\n",
              "      <td>76000</td>\n",
              "      <td>19</td>\n",
              "    </tr>\n",
              "    <tr>\n",
              "      <th>...</th>\n",
              "      <td>...</td>\n",
              "      <td>...</td>\n",
              "    </tr>\n",
              "    <tr>\n",
              "      <th>395</th>\n",
              "      <td>41000</td>\n",
              "      <td>46</td>\n",
              "    </tr>\n",
              "    <tr>\n",
              "      <th>396</th>\n",
              "      <td>23000</td>\n",
              "      <td>51</td>\n",
              "    </tr>\n",
              "    <tr>\n",
              "      <th>397</th>\n",
              "      <td>20000</td>\n",
              "      <td>50</td>\n",
              "    </tr>\n",
              "    <tr>\n",
              "      <th>398</th>\n",
              "      <td>33000</td>\n",
              "      <td>36</td>\n",
              "    </tr>\n",
              "    <tr>\n",
              "      <th>399</th>\n",
              "      <td>36000</td>\n",
              "      <td>49</td>\n",
              "    </tr>\n",
              "  </tbody>\n",
              "</table>\n",
              "<p>400 rows × 2 columns</p>\n",
              "</div>"
            ],
            "text/plain": [
              "     EstimatedSalary  Age\n",
              "0              19000   19\n",
              "1              20000   35\n",
              "2              43000   26\n",
              "3              57000   27\n",
              "4              76000   19\n",
              "..               ...  ...\n",
              "395            41000   46\n",
              "396            23000   51\n",
              "397            20000   50\n",
              "398            33000   36\n",
              "399            36000   49\n",
              "\n",
              "[400 rows x 2 columns]"
            ]
          },
          "metadata": {},
          "execution_count": 22
        }
      ]
    },
    {
      "cell_type": "code",
      "metadata": {
        "id": "hHKf2h2PtKlQ"
      },
      "source": [
        "y=df['Purchased']"
      ],
      "execution_count": 24,
      "outputs": []
    },
    {
      "cell_type": "code",
      "metadata": {
        "id": "br5wMJQ-txJf"
      },
      "source": [
        "from sklearn.model_selection import train_test_split"
      ],
      "execution_count": 25,
      "outputs": []
    },
    {
      "cell_type": "code",
      "metadata": {
        "id": "4-6KWM--t1Tw"
      },
      "source": [
        "train_test_split?"
      ],
      "execution_count": 26,
      "outputs": []
    },
    {
      "cell_type": "code",
      "metadata": {
        "id": "fFSHT1HJt3FI"
      },
      "source": [
        "X_train, X_test, y_train, y_test = train_test_split(\n",
        "...     X, y, test_size=0.3, random_state=42)"
      ],
      "execution_count": 27,
      "outputs": []
    },
    {
      "cell_type": "code",
      "metadata": {
        "colab": {
          "base_uri": "https://localhost:8080/",
          "height": 423
        },
        "id": "5w5papr7t8ho",
        "outputId": "33d8d85e-fb41-4707-b706-d9f02bf6df14"
      },
      "source": [
        "X_train"
      ],
      "execution_count": 28,
      "outputs": [
        {
          "output_type": "execute_result",
          "data": {
            "text/html": [
              "<div>\n",
              "<style scoped>\n",
              "    .dataframe tbody tr th:only-of-type {\n",
              "        vertical-align: middle;\n",
              "    }\n",
              "\n",
              "    .dataframe tbody tr th {\n",
              "        vertical-align: top;\n",
              "    }\n",
              "\n",
              "    .dataframe thead th {\n",
              "        text-align: right;\n",
              "    }\n",
              "</style>\n",
              "<table border=\"1\" class=\"dataframe\">\n",
              "  <thead>\n",
              "    <tr style=\"text-align: right;\">\n",
              "      <th></th>\n",
              "      <th>EstimatedSalary</th>\n",
              "      <th>Age</th>\n",
              "    </tr>\n",
              "  </thead>\n",
              "  <tbody>\n",
              "    <tr>\n",
              "      <th>157</th>\n",
              "      <td>75000</td>\n",
              "      <td>29</td>\n",
              "    </tr>\n",
              "    <tr>\n",
              "      <th>109</th>\n",
              "      <td>80000</td>\n",
              "      <td>38</td>\n",
              "    </tr>\n",
              "    <tr>\n",
              "      <th>17</th>\n",
              "      <td>26000</td>\n",
              "      <td>45</td>\n",
              "    </tr>\n",
              "    <tr>\n",
              "      <th>347</th>\n",
              "      <td>108000</td>\n",
              "      <td>54</td>\n",
              "    </tr>\n",
              "    <tr>\n",
              "      <th>24</th>\n",
              "      <td>23000</td>\n",
              "      <td>46</td>\n",
              "    </tr>\n",
              "    <tr>\n",
              "      <th>...</th>\n",
              "      <td>...</td>\n",
              "      <td>...</td>\n",
              "    </tr>\n",
              "    <tr>\n",
              "      <th>71</th>\n",
              "      <td>27000</td>\n",
              "      <td>24</td>\n",
              "    </tr>\n",
              "    <tr>\n",
              "      <th>106</th>\n",
              "      <td>35000</td>\n",
              "      <td>26</td>\n",
              "    </tr>\n",
              "    <tr>\n",
              "      <th>270</th>\n",
              "      <td>133000</td>\n",
              "      <td>43</td>\n",
              "    </tr>\n",
              "    <tr>\n",
              "      <th>348</th>\n",
              "      <td>77000</td>\n",
              "      <td>39</td>\n",
              "    </tr>\n",
              "    <tr>\n",
              "      <th>102</th>\n",
              "      <td>86000</td>\n",
              "      <td>32</td>\n",
              "    </tr>\n",
              "  </tbody>\n",
              "</table>\n",
              "<p>280 rows × 2 columns</p>\n",
              "</div>"
            ],
            "text/plain": [
              "     EstimatedSalary  Age\n",
              "157            75000   29\n",
              "109            80000   38\n",
              "17             26000   45\n",
              "347           108000   54\n",
              "24             23000   46\n",
              "..               ...  ...\n",
              "71             27000   24\n",
              "106            35000   26\n",
              "270           133000   43\n",
              "348            77000   39\n",
              "102            86000   32\n",
              "\n",
              "[280 rows x 2 columns]"
            ]
          },
          "metadata": {},
          "execution_count": 28
        }
      ]
    },
    {
      "cell_type": "code",
      "metadata": {
        "id": "P0qW7mITt9YA"
      },
      "source": [
        "from sklearn.preprocessing import StandardScaler"
      ],
      "execution_count": 29,
      "outputs": []
    },
    {
      "cell_type": "code",
      "metadata": {
        "id": "UI98QZmMuW24"
      },
      "source": [
        "Sc=StandardScaler()"
      ],
      "execution_count": 30,
      "outputs": []
    },
    {
      "cell_type": "code",
      "metadata": {
        "id": "ad3oNu6puYUn"
      },
      "source": [
        "X_train_scaled=Sc.fit_transform(X_train)"
      ],
      "execution_count": 31,
      "outputs": []
    },
    {
      "cell_type": "code",
      "metadata": {
        "id": "9XaTCZWzujeI"
      },
      "source": [
        "X_test_scaled=Sc.transform(X_test)"
      ],
      "execution_count": 32,
      "outputs": []
    },
    {
      "cell_type": "code",
      "metadata": {
        "colab": {
          "base_uri": "https://localhost:8080/"
        },
        "id": "oIDkSHtHuo24",
        "outputId": "598b3fee-c3f1-4aac-9855-801df03c1724"
      },
      "source": [
        "X_train_scaled"
      ],
      "execution_count": 33,
      "outputs": [
        {
          "output_type": "execute_result",
          "data": {
            "text/plain": [
              "array([[ 0.1301563 , -0.84252154],\n",
              "       [ 0.2777019 ,  0.04175763],\n",
              "       [-1.31579061,  0.72953032],\n",
              "       [ 1.10395728,  1.61380949],\n",
              "       [-1.40431797,  0.82778356],\n",
              "       [-1.25677236, -1.43204099],\n",
              "       [ 0.1301563 , -0.05649561],\n",
              "       [-0.16493491,  0.43477059],\n",
              "       [ 0.01211982, -0.2530021 ],\n",
              "       [ 2.22530386,  1.31904976],\n",
              "       [ 0.74984783,  0.14001087],\n",
              "       [ 0.54328399, -1.33378775],\n",
              "       [ 0.72033871,  2.00682245],\n",
              "       [-1.43382709, -1.23553451],\n",
              "       [-0.34198963,  0.33651735],\n",
              "       [ 0.54328399, -0.94077478],\n",
              "       [ 0.2777019 ,  0.43477059],\n",
              "       [ 1.10395728,  0.43477059],\n",
              "       [ 0.74984783,  0.82778356],\n",
              "       [ 1.25150288,  0.9260368 ],\n",
              "       [-1.25677236, -0.44950858],\n",
              "       [-1.34529973, -1.82505395],\n",
              "       [ 0.54328399,  1.12254328],\n",
              "       [-1.64039093, -0.64601506],\n",
              "       [ 0.24819278, -0.7442683 ],\n",
              "       [ 2.07775825,  1.02429004],\n",
              "       [ 1.36953936, -0.54776182],\n",
              "       [ 0.01211982, -0.05649561],\n",
              "       [ 0.45475663, -1.9233072 ],\n",
              "       [ 0.24819278,  0.43477059],\n",
              "       [ 0.39573838, -1.03902802],\n",
              "       [-0.16493491,  0.23826411],\n",
              "       [ 0.10064718,  1.90856921],\n",
              "       [-1.64039093, -1.13728127],\n",
              "       [ 0.2777019 , -1.13728127],\n",
              "       [-0.81413556, -0.84252154],\n",
              "       [ 2.31383122, -0.44950858],\n",
              "       [-0.84364468,  0.14001087],\n",
              "       [ 0.98592079,  1.61380949],\n",
              "       [-1.10922676, -0.15474885],\n",
              "       [-1.13873588,  0.82778356],\n",
              "       [ 2.10726737,  0.23826411],\n",
              "       [-0.25346227, -0.05649561],\n",
              "       [ 2.2843221 , -0.84252154],\n",
              "       [-0.40100787, -0.05649561],\n",
              "       [-0.60757171, -0.2530021 ],\n",
              "       [-0.51904435,  0.43477059],\n",
              "       [-0.96168116, -0.2530021 ],\n",
              "       [-1.19775412,  0.33651735],\n",
              "       [ 0.04162894,  0.23826411],\n",
              "       [-1.64039093, -1.13728127],\n",
              "       [-0.07640754, -0.64601506],\n",
              "       [-0.51904435, -0.2530021 ],\n",
              "       [-1.34529973, -0.2530021 ],\n",
              "       [ 0.54328399, -0.7442683 ],\n",
              "       [ 0.04162894,  0.33651735],\n",
              "       [ 1.54659408, -0.94077478],\n",
              "       [ 0.33672014,  0.82778356],\n",
              "       [-0.22395315, -1.53029423],\n",
              "       [-1.43382709,  0.72953032],\n",
              "       [-0.63708083, -0.7442683 ],\n",
              "       [-1.34529973, -0.35125534],\n",
              "       [ 0.1301563 ,  0.23826411],\n",
              "       [ 1.36953936, -0.54776182],\n",
              "       [ 0.33672014, -1.43204099],\n",
              "       [ 0.2777019 , -1.13728127],\n",
              "       [ 1.78266705,  1.02429004],\n",
              "       [ 2.13677649,  2.10507569],\n",
              "       [-0.46002611, -0.2530021 ],\n",
              "       [-0.81413556, -0.35125534],\n",
              "       [-0.28297139,  0.14001087],\n",
              "       [ 0.74984783, -1.03902802],\n",
              "       [ 0.36622926,  2.20332893],\n",
              "       [-0.46002611, -1.33378775],\n",
              "       [ 2.16628562,  2.00682245],\n",
              "       [ 0.98592079,  1.51555624],\n",
              "       [ 0.24819278, -0.2530021 ],\n",
              "       [ 0.83837519, -0.15474885],\n",
              "       [-0.31248051,  1.90856921],\n",
              "       [ 1.95972177, -0.05649561],\n",
              "       [-0.81413556, -0.44950858],\n",
              "       [ 0.01211982,  0.33651735],\n",
              "       [-1.46333621,  1.417303  ],\n",
              "       [ 2.34334034,  1.417303  ],\n",
              "       [-0.0173893 , -0.05649561],\n",
              "       [ 0.39573838, -1.13728127],\n",
              "       [ 0.04162894, -1.13728127],\n",
              "       [-0.54855347, -1.13728127],\n",
              "       [-0.31248051,  0.33651735],\n",
              "       [-0.13542579, -0.64601506],\n",
              "       [ 2.16628562, -0.05649561],\n",
              "       [-0.28297139,  0.04175763],\n",
              "       [-1.07971764, -0.64601506],\n",
              "       [ 0.1301563 ,  0.43477059],\n",
              "       [ 1.36953936,  0.82778356],\n",
              "       [-0.54855347, -0.15474885],\n",
              "       [ 0.01211982,  0.04175763],\n",
              "       [ 0.51377487,  1.12254328],\n",
              "       [-1.10922676,  1.90856921],\n",
              "       [ 1.98923089,  1.02429004],\n",
              "       [-0.60757171,  0.9260368 ],\n",
              "       [-0.04689842, -0.44950858],\n",
              "       [ 2.22530386, -0.05649561],\n",
              "       [ 0.33672014, -1.72680071],\n",
              "       [-0.69609908,  0.23826411],\n",
              "       [-1.43382709, -0.2530021 ],\n",
              "       [-1.0206994 , -1.72680071],\n",
              "       [-0.75511732,  0.72953032],\n",
              "       [-0.81413556, -1.13728127],\n",
              "       [ 0.89739343,  2.00682245],\n",
              "       [-0.40100787,  0.23826411],\n",
              "       [ 1.22199376,  0.04175763],\n",
              "       [ 0.2777019 , -0.05649561],\n",
              "       [-1.25677236,  1.12254328],\n",
              "       [ 0.1301563 , -0.15474885],\n",
              "       [ 0.04162894,  0.33651735],\n",
              "       [-0.31248051, -0.2530021 ],\n",
              "       [ 1.72364881,  0.53302383],\n",
              "       [ 0.48426575,  0.33651735],\n",
              "       [ 1.25150288,  0.04175763],\n",
              "       [-1.40431797,  2.00682245],\n",
              "       [-1.13873588, -1.13728127],\n",
              "       [-1.55186357, -0.54776182],\n",
              "       [-0.54855347,  0.33651735],\n",
              "       [-1.55186357, -0.64601506],\n",
              "       [ 0.51377487, -0.2530021 ],\n",
              "       [-1.05020852,  1.02429004],\n",
              "       [ 0.54328399, -1.03902802],\n",
              "       [ 0.77935695, -0.2530021 ],\n",
              "       [ 0.07113806,  0.43477059],\n",
              "       [-0.07640754, -1.62854747],\n",
              "       [ 0.04162894,  0.33651735],\n",
              "       [-0.31248051, -0.44950858],\n",
              "       [ 1.87119441,  0.14001087],\n",
              "       [ 0.39573838, -0.94077478],\n",
              "       [ 0.51377487,  0.82778356],\n",
              "       [-0.37149875, -1.33378775],\n",
              "       [ 1.39904848, -0.64601506],\n",
              "       [ 0.51377487,  1.22079652],\n",
              "       [ 0.33672014, -1.72680071],\n",
              "       [ 1.90070353, -0.54776182],\n",
              "       [ 0.45475663, -1.72680071],\n",
              "       [-1.28628149, -0.2530021 ],\n",
              "       [-0.81413556, -0.84252154],\n",
              "       [ 0.51377487, -1.62854747],\n",
              "       [-0.34198963, -0.2530021 ],\n",
              "       [-1.13873588,  0.72953032],\n",
              "       [-0.84364468,  2.20332893],\n",
              "       [ 0.60230223, -0.2530021 ],\n",
              "       [-0.78462644, -0.2530021 ],\n",
              "       [-0.78462644, -1.9233072 ],\n",
              "       [ 2.31383122,  0.43477059],\n",
              "       [ 0.24819278,  0.72953032],\n",
              "       [-0.31248051,  0.23826411],\n",
              "       [-1.40431797, -1.33378775],\n",
              "       [-0.57806259, -0.44950858],\n",
              "       [-0.0173893 ,  0.43477059],\n",
              "       [ 1.75315793,  1.71206273],\n",
              "       [-0.78462644,  1.22079652],\n",
              "       [ 1.4285576 ,  1.02429004],\n",
              "       [ 0.15966542, -1.82505395],\n",
              "       [ 0.04162894,  0.33651735],\n",
              "       [ 0.01211982,  0.23826411],\n",
              "       [ 0.51377487, -1.03902802],\n",
              "       [ 1.63512145, -0.15474885],\n",
              "       [ 0.1301563 , -0.2530021 ],\n",
              "       [-0.37149875, -0.2530021 ],\n",
              "       [ 1.31052112, -0.35125534],\n",
              "       [ 0.07113806, -0.2530021 ],\n",
              "       [ 1.10395728,  2.20332893],\n",
              "       [ 0.48426575, -1.23553451],\n",
              "       [-0.48953523, -1.03902802],\n",
              "       [-1.61088181, -1.62854747],\n",
              "       [ 0.10064718, -0.05649561],\n",
              "       [-0.93217204, -0.2530021 ],\n",
              "       [-0.0173893 ,  1.61380949],\n",
              "       [-1.19775412,  0.9260368 ],\n",
              "       [-0.60757171,  0.04175763],\n",
              "       [ 2.25481298, -0.2530021 ],\n",
              "       [ 0.18917454, -0.2530021 ],\n",
              "       [ 0.24819278,  0.33651735],\n",
              "       [-1.10922676, -0.05649561],\n",
              "       [-0.7256082 ,  2.20332893],\n",
              "       [-0.34198963, -0.94077478],\n",
              "       [-0.13542579, -1.43204099],\n",
              "       [-0.22395315, -1.43204099],\n",
              "       [-1.58137269, -0.7442683 ],\n",
              "       [-1.10922676, -1.23553451],\n",
              "       [ 0.36622926,  2.10507569],\n",
              "       [-0.96168116,  2.00682245],\n",
              "       [ 0.33672014, -1.9233072 ],\n",
              "       [-0.34198963,  0.82778356],\n",
              "       [-1.58137269, -1.03902802],\n",
              "       [-0.69609908,  2.00682245],\n",
              "       [-1.19775412,  1.02429004],\n",
              "       [-0.16493491,  1.12254328],\n",
              "       [-1.0206994 ,  1.22079652],\n",
              "       [ 0.04162894,  1.51555624],\n",
              "       [-0.40100787,  0.23826411],\n",
              "       [ 1.281012  ,  1.417303  ],\n",
              "       [-0.84364468,  2.10507569],\n",
              "       [-0.22395315, -0.15474885],\n",
              "       [ 0.98592079,  0.43477059],\n",
              "       [-0.54855347, -0.05649561],\n",
              "       [-1.10922676,  1.02429004],\n",
              "       [-1.22726324,  2.10507569],\n",
              "       [ 0.24819278, -0.05649561],\n",
              "       [-0.28297139,  0.23826411],\n",
              "       [ 0.10064718,  1.12254328],\n",
              "       [ 0.57279311, -1.23553451],\n",
              "       [-1.64039093, -0.7442683 ],\n",
              "       [ 0.21868366,  0.23826411],\n",
              "       [ 0.39573838, -1.33378775],\n",
              "       [-0.60757171,  0.04175763],\n",
              "       [ 1.78266705,  0.72953032],\n",
              "       [ 0.04162894, -1.62854747],\n",
              "       [-1.40431797, -0.2530021 ],\n",
              "       [-1.49284533, -0.2530021 ],\n",
              "       [ 0.54328399, -0.64601506],\n",
              "       [ 0.2777019 , -0.7442683 ],\n",
              "       [-0.69609908,  0.9260368 ],\n",
              "       [ 0.57279311, -1.03902802],\n",
              "       [ 0.04162894, -0.2530021 ],\n",
              "       [ 1.34003024, -0.7442683 ],\n",
              "       [ 1.51708496,  0.14001087],\n",
              "       [ 0.36622926, -0.84252154],\n",
              "       [-0.22395315,  0.33651735],\n",
              "       [ 0.57279311,  1.02429004],\n",
              "       [-0.34198963,  0.04175763],\n",
              "       [-1.55186357, -0.54776182],\n",
              "       [ 0.1301563 ,  0.14001087],\n",
              "       [ 0.30721102, -1.13728127],\n",
              "       [ 1.04493904,  0.14001087],\n",
              "       [-0.46002611, -1.53029423],\n",
              "       [ 1.39904848, -0.15474885],\n",
              "       [-0.84364468,  2.20332893],\n",
              "       [-0.46002611, -0.94077478],\n",
              "       [ 1.87119441,  1.31904976],\n",
              "       [-1.25677236,  1.12254328],\n",
              "       [-0.31248051, -0.15474885],\n",
              "       [ 0.98592079,  1.81031597],\n",
              "       [-0.37149875, -1.03902802],\n",
              "       [-1.13873588, -1.33378775],\n",
              "       [ 0.04162894, -0.35125534],\n",
              "       [-1.13873588, -0.94077478],\n",
              "       [-1.49284533,  1.22079652],\n",
              "       [-0.8731538 , -0.44950858],\n",
              "       [-0.69609908, -0.84252154],\n",
              "       [-1.55186357, -1.53029423],\n",
              "       [ 1.90070353, -0.7442683 ],\n",
              "       [ 1.01542992,  0.9260368 ],\n",
              "       [ 0.24819278,  0.82778356],\n",
              "       [ 1.87119441,  1.02429004],\n",
              "       [-0.63708083,  0.9260368 ],\n",
              "       [ 2.07775825,  1.12254328],\n",
              "       [ 0.86788431, -0.54776182],\n",
              "       [ 0.01211982,  0.04175763],\n",
              "       [-1.31579061, -1.82505395],\n",
              "       [ 0.18917454, -0.05649561],\n",
              "       [-0.57806259,  0.9260368 ],\n",
              "       [-0.40100787,  0.23826411],\n",
              "       [ 1.60561233, -0.15474885],\n",
              "       [ 0.10064718, -1.72680071],\n",
              "       [-0.37149875, -0.64601506],\n",
              "       [-0.75511732,  0.33651735],\n",
              "       [-0.48953523,  0.43477059],\n",
              "       [-0.99119028, -0.94077478],\n",
              "       [ 0.07113806,  0.14001087],\n",
              "       [ 0.4252475 , -0.94077478],\n",
              "       [-0.57806259,  0.04175763],\n",
              "       [-0.81413556,  0.9260368 ],\n",
              "       [ 0.04162894, -0.05649561],\n",
              "       [-1.0206994 ,  1.12254328],\n",
              "       [-1.43382709,  0.72953032],\n",
              "       [ 0.04162894, -0.2530021 ],\n",
              "       [-1.28628149, -1.33378775],\n",
              "       [-1.05020852, -1.13728127],\n",
              "       [ 1.84168529,  0.53302383],\n",
              "       [ 0.18917454,  0.14001087],\n",
              "       [ 0.45475663, -0.54776182]])"
            ]
          },
          "metadata": {},
          "execution_count": 33
        }
      ]
    },
    {
      "cell_type": "code",
      "metadata": {
        "colab": {
          "base_uri": "https://localhost:8080/"
        },
        "id": "NOerqKKfup3v",
        "outputId": "3f0db949-22e0-46ea-9723-c6390fdda9ed"
      },
      "source": [
        "X_test_scaled"
      ],
      "execution_count": 34,
      "outputs": [
        {
          "output_type": "execute_result",
          "data": {
            "text/plain": [
              "array([[-1.43382709,  0.82778356],\n",
              "       [ 0.51377487,  2.10507569],\n",
              "       [-0.78462644, -0.94077478],\n",
              "       [ 0.74984783,  1.02429004],\n",
              "       [-1.25677236, -0.84252154],\n",
              "       [-0.25346227, -0.7442683 ],\n",
              "       [ 1.07444816,  0.9260368 ],\n",
              "       [ 0.36622926, -0.84252154],\n",
              "       [ 0.1301563 ,  0.23826411],\n",
              "       [-0.16493491,  0.43477059],\n",
              "       [-0.16493491, -0.2530021 ],\n",
              "       [-1.07971764,  1.51555624],\n",
              "       [-0.66658995, -1.43204099],\n",
              "       [-1.40431797, -1.72680071],\n",
              "       [ 0.48426575, -0.7442683 ],\n",
              "       [ 1.10395728, -0.2530021 ],\n",
              "       [-0.96168116,  1.417303  ],\n",
              "       [ 0.10064718,  0.82778356],\n",
              "       [-0.84364468,  0.14001087],\n",
              "       [-0.31248051,  1.81031597],\n",
              "       [-1.28628149, -1.53029423],\n",
              "       [ 0.2777019 , -0.84252154],\n",
              "       [-1.40431797,  0.9260368 ],\n",
              "       [ 0.15966542,  2.10507569],\n",
              "       [-1.52235445, -1.82505395],\n",
              "       [-1.40431797,  1.31904976],\n",
              "       [ 0.2777019 ,  0.43477059],\n",
              "       [-0.51904435, -0.05649561],\n",
              "       [ 1.60561233,  1.71206273],\n",
              "       [-1.46333621, -1.82505395],\n",
              "       [-0.8731538 ,  0.82778356],\n",
              "       [-0.0173893 , -1.82505395],\n",
              "       [ 2.16628562, -0.15474885],\n",
              "       [ 0.24819278, -0.94077478],\n",
              "       [ 1.07444816,  0.23826411],\n",
              "       [ 0.1301563 , -0.2530021 ],\n",
              "       [-0.46002611, -0.05649561],\n",
              "       [-0.16493491,  0.04175763],\n",
              "       [-1.19775412, -1.13728127],\n",
              "       [-0.07640754, -1.9233072 ],\n",
              "       [-1.10922676,  1.02429004],\n",
              "       [-0.46002611, -1.33378775],\n",
              "       [-0.54855347, -1.9233072 ],\n",
              "       [-1.49284533,  0.9260368 ],\n",
              "       [-0.63708083, -1.72680071],\n",
              "       [ 2.01874001,  0.63127707],\n",
              "       [-0.28297139, -0.84252154],\n",
              "       [ 0.01211982, -0.64601506],\n",
              "       [-0.8731538 ,  1.02429004],\n",
              "       [-0.81413556, -0.35125534],\n",
              "       [ 0.24819278, -1.23553451],\n",
              "       [ 0.33672014,  1.51555624],\n",
              "       [-0.46002611,  0.04175763],\n",
              "       [ 0.2777019 , -1.23553451],\n",
              "       [ 0.2777019 , -0.05649561],\n",
              "       [-1.168245  , -1.03902802],\n",
              "       [ 0.92690255,  2.20332893],\n",
              "       [ 1.39904848, -1.13728127],\n",
              "       [ 0.10064718, -0.64601506],\n",
              "       [ 0.15966542, -0.64601506],\n",
              "       [-0.57806259,  0.33651735],\n",
              "       [-0.40100787, -0.2530021 ],\n",
              "       [ 0.57279311,  1.417303  ],\n",
              "       [ 0.48426575, -0.94077478],\n",
              "       [-0.34198963, -0.94077478],\n",
              "       [ 1.95972177, -1.03902802],\n",
              "       [ 0.57279311,  0.43477059],\n",
              "       [ 2.16628562,  0.9260368 ],\n",
              "       [-0.34198963,  0.14001087],\n",
              "       [ 1.25150288, -0.44950858],\n",
              "       [ 1.98923089,  1.417303  ],\n",
              "       [ 0.4252475 , -1.82505395],\n",
              "       [-0.37149875, -1.03902802],\n",
              "       [-1.49284533, -1.43204099],\n",
              "       [-1.07971764,  0.9260368 ],\n",
              "       [-0.60757171, -0.2530021 ],\n",
              "       [ 1.84168529,  1.81031597],\n",
              "       [-1.31579061,  1.61380949],\n",
              "       [-0.69609908, -0.2530021 ],\n",
              "       [ 0.21868366, -0.05649561],\n",
              "       [-0.40100787, -1.03902802],\n",
              "       [-1.25677236,  0.82778356],\n",
              "       [ 1.87119441,  0.14001087],\n",
              "       [-0.93217204,  0.63127707],\n",
              "       [-1.31579061,  1.90856921],\n",
              "       [ 1.45806672, -0.54776182],\n",
              "       [-0.54855347,  0.33651735],\n",
              "       [ 0.10064718,  1.02429004],\n",
              "       [ 0.45475663, -1.13728127],\n",
              "       [ 0.30721102, -1.53029423],\n",
              "       [ 0.45475663,  1.12254328],\n",
              "       [-0.48953523, -0.15474885],\n",
              "       [-0.34198963,  0.23826411],\n",
              "       [ 0.2777019 ,  0.33651735],\n",
              "       [-1.61088181, -1.13728127],\n",
              "       [ 0.24819278,  0.14001087],\n",
              "       [ 1.75315793,  2.10507569],\n",
              "       [-0.19444403,  0.43477059],\n",
              "       [ 2.13677649,  1.51555624],\n",
              "       [ 1.22199376, -0.35125534],\n",
              "       [ 1.51708496,  1.90856921],\n",
              "       [ 0.01211982,  0.14001087],\n",
              "       [-1.34529973,  0.9260368 ],\n",
              "       [-1.52235445, -1.33378775],\n",
              "       [-0.60757171, -0.15474885],\n",
              "       [ 2.34334034, -0.54776182],\n",
              "       [-1.22726324,  1.02429004],\n",
              "       [ 1.07444816, -0.7442683 ],\n",
              "       [-1.07971764,  2.20332893],\n",
              "       [-0.28297139,  0.04175763],\n",
              "       [-1.168245  , -0.44950858],\n",
              "       [ 0.01211982,  0.14001087],\n",
              "       [-0.93217204,  1.71206273],\n",
              "       [-0.93217204,  1.12254328],\n",
              "       [ 1.22199376,  0.53302383],\n",
              "       [-1.49284533, -1.03902802],\n",
              "       [-1.58137269, -1.13728127],\n",
              "       [ 0.66132047, -0.05649561],\n",
              "       [-0.48953523,  0.43477059],\n",
              "       [-0.28297139, -0.2530021 ]])"
            ]
          },
          "metadata": {},
          "execution_count": 34
        }
      ]
    },
    {
      "cell_type": "markdown",
      "metadata": {
        "id": "2T9eOAPZu5kC"
      },
      "source": [
        "#Model Building"
      ]
    },
    {
      "cell_type": "code",
      "metadata": {
        "id": "IO0DfhNJu2NX"
      },
      "source": [
        "from sklearn.svm import SVC"
      ],
      "execution_count": 35,
      "outputs": []
    },
    {
      "cell_type": "code",
      "metadata": {
        "id": "FsFn4dyGvNzP"
      },
      "source": [
        "classifier=SVC(C=1,kernel='linear')"
      ],
      "execution_count": 39,
      "outputs": []
    },
    {
      "cell_type": "code",
      "metadata": {
        "id": "xYTmhQ6_vXbZ"
      },
      "source": [
        "from sklearn.linear_model import LogisticRegression"
      ],
      "execution_count": 36,
      "outputs": []
    },
    {
      "cell_type": "code",
      "metadata": {
        "id": "2HKHXJMRvbIX"
      },
      "source": [
        "Lm=LogisticRegression()"
      ],
      "execution_count": null,
      "outputs": []
    },
    {
      "cell_type": "code",
      "metadata": {
        "colab": {
          "base_uri": "https://localhost:8080/"
        },
        "id": "x_OXUDG0wDq6",
        "outputId": "78d618be-0620-4f93-ef87-668d9cd0a7a2"
      },
      "source": [
        "classifier.fit(X_train_scaled,y_train)"
      ],
      "execution_count": 40,
      "outputs": [
        {
          "output_type": "execute_result",
          "data": {
            "text/plain": [
              "SVC(C=1, break_ties=False, cache_size=200, class_weight=None, coef0=0.0,\n",
              "    decision_function_shape='ovr', degree=3, gamma='scale', kernel='linear',\n",
              "    max_iter=-1, probability=False, random_state=None, shrinking=True,\n",
              "    tol=0.001, verbose=False)"
            ]
          },
          "metadata": {},
          "execution_count": 40
        }
      ]
    },
    {
      "cell_type": "code",
      "metadata": {
        "id": "MHBpvUdEwHoO"
      },
      "source": [
        "y_pred=classifier.predict(X_test_scaled)"
      ],
      "execution_count": 41,
      "outputs": []
    },
    {
      "cell_type": "code",
      "metadata": {
        "colab": {
          "base_uri": "https://localhost:8080/"
        },
        "id": "9AKiX0KvwRUG",
        "outputId": "c1350ce6-0b11-4f65-a891-52743fd220cb"
      },
      "source": [
        "y_pred"
      ],
      "execution_count": 42,
      "outputs": [
        {
          "output_type": "execute_result",
          "data": {
            "text/plain": [
              "array([0, 1, 0, 1, 0, 0, 1, 0, 0, 0, 0, 1, 0, 0, 0, 0, 1, 1, 0, 1, 0, 0,\n",
              "       0, 1, 0, 0, 0, 0, 1, 0, 0, 0, 1, 0, 1, 0, 0, 0, 0, 0, 0, 0, 0, 0,\n",
              "       0, 1, 0, 0, 0, 0, 0, 1, 0, 0, 0, 0, 1, 0, 0, 0, 0, 0, 1, 0, 0, 0,\n",
              "       1, 1, 0, 0, 1, 0, 0, 0, 0, 0, 1, 1, 0, 0, 0, 0, 1, 0, 1, 0, 0, 1,\n",
              "       0, 0, 1, 0, 0, 0, 0, 0, 1, 0, 1, 0, 1, 0, 0, 0, 0, 1, 0, 0, 1, 0,\n",
              "       0, 0, 1, 0, 1, 0, 0, 0, 0, 0])"
            ]
          },
          "metadata": {},
          "execution_count": 42
        }
      ]
    },
    {
      "cell_type": "code",
      "metadata": {
        "colab": {
          "base_uri": "https://localhost:8080/"
        },
        "id": "CvBYStrfwSIO",
        "outputId": "bae2de8a-4083-4607-a549-7d4e1848b307"
      },
      "source": [
        "classifier.score(X_train_scaled,y_train)"
      ],
      "execution_count": 43,
      "outputs": [
        {
          "output_type": "execute_result",
          "data": {
            "text/plain": [
              "0.8214285714285714"
            ]
          },
          "metadata": {},
          "execution_count": 43
        }
      ]
    },
    {
      "cell_type": "code",
      "metadata": {
        "colab": {
          "base_uri": "https://localhost:8080/"
        },
        "id": "LjQjP9gKwW7W",
        "outputId": "aa4f1773-2789-46c8-f6ba-44f9b80a07fe"
      },
      "source": [
        "classifier.score(X_test_scaled,y_test)"
      ],
      "execution_count": 44,
      "outputs": [
        {
          "output_type": "execute_result",
          "data": {
            "text/plain": [
              "0.85"
            ]
          },
          "metadata": {},
          "execution_count": 44
        }
      ]
    },
    {
      "cell_type": "code",
      "metadata": {
        "id": "DiF4u3F5wa-e"
      },
      "source": [
        "from sklearn.metrics import confusion_matrix,classification_report"
      ],
      "execution_count": 45,
      "outputs": []
    },
    {
      "cell_type": "code",
      "metadata": {
        "id": "GOor8aJGx_W-"
      },
      "source": [
        "cm=confusion_matrix(y_test,y_pred)"
      ],
      "execution_count": 46,
      "outputs": []
    },
    {
      "cell_type": "code",
      "metadata": {
        "colab": {
          "base_uri": "https://localhost:8080/"
        },
        "id": "L-owqiH0yDYt",
        "outputId": "4cb1b593-d397-4fcc-ecff-0ced4a3338d9"
      },
      "source": [
        "cm"
      ],
      "execution_count": 47,
      "outputs": [
        {
          "output_type": "execute_result",
          "data": {
            "text/plain": [
              "array([[72,  1],\n",
              "       [17, 30]])"
            ]
          },
          "metadata": {},
          "execution_count": 47
        }
      ]
    },
    {
      "cell_type": "code",
      "metadata": {
        "colab": {
          "base_uri": "https://localhost:8080/"
        },
        "id": "h1Jp5t3_yEHm",
        "outputId": "b687825b-dcc8-4567-fc7b-961a476dc2ec"
      },
      "source": [
        "0.3*400"
      ],
      "execution_count": 48,
      "outputs": [
        {
          "output_type": "execute_result",
          "data": {
            "text/plain": [
              "120.0"
            ]
          },
          "metadata": {},
          "execution_count": 48
        }
      ]
    },
    {
      "cell_type": "code",
      "metadata": {
        "colab": {
          "base_uri": "https://localhost:8080/"
        },
        "id": "Sac671UTzBdM",
        "outputId": "ca65c058-003c-42c0-dfe3-14b9b6dfede9"
      },
      "source": [
        "102/120"
      ],
      "execution_count": 49,
      "outputs": [
        {
          "output_type": "execute_result",
          "data": {
            "text/plain": [
              "0.85"
            ]
          },
          "metadata": {},
          "execution_count": 49
        }
      ]
    },
    {
      "cell_type": "code",
      "metadata": {
        "colab": {
          "base_uri": "https://localhost:8080/"
        },
        "id": "PsdCRCnVzEqE",
        "outputId": "5885fa4c-424f-437b-85e2-584cd840d628"
      },
      "source": [
        "y_test[:20]"
      ],
      "execution_count": 51,
      "outputs": [
        {
          "output_type": "execute_result",
          "data": {
            "text/plain": [
              "209    0\n",
              "280    1\n",
              "33     0\n",
              "210    1\n",
              "93     0\n",
              "84     0\n",
              "329    1\n",
              "94     0\n",
              "266    0\n",
              "126    0\n",
              "9      0\n",
              "361    1\n",
              "56     0\n",
              "72     0\n",
              "132    0\n",
              "42     0\n",
              "278    1\n",
              "376    0\n",
              "231    0\n",
              "385    1\n",
              "Name: Purchased, dtype: int64"
            ]
          },
          "metadata": {},
          "execution_count": 51
        }
      ]
    },
    {
      "cell_type": "code",
      "metadata": {
        "colab": {
          "base_uri": "https://localhost:8080/"
        },
        "id": "SyxyqEcTzcEl",
        "outputId": "98456dd3-b26e-48a6-fbd5-ec3819590f12"
      },
      "source": [
        "print(classification_report(y_pred,y_test))"
      ],
      "execution_count": 52,
      "outputs": [
        {
          "output_type": "stream",
          "name": "stdout",
          "text": [
            "              precision    recall  f1-score   support\n",
            "\n",
            "           0       0.99      0.81      0.89        89\n",
            "           1       0.64      0.97      0.77        31\n",
            "\n",
            "    accuracy                           0.85       120\n",
            "   macro avg       0.81      0.89      0.83       120\n",
            "weighted avg       0.90      0.85      0.86       120\n",
            "\n"
          ]
        }
      ]
    },
    {
      "cell_type": "code",
      "metadata": {
        "colab": {
          "base_uri": "https://localhost:8080/"
        },
        "id": "54RYUOtn0-ad",
        "outputId": "b3af540d-2712-4708-d20b-9e06a12722dd"
      },
      "source": [
        "30/(30+17)"
      ],
      "execution_count": 53,
      "outputs": [
        {
          "output_type": "execute_result",
          "data": {
            "text/plain": [
              "0.6382978723404256"
            ]
          },
          "metadata": {},
          "execution_count": 53
        }
      ]
    },
    {
      "cell_type": "code",
      "metadata": {
        "id": "1qwHpLaJ0_x6"
      },
      "source": [
        ""
      ],
      "execution_count": null,
      "outputs": []
    }
  ]
}