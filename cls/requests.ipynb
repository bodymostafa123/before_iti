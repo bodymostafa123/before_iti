{
 "cells": [
  {
   "cell_type": "code",
   "execution_count": 1,
   "metadata": {},
   "outputs": [],
   "source": [
    "import requests"
   ]
  },
  {
   "cell_type": "code",
   "execution_count": 13,
   "metadata": {},
   "outputs": [
    {
     "data": {
      "text/plain": [
       "'{\"age\":25,\"message\":\"\\\\u0628\\\\u0633\\\\u0645 \\\\u0627\\\\u0644\\\\u0644\\\\u0647 \\\\u0627\\\\u0644\\\\u0631\\\\u062d\\\\u0645\\\\u0646 \\\\u0627\\\\u0644\\\\u0631\\\\u062d\\\\u064a\\\\u0645\",\"name\":\"mohamed\",\"result\":\"Yes\",\"salary\":5000.0,\"status\":\"success\"}\\n'"
      ]
     },
     "execution_count": 13,
     "metadata": {},
     "output_type": "execute_result"
    }
   ],
   "source": [
    "name   = 'mohamed'\n",
    "age    = 25\n",
    "salary = 5000\n",
    "#---------------------------------------------------------------------------------\n",
    "url = 'http://127.0.0.1:5000/loan?name='+str(name)+'&age='+str(age)+'&salary='+str(salary)+''\n",
    "data = requests.get(url).text\n",
    "data"
   ]
  },
  {
   "cell_type": "code",
   "execution_count": 14,
   "metadata": {},
   "outputs": [
    {
     "data": {
      "text/plain": [
       "{'age': 25,\n",
       " 'message': 'بسم الله الرحمن الرحيم',\n",
       " 'name': 'mohamed',\n",
       " 'result': 'Yes',\n",
       " 'salary': 5000.0,\n",
       " 'status': 'success'}"
      ]
     },
     "execution_count": 14,
     "metadata": {},
     "output_type": "execute_result"
    }
   ],
   "source": [
    "import json\n",
    "data = json.loads(data)\n",
    "data"
   ]
  },
  {
   "cell_type": "code",
   "execution_count": null,
   "metadata": {},
   "outputs": [],
   "source": []
  },
  {
   "cell_type": "code",
   "execution_count": null,
   "metadata": {},
   "outputs": [],
   "source": []
  }
 ],
 "metadata": {
  "kernelspec": {
   "display_name": "Python 3",
   "language": "python",
   "name": "python3"
  },
  "language_info": {
   "codemirror_mode": {
    "name": "ipython",
    "version": 3
   },
   "file_extension": ".py",
   "mimetype": "text/x-python",
   "name": "python",
   "nbconvert_exporter": "python",
   "pygments_lexer": "ipython3",
   "version": "3.8.5"
  }
 },
 "nbformat": 4,
 "nbformat_minor": 4
}
