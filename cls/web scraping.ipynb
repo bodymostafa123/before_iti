{
 "cells": [
  {
   "cell_type": "code",
   "execution_count": 1,
   "metadata": {},
   "outputs": [],
   "source": [
    "import requests"
   ]
  },
  {
   "cell_type": "code",
   "execution_count": 3,
   "metadata": {},
   "outputs": [],
   "source": [
    "data = requests.get(\"https://www.youm7.com/story/2021/9/12/%D9%85%D8%A7%D8%B0%D8%A7-%D9%82%D8%AF%D9%85-%D8%A5%D9%8A%D9%87%D8%A7%D8%A8-%D8%AC%D9%84%D8%A7%D9%84-%D9%81%D9%8A-%D8%A7%D9%84%D9%85%D9%88%D8%B3%D9%85-%D8%A7%D9%84%D9%85%D8%A7%D8%B6%D9%89-%D9%82%D8%A8%D9%84-%D9%82%D9%8A%D8%A7%D8%AF%D8%A9-%D8%A8%D9%8A%D8%B1%D8%A7%D9%85%D9%8A%D8%AF%D8%B2/5458665\").text"
   ]
  },
  {
   "cell_type": "code",
   "execution_count": 5,
   "metadata": {},
   "outputs": [],
   "source": [
    "#!pip install bs4\n",
    "from bs4 import BeautifulSoup"
   ]
  },
  {
   "cell_type": "code",
   "execution_count": 13,
   "metadata": {},
   "outputs": [],
   "source": [
    "soup = BeautifulSoup(data)\n",
    "title = soup.title.text   # get title from web page"
   ]
  },
  {
   "cell_type": "code",
   "execution_count": 14,
   "metadata": {},
   "outputs": [
    {
     "data": {
      "text/plain": [
       "'عمر أنور '"
      ]
     },
     "execution_count": 14,
     "metadata": {},
     "output_type": "execute_result"
    }
   ],
   "source": [
    "writer = soup.find('span',attrs={'class':'writeBy'}).text ## get writer from web page (youm7.com only)\n",
    "writer"
   ]
  },
  {
   "cell_type": "code",
   "execution_count": 28,
   "metadata": {},
   "outputs": [
    {
     "data": {
      "text/plain": [
       "'https://img.youm7.com/large/20210911084208428.jpg'"
      ]
     },
     "execution_count": 28,
     "metadata": {},
     "output_type": "execute_result"
    }
   ],
   "source": [
    "image = soup.find('div',attrs={'class':'img-cont'}).find('img')['src'] ## get image link from web page\n",
    "image"
   ]
  },
  {
   "cell_type": "code",
   "execution_count": 31,
   "metadata": {},
   "outputs": [
    {
     "data": {
      "text/plain": [
       "'\\n\\n\\tنجح نادى بيراميدز في التعاقد مع إيهاب جلال لقيادة الفريق السماوى خلفا لليونانى تاكيس جونياس الذى قدمت له إدارة الفريق الشكر على ما قدمه مع الفريق خلال الأشهر الماضية.\\n\\n\\tوأكد المهندس ممدوح عيد، الرئيس التنفيذي لنادي بيراميدز، أنه توجه بالشكر لتاكيس جونياس على ما بذله من جهد مع الفريق خلال الفترة الانتقالية الماضية، وعلى قبوله تلك المهمة الصعبة، مشيرا إلى أنه قدم ما سيجعله دائما فردا من أفراد عائلة بيراميدز حتى رغم رحيله عن القيادة الفنية للنادي.\\n\\n\\tوقاد اليوناني تاكيس مهمة تدريب بيراميدز بداية من 29 يونيو الماضي، وقاد الفريق في 12 مباراة نجح في الفوز في 5 مباريات وتعادل في 6 مواجهات وتلقى الهزيمة في مباراة واحدة فقط.\\n\\n\\tواتفق مسئولو نادى بيراميدز مع إيهاب جلال لقيادة الفريق بعدما رحل المدرب عن نادى الإسماعيلى بعد انتهاء الموسم، ليقود الفريق السماوى في الموسم المقبل.\\n\\n\\tونستعرض أرقام إيهاب جلال في الدوري الموسم الماضي مع الإسماعيلي والمقاصة..\\n\\t\\xa0\\n\\n\\tلعب: 27 مباراة\\n\\n\\tفاز: 12 لقاءً\\n\\n\\tتعادل: 5 مواجهات\\n\\n\\tخسر: 10 مباريات\\n\\n\\tسجل: 37\\n\\n\\tاستقبل: 37\\n\\n\\tونجح إيهاب جلال في قيادة الإسماعيلى للهروب من مناطق الهبوط بعدما قاده لـ5 انتصارات متتالية أعادته لوسط الجدول، ولم يحقق أي مدرب 5 انتصارات في الدورى الموسم الماضى إلا هو وكارتيرون مدرب الزمالك.\\n\\n\\t\\xa0\\n\\n'"
      ]
     },
     "execution_count": 31,
     "metadata": {},
     "output_type": "execute_result"
    }
   ],
   "source": [
    "soup.find('div',attrs={'id':'articleBody'}).text.replace('\\r','')"
   ]
  },
  {
   "cell_type": "code",
   "execution_count": 39,
   "metadata": {},
   "outputs": [],
   "source": [
    "article = []\n",
    "for p in soup.find('div',attrs={'id':'articleBody'}).findAll('p'):\n",
    "    article.append(p.text.strip())"
   ]
  },
  {
   "cell_type": "code",
   "execution_count": 42,
   "metadata": {},
   "outputs": [
    {
     "data": {
      "text/plain": [
       "'نجح نادى بيراميدز في التعاقد مع إيهاب جلال لقيادة الفريق السماوى خلفا لليونانى تاكيس جونياس الذى قدمت له إدارة الفريق الشكر على ما قدمه مع الفريق خلال الأشهر الماضية. وأكد المهندس ممدوح عيد، الرئيس التنفيذي لنادي بيراميدز، أنه توجه بالشكر لتاكيس جونياس على ما بذله من جهد مع الفريق خلال الفترة الانتقالية الماضية، وعلى قبوله تلك المهمة الصعبة، مشيرا إلى أنه قدم ما سيجعله دائما فردا من أفراد عائلة بيراميدز حتى رغم رحيله عن القيادة الفنية للنادي. وقاد اليوناني تاكيس مهمة تدريب بيراميدز بداية من 29 يونيو الماضي، وقاد الفريق في 12 مباراة نجح في الفوز في 5 مباريات وتعادل في 6 مواجهات وتلقى الهزيمة في مباراة واحدة فقط. واتفق مسئولو نادى بيراميدز مع إيهاب جلال لقيادة الفريق بعدما رحل المدرب عن نادى الإسماعيلى بعد انتهاء الموسم، ليقود الفريق السماوى في الموسم المقبل. لعب: 27 مباراة فاز: 12 لقاءً تعادل: 5 مواجهات خسر: 10 مباريات سجل: 37 استقبل: 37 ونجح إيهاب جلال في قيادة الإسماعيلى للهروب من مناطق الهبوط بعدما قاده لـ5 انتصارات متتالية أعادته لوسط الجدول، ولم يحقق أي مدرب 5 انتصارات في الدورى الموسم الماضى إلا هو وكارتيرون مدرب الزمالك. '"
      ]
     },
     "execution_count": 42,
     "metadata": {},
     "output_type": "execute_result"
    }
   ],
   "source": [
    "article = ' '.join(article)\n",
    "article"
   ]
  },
  {
   "cell_type": "code",
   "execution_count": 43,
   "metadata": {},
   "outputs": [
    {
     "data": {
      "text/plain": [
       "' نجح نادى بيراميدز في التعاقد مع إيهاب جلال لقيادة الفريق السماوى خلفا لليونانى تاكيس جونياس الذى قدمت له إدارة الفريق الشكر على ما قدمه مع الفريق خلال الأشهر الماضية. وأكد المهندس ممدوح عيد، الرئيس التنفيذي لنادي بيراميدز، أنه توجه بالشكر لتاكيس جونياس على ما بذله من جهد مع الفريق خلال الفترة الانتقالية الماضية، وعلى قبوله تلك المهمة الصعبة، مشيرا إلى أنه قدم ما سيجعله دائما فردا من أفراد عائلة بيراميدز حتى رغم رحيله عن القيادة الفنية للنادي. وقاد اليوناني تاكيس مهمة تدريب بيراميدز بداية من 29 يونيو الماضي، وقاد الفريق في 12 مباراة نجح في الفوز في 5 مباريات وتعادل في 6 مواجهات وتلقى الهزيمة في مباراة واحدة فقط. واتفق مسئولو نادى بيراميدز مع إيهاب جلال لقيادة الفريق بعدما رحل المدرب عن نادى الإسماعيلى بعد انتهاء الموسم، ليقود الفريق السماوى في الموسم المقبل. لعب: 27 مباراة فاز: 12 لقاءً تعادل: 5 مواجهات خسر: 10 مباريات سجل: 37 استقبل: 37 ونجح إيهاب جلال في قيادة الإسماعيلى للهروب من مناطق الهبوط بعدما قاده لـ5 انتصارات متتالية أعادته لوسط الجدول، ولم يحقق أي مدرب 5 انتصارات في الدورى الموسم الماضى إلا هو وكارتيرون مدرب الزمالك. '"
      ]
     },
     "execution_count": 43,
     "metadata": {},
     "output_type": "execute_result"
    }
   ],
   "source": [
    "article = \"\"\n",
    "for p in soup.find('div',attrs={'id':'articleBody'}).findAll('p'): ## get all paragraphs of article body then loop on to get text only\n",
    "    article = article +\" \"+p.text.strip()\n",
    "    \n",
    "article"
   ]
  },
  {
   "cell_type": "code",
   "execution_count": 47,
   "metadata": {},
   "outputs": [],
   "source": [
    "tags =[]\n",
    "for a in soup.find('div',attrs={'class':'tags'}).findAll('a'):\n",
    "    tags.append(a.text.strip())"
   ]
  },
  {
   "cell_type": "code",
   "execution_count": 51,
   "metadata": {},
   "outputs": [
    {
     "data": {
      "text/plain": [
       "'إيهاب جلال,تاكيس جونياس,بيراميدز,مدرب بيراميدز,رحيل تاكيس جونياس,ارقام تاكيس جونياس'"
      ]
     },
     "execution_count": 51,
     "metadata": {},
     "output_type": "execute_result"
    }
   ],
   "source": [
    "','.join(tags)"
   ]
  },
  {
   "cell_type": "code",
   "execution_count": 54,
   "metadata": {},
   "outputs": [
    {
     "data": {
      "text/plain": [
       "'إيهاب جلال,تاكيس جونياس,بيراميدز,مدرب بيراميدز,رحيل تاكيس جونياس,ارقام تاكيس جونياس'"
      ]
     },
     "execution_count": 54,
     "metadata": {},
     "output_type": "execute_result"
    }
   ],
   "source": [
    "tags = soup.find('meta',attrs={\"name\":\"keywords\"})['content']\n",
    "tags"
   ]
  },
  {
   "cell_type": "code",
   "execution_count": 81,
   "metadata": {},
   "outputs": [],
   "source": [
    "def get_article(url):\n",
    "    data = requests.get(url).text    \n",
    "    soup = BeautifulSoup(data)\n",
    "    title = soup.title.text\n",
    "    writer = soup.find('span',attrs={'class':'writeBy'}).text ## get writer from web page (youm7.com only)\n",
    "    image = soup.find('div',attrs={'class':'img-cont'}).find('img')['src'] ## get image link from web page\n",
    "    article = \"\"\n",
    "    for p in soup.find('div',attrs={'id':'articleBody'}).findAll('p'): ## get all paragraphs of article body then loop on to get text only\n",
    "        article = article +\" \"+p.text.strip()\n",
    "    tags = soup.find('meta',attrs={\"name\":\"keywords\"})['content'].replace(',','#_#')\n",
    "    data =  {\n",
    "        \"url\":url,\n",
    "        \"title\":title,\n",
    "        \"writer\":writer,\n",
    "        \"image\":image,\n",
    "        \"article\":article,\n",
    "        \"tags\":tags\n",
    "    }\n",
    "    save(data)"
   ]
  },
  {
   "cell_type": "code",
   "execution_count": 57,
   "metadata": {},
   "outputs": [
    {
     "data": {
      "text/plain": [
       "{'url': 'https://www.youm7.com/story/2021/9/12/%D9%85%D8%A7%D8%B0%D8%A7-%D9%82%D8%AF%D9%85-%D8%A5%D9%8A%D9%87%D8%A7%D8%A8-%D8%AC%D9%84%D8%A7%D9%84-%D9%81%D9%8A-%D8%A7%D9%84%D9%85%D9%88%D8%B3%D9%85-%D8%A7%D9%84%D9%85%D8%A7%D8%B6%D9%89-%D9%82%D8%A8%D9%84-%D9%82%D9%8A%D8%A7%D8%AF%D8%A9-%D8%A8%D9%8A%D8%B1%D8%A7%D9%85%D9%8A%D8%AF%D8%B2/5458665',\n",
       " 'title': 'ماذا قدم إيهاب جلال في الموسم الماضى قبل قيادة بيراميدز؟ - اليوم السابع',\n",
       " 'writer': 'عمر أنور ',\n",
       " 'image': 'https://img.youm7.com/large/20210911084208428.jpg',\n",
       " 'article': ' نجح نادى بيراميدز في التعاقد مع إيهاب جلال لقيادة الفريق السماوى خلفا لليونانى تاكيس جونياس الذى قدمت له إدارة الفريق الشكر على ما قدمه مع الفريق خلال الأشهر الماضية. وأكد المهندس ممدوح عيد، الرئيس التنفيذي لنادي بيراميدز، أنه توجه بالشكر لتاكيس جونياس على ما بذله من جهد مع الفريق خلال الفترة الانتقالية الماضية، وعلى قبوله تلك المهمة الصعبة، مشيرا إلى أنه قدم ما سيجعله دائما فردا من أفراد عائلة بيراميدز حتى رغم رحيله عن القيادة الفنية للنادي. وقاد اليوناني تاكيس مهمة تدريب بيراميدز بداية من 29 يونيو الماضي، وقاد الفريق في 12 مباراة نجح في الفوز في 5 مباريات وتعادل في 6 مواجهات وتلقى الهزيمة في مباراة واحدة فقط. واتفق مسئولو نادى بيراميدز مع إيهاب جلال لقيادة الفريق بعدما رحل المدرب عن نادى الإسماعيلى بعد انتهاء الموسم، ليقود الفريق السماوى في الموسم المقبل. لعب: 27 مباراة فاز: 12 لقاءً تعادل: 5 مواجهات خسر: 10 مباريات سجل: 37 استقبل: 37 ونجح إيهاب جلال في قيادة الإسماعيلى للهروب من مناطق الهبوط بعدما قاده لـ5 انتصارات متتالية أعادته لوسط الجدول، ولم يحقق أي مدرب 5 انتصارات في الدورى الموسم الماضى إلا هو وكارتيرون مدرب الزمالك. ',\n",
       " 'tags': 'إيهاب جلال,تاكيس جونياس,بيراميدز,مدرب بيراميدز,رحيل تاكيس جونياس,ارقام تاكيس جونياس'}"
      ]
     },
     "execution_count": 57,
     "metadata": {},
     "output_type": "execute_result"
    }
   ],
   "source": [
    "get_article(\"https://www.youm7.com/story/2021/9/12/%D9%85%D8%A7%D8%B0%D8%A7-%D9%82%D8%AF%D9%85-%D8%A5%D9%8A%D9%87%D8%A7%D8%A8-%D8%AC%D9%84%D8%A7%D9%84-%D9%81%D9%8A-%D8%A7%D9%84%D9%85%D9%88%D8%B3%D9%85-%D8%A7%D9%84%D9%85%D8%A7%D8%B6%D9%89-%D9%82%D8%A8%D9%84-%D9%82%D9%8A%D8%A7%D8%AF%D8%A9-%D8%A8%D9%8A%D8%B1%D8%A7%D9%85%D9%8A%D8%AF%D8%B2/5458665\")"
   ]
  },
  {
   "cell_type": "code",
   "execution_count": 60,
   "metadata": {},
   "outputs": [
    {
     "data": {
      "text/plain": [
       "{'url': 'https://www.youm7.com/story/2021/9/12/دفن-ربة-منزل-لقت-مصرعه-نتيجة-حريق-اشتعل-داخل-منزلها/5458781',\n",
       " 'title': 'دفن ربة منزل لقت مصرعه نتيجة حريق اشتعل داخل منزلها فى البدرشين - اليوم السابع',\n",
       " 'writer': 'كتب أحمد الجعفرى',\n",
       " 'image': 'https://img.youm7.com/large/202105170134503450.jpg',\n",
       " 'article': ' صرحت النيابة العامة في جنوب الجيزة، بدفن جثة ربة منزل لقيت مصرعها، متأثرة بإصابة لحقت بها نتيجة نشوب حريق بشقتها في منطقة البدرشين جنوب الجيزة، وشهد الحريق أيضًا إصابة زوجها، و تم تحرير محضر بالواقعة، وأخطرت النيابة للتحقيق فى الواقعة. كان مركز شرطة البدرشين، تلقى بلاغًا يفيد نشوب حريق بشقة سكنية، وانتقل رجال المباحث إلى محل الواقعة، وعلى الفور تم الاستعانة برجال الحماية المدنية وإخماد الحريق الذي أسفر عن إصابة ربة منزل وزجها، وتم نقلهما إلى المستشفى. عقب مرور عدة أيام فارقت الزوجة الحياة، نتيجة تدهور حالتها الصحية، وحرر محضر بالواقعة، وتولت النيابة التحقيق.',\n",
       " 'tags': 'حريق,منزل,البدرشين,الحماية المدنية,تقرير طبى'}"
      ]
     },
     "execution_count": 60,
     "metadata": {},
     "output_type": "execute_result"
    }
   ],
   "source": [
    "get_article(\"https://www.youm7.com/story/2021/9/12/دفن-ربة-منزل-لقت-مصرعه-نتيجة-حريق-اشتعل-داخل-منزلها/5458781\")"
   ]
  },
  {
   "cell_type": "code",
   "execution_count": 59,
   "metadata": {},
   "outputs": [
    {
     "ename": "AttributeError",
     "evalue": "'NoneType' object has no attribute 'text'",
     "output_type": "error",
     "traceback": [
      "\u001b[1;31m---------------------------------------------------------------------------\u001b[0m",
      "\u001b[1;31mAttributeError\u001b[0m                            Traceback (most recent call last)",
      "\u001b[1;32m<ipython-input-59-18f931f77762>\u001b[0m in \u001b[0;36m<module>\u001b[1;34m\u001b[0m\n\u001b[1;32m----> 1\u001b[1;33m \u001b[0mget_article\u001b[0m\u001b[1;33m(\u001b[0m\u001b[1;34m'https://www.almasryalyoum.com/news/details/2353148'\u001b[0m\u001b[1;33m)\u001b[0m\u001b[1;33m\u001b[0m\u001b[1;33m\u001b[0m\u001b[0m\n\u001b[0m",
      "\u001b[1;32m<ipython-input-56-66bc9265b592>\u001b[0m in \u001b[0;36mget_article\u001b[1;34m(url)\u001b[0m\n\u001b[0;32m      3\u001b[0m     \u001b[0msoup\u001b[0m \u001b[1;33m=\u001b[0m \u001b[0mBeautifulSoup\u001b[0m\u001b[1;33m(\u001b[0m\u001b[0mdata\u001b[0m\u001b[1;33m)\u001b[0m\u001b[1;33m\u001b[0m\u001b[1;33m\u001b[0m\u001b[0m\n\u001b[0;32m      4\u001b[0m     \u001b[0mtitle\u001b[0m \u001b[1;33m=\u001b[0m \u001b[0msoup\u001b[0m\u001b[1;33m.\u001b[0m\u001b[0mtitle\u001b[0m\u001b[1;33m.\u001b[0m\u001b[0mtext\u001b[0m\u001b[1;33m\u001b[0m\u001b[1;33m\u001b[0m\u001b[0m\n\u001b[1;32m----> 5\u001b[1;33m     \u001b[0mwriter\u001b[0m \u001b[1;33m=\u001b[0m \u001b[0msoup\u001b[0m\u001b[1;33m.\u001b[0m\u001b[0mfind\u001b[0m\u001b[1;33m(\u001b[0m\u001b[1;34m'span'\u001b[0m\u001b[1;33m,\u001b[0m\u001b[0mattrs\u001b[0m\u001b[1;33m=\u001b[0m\u001b[1;33m{\u001b[0m\u001b[1;34m'class'\u001b[0m\u001b[1;33m:\u001b[0m\u001b[1;34m'writeBy'\u001b[0m\u001b[1;33m}\u001b[0m\u001b[1;33m)\u001b[0m\u001b[1;33m.\u001b[0m\u001b[0mtext\u001b[0m \u001b[1;31m## get writer from web page (youm7.com only)\u001b[0m\u001b[1;33m\u001b[0m\u001b[1;33m\u001b[0m\u001b[0m\n\u001b[0m\u001b[0;32m      6\u001b[0m     \u001b[0mimage\u001b[0m \u001b[1;33m=\u001b[0m \u001b[0msoup\u001b[0m\u001b[1;33m.\u001b[0m\u001b[0mfind\u001b[0m\u001b[1;33m(\u001b[0m\u001b[1;34m'div'\u001b[0m\u001b[1;33m,\u001b[0m\u001b[0mattrs\u001b[0m\u001b[1;33m=\u001b[0m\u001b[1;33m{\u001b[0m\u001b[1;34m'class'\u001b[0m\u001b[1;33m:\u001b[0m\u001b[1;34m'img-cont'\u001b[0m\u001b[1;33m}\u001b[0m\u001b[1;33m)\u001b[0m\u001b[1;33m.\u001b[0m\u001b[0mfind\u001b[0m\u001b[1;33m(\u001b[0m\u001b[1;34m'img'\u001b[0m\u001b[1;33m)\u001b[0m\u001b[1;33m[\u001b[0m\u001b[1;34m'src'\u001b[0m\u001b[1;33m]\u001b[0m \u001b[1;31m## get image link from web page\u001b[0m\u001b[1;33m\u001b[0m\u001b[1;33m\u001b[0m\u001b[0m\n\u001b[0;32m      7\u001b[0m     \u001b[0marticle\u001b[0m \u001b[1;33m=\u001b[0m \u001b[1;34m\"\"\u001b[0m\u001b[1;33m\u001b[0m\u001b[1;33m\u001b[0m\u001b[0m\n",
      "\u001b[1;31mAttributeError\u001b[0m: 'NoneType' object has no attribute 'text'"
     ]
    }
   ],
   "source": [
    "get_article('https://www.almasryalyoum.com/news/details/2353148')"
   ]
  },
  {
   "cell_type": "code",
   "execution_count": 80,
   "metadata": {},
   "outputs": [],
   "source": [
    "import codecs\n",
    "f = codecs.open('data.csv','a+',encoding='utf-8')\n",
    "f.write('url,title,writer,article,image,tags\\n')\n",
    "def save(data):\n",
    "    f.write(data['url']+\",\"+data['title']+\",\"+data['writer']+\",\"+data['article']+\",\"+data['image']+\",\"+data['tags']+\"\\n\")"
   ]
  },
  {
   "cell_type": "code",
   "execution_count": 61,
   "metadata": {},
   "outputs": [
    {
     "data": {
      "text/plain": [
       "'أخبار الرياضة - اليوم السابع'"
      ]
     },
     "execution_count": 61,
     "metadata": {},
     "output_type": "execute_result"
    }
   ],
   "source": [
    "data = requests.get(\"https://www.youm7.com/Section/%D8%A3%D8%AE%D8%A8%D8%A7%D8%B1-%D8%A7%D9%84%D8%B1%D9%8A%D8%A7%D8%B6%D8%A9/298/3\").text\n",
    "soup = BeautifulSoup(data)\n",
    "soup.title.text"
   ]
  },
  {
   "cell_type": "code",
   "execution_count": 71,
   "metadata": {},
   "outputs": [],
   "source": [
    "links = []\n",
    "for a in soup.find('div',attrs={'id':\"paging\"}).findAll('a'):\n",
    "    links.append('https://www.youm7.com'+a['href'])\n",
    "    \n",
    "links = list(set(links))"
   ]
  },
  {
   "cell_type": "code",
   "execution_count": null,
   "metadata": {},
   "outputs": [],
   "source": [
    "for url in links:\n",
    "    print(get_article(url))\n",
    "    print('===========================================================================')"
   ]
  },
  {
   "cell_type": "code",
   "execution_count": 82,
   "metadata": {},
   "outputs": [],
   "source": [
    "for url in links:\n",
    "    get_article(url)"
   ]
  },
  {
   "cell_type": "code",
   "execution_count": 83,
   "metadata": {},
   "outputs": [],
   "source": [
    "def get_links(page_no):\n",
    "    data = requests.get(\"https://www.youm7.com/Section/%D8%A3%D8%AE%D8%A8%D8%A7%D8%B1-%D8%A7%D9%84%D8%B1%D9%8A%D8%A7%D8%B6%D8%A9/298/\"+str(page_no)+\"\").text\n",
    "    soup = BeautifulSoup(data)\n",
    "    links = []\n",
    "    for a in soup.find('div',attrs={'id':\"paging\"}).findAll('a'):\n",
    "        links.append('https://www.youm7.com'+a['href'])\n",
    "    links = list(set(links))\n",
    "    return links"
   ]
  },
  {
   "cell_type": "code",
   "execution_count": 86,
   "metadata": {},
   "outputs": [],
   "source": [
    "import time\n",
    "def get_links(page_no):\n",
    "    data = requests.get(\"https://www.youm7.com/Section/%D8%A3%D8%AE%D8%A8%D8%A7%D8%B1-%D8%A7%D9%84%D8%B1%D9%8A%D8%A7%D8%B6%D8%A9/298/\"+str(page_no)+\"\").text\n",
    "    soup = BeautifulSoup(data)\n",
    "    links = []\n",
    "    for a in soup.find('div',attrs={'id':\"paging\"}).findAll('a'):\n",
    "        links.append('https://www.youm7.com'+a['href'])\n",
    "    links = list(set(links)) ## remove duplicate from list by convert it to set, then to list\n",
    "    for link in links:\n",
    "        time.sleep(5) ## to wait 5 seconds between each article details crawling\n",
    "        get_article(link)"
   ]
  },
  {
   "cell_type": "code",
   "execution_count": 88,
   "metadata": {},
   "outputs": [],
   "source": [
    "for i in range(4,10):\n",
    "    get_links(i)"
   ]
  },
  {
   "cell_type": "markdown",
   "metadata": {},
   "source": [
    "## gold price"
   ]
  },
  {
   "cell_type": "code",
   "execution_count": 89,
   "metadata": {},
   "outputs": [
    {
     "data": {
      "text/plain": [
       "<title> Gold Price in Egypt - Today Gold Rate per Gram in EGP (Pound)  </title>"
      ]
     },
     "execution_count": 89,
     "metadata": {},
     "output_type": "execute_result"
    }
   ],
   "source": [
    "data = requests.get('http://goldpricez.com/eg/gram').text\n",
    "soup = BeautifulSoup(data)\n",
    "soup.title"
   ]
  },
  {
   "cell_type": "code",
   "execution_count": 104,
   "metadata": {},
   "outputs": [
    {
     "name": "stdout",
     "output_type": "stream",
     "text": [
      "{}\n",
      "{'grams': '1', 'price': '902.77'}\n",
      "{'grams': '5', 'price': '4513.87'}\n",
      "{'grams': '10', 'price': '9027.74'}\n",
      "{'grams': '20', 'price': '18055.48'}\n",
      "{'grams': '40', 'price': '36110.96'}\n",
      "{'grams': '50', 'price': '45138.7'}\n",
      "{'grams': '100', 'price': '90277.39'}\n",
      "{'grams': '1000', 'price': '902773.9'}\n"
     ]
    }
   ],
   "source": [
    "for row in soup.find('div',attrs={'id':'price-list-sizes'}).find('table').findAll('tr'):\n",
    "    try:\n",
    "        values = {}\n",
    "        i = 0\n",
    "        for td in row.findAll('td'):\n",
    "            if i%2==0:\n",
    "                values['grams'] = td.text.split('Gram')[0].strip()\n",
    "            else:\n",
    "                values['price'] = td.text.split()[0].strip()\n",
    "            i = i+1\n",
    "        print(values)\n",
    "    except:\n",
    "        pass"
   ]
  },
  {
   "cell_type": "code",
   "execution_count": 105,
   "metadata": {},
   "outputs": [],
   "source": [
    "values = {}\n",
    "for row in soup.find('div',attrs={'id':'price-list-sizes'}).find('table').findAll('tr'):\n",
    "    try:\n",
    "        i     = 0\n",
    "        grams = 0\n",
    "        price = 0\n",
    "        for td in row.findAll('td'):\n",
    "            if i%2==0:\n",
    "                grams = td.text.split('Gram')[0].strip()\n",
    "            else:\n",
    "                price = td.text.split()[0].strip()\n",
    "            i = i+1\n",
    "        values[grams] = price\n",
    "    except:\n",
    "        pass"
   ]
  },
  {
   "cell_type": "code",
   "execution_count": 106,
   "metadata": {},
   "outputs": [
    {
     "data": {
      "text/plain": [
       "{0: 0,\n",
       " '1': '902.77',\n",
       " '5': '4513.87',\n",
       " '10': '9027.74',\n",
       " '20': '18055.48',\n",
       " '40': '36110.96',\n",
       " '50': '45138.7',\n",
       " '100': '90277.39',\n",
       " '1000': '902773.9'}"
      ]
     },
     "execution_count": 106,
     "metadata": {},
     "output_type": "execute_result"
    }
   ],
   "source": [
    "values"
   ]
  },
  {
   "cell_type": "code",
   "execution_count": 107,
   "metadata": {},
   "outputs": [
    {
     "data": {
      "text/plain": [
       "'18055.48'"
      ]
     },
     "execution_count": 107,
     "metadata": {},
     "output_type": "execute_result"
    }
   ],
   "source": [
    "values['20']"
   ]
  },
  {
   "cell_type": "markdown",
   "metadata": {},
   "source": [
    "#### Notes:\n",
    "----\n",
    "- .text doesn't work with findAll\n",
    "- findAll return list of items\n",
    "- strip() to remove space from start and end of text\n",
    "- .split() split text into items based on delimeter you pass like .split(\",\")\n",
    "- take care of capital and small in function's names \n",
    "- crawling is website driven as the change of the website causes an error"
   ]
  },
  {
   "cell_type": "code",
   "execution_count": null,
   "metadata": {},
   "outputs": [],
   "source": []
  }
 ],
 "metadata": {
  "kernelspec": {
   "display_name": "Python 3",
   "language": "python",
   "name": "python3"
  },
  "language_info": {
   "codemirror_mode": {
    "name": "ipython",
    "version": 3
   },
   "file_extension": ".py",
   "mimetype": "text/x-python",
   "name": "python",
   "nbconvert_exporter": "python",
   "pygments_lexer": "ipython3",
   "version": "3.8.5"
  }
 },
 "nbformat": 4,
 "nbformat_minor": 4
}
