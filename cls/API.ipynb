{
 "cells": [
  {
   "cell_type": "code",
   "execution_count": 44,
   "metadata": {},
   "outputs": [
    {
     "name": "stdout",
     "output_type": "stream",
     "text": [
      " * Serving Flask app \"__main__\" (lazy loading)\n",
      " * Environment: production\n",
      "   WARNING: This is a development server. Do not use it in a production deployment.\n",
      "   Use a production WSGI server instead.\n",
      " * Debug mode: off\n"
     ]
    },
    {
     "name": "stderr",
     "output_type": "stream",
     "text": [
      " * Running on http://127.0.0.1:5000/ (Press CTRL+C to quit)\n"
     ]
    }
   ],
   "source": [
    "from flask import Flask,jsonify,request\n",
    "app = Flask(__name__) ## the main object to work with from flask\n",
    "\n",
    "@app.route(\"/\") ## home page\n",
    "def home(): ## the function that will run when user visit this page \n",
    "    return \"welcome in my home\" ## the output of this function\n",
    "\n",
    "@app.route(\"/profile\") ## profile page\n",
    "def profile(): ## the function that will run when user visit this page \n",
    "    return \"welcome in my profile\" ## the output of this function\n",
    "\n",
    "@app.route(\"/loan\") ## profile page\n",
    "def loan(): ## the function that will run when user visit this page \n",
    "    name = request.args['name']    \n",
    "    age    = int(request.args['age'])\n",
    "    salary = float(request.args['salary'])\n",
    "    if salary>=5000 and age >=20:\n",
    "        res = 'Yes'\n",
    "    else:\n",
    "        res = \"No\"\n",
    "    result = {\n",
    "        \"message\":'بسم الله الرحمن الرحيم',\n",
    "        'status' :'success',\n",
    "        \"result\" : res,\n",
    "        'name':name,\n",
    "        'salary':salary,\n",
    "        'age':age\n",
    "    }\n",
    "    return jsonify(result) ## the output of this function\n",
    "\n",
    "app.run() ## make api up-running"
   ]
  },
  {
   "cell_type": "code",
   "execution_count": 30,
   "metadata": {},
   "outputs": [
    {
     "data": {
      "text/plain": [
       "'{\"name\": \"ahmed\", \"age\": 20}'"
      ]
     },
     "execution_count": 30,
     "metadata": {},
     "output_type": "execute_result"
    }
   ],
   "source": [
    "import json\n",
    "d = {'name':'ahmed','age':20}\n",
    "new_d = json.dumps(d) ## convert dict to json\n",
    "new_d"
   ]
  },
  {
   "cell_type": "code",
   "execution_count": 31,
   "metadata": {},
   "outputs": [
    {
     "data": {
      "text/plain": [
       "{'name': 'ahmed', 'age': 20}"
      ]
     },
     "execution_count": 31,
     "metadata": {},
     "output_type": "execute_result"
    }
   ],
   "source": [
    "json.loads(new_d) # convert json to dict"
   ]
  },
  {
   "cell_type": "code",
   "execution_count": 45,
   "metadata": {},
   "outputs": [
    {
     "name": "stdout",
     "output_type": "stream",
     "text": [
      " * Serving Flask app \"__main__\" (lazy loading)\n",
      " * Environment: production\n",
      "   WARNING: This is a development server. Do not use it in a production deployment.\n",
      "   Use a production WSGI server instead.\n",
      " * Debug mode: off\n"
     ]
    },
    {
     "name": "stderr",
     "output_type": "stream",
     "text": [
      " * Running on http://127.0.0.1:5000/ (Press CTRL+C to quit)\n",
      "127.0.0.1 - - [14/Sep/2021 19:34:14] \"\u001b[33mGET /favicon.ico HTTP/1.1\u001b[0m\" 404 -\n",
      "127.0.0.1 - - [14/Sep/2021 19:34:14] \"\u001b[37mGET / HTTP/1.1\u001b[0m\" 200 -\n",
      "127.0.0.1 - - [14/Sep/2021 19:34:14] \"\u001b[33mGET /favicon.ico HTTP/1.1\u001b[0m\" 404 -\n",
      "127.0.0.1 - - [14/Sep/2021 19:34:15] \"\u001b[33mGET /favicon.ico HTTP/1.1\u001b[0m\" 404 -\n",
      "127.0.0.1 - - [14/Sep/2021 19:34:20] \"\u001b[37mGET /loan?name=email%40example.com&age=30&salary=2000 HTTP/1.1\u001b[0m\" 200 -\n",
      "127.0.0.1 - - [14/Sep/2021 19:34:21] \"\u001b[33mGET /favicon.ico HTTP/1.1\u001b[0m\" 404 -\n",
      "127.0.0.1 - - [14/Sep/2021 19:34:22] \"\u001b[33mGET /favicon.ico HTTP/1.1\u001b[0m\" 404 -\n",
      "127.0.0.1 - - [14/Sep/2021 19:34:27] \"\u001b[33mGET /favicon.ico HTTP/1.1\u001b[0m\" 404 -\n",
      "127.0.0.1 - - [14/Sep/2021 19:34:32] \"\u001b[37mGET /loan?name=email%40example.com&age=30&salary=2000 HTTP/1.1\u001b[0m\" 200 -\n",
      "127.0.0.1 - - [14/Sep/2021 19:34:32] \"\u001b[33mGET /favicon.ico HTTP/1.1\u001b[0m\" 404 -\n",
      "127.0.0.1 - - [14/Sep/2021 19:34:33] \"\u001b[33mGET /favicon.ico HTTP/1.1\u001b[0m\" 404 -\n",
      "127.0.0.1 - - [14/Sep/2021 19:35:37] \"\u001b[33mGET /favicon.ico HTTP/1.1\u001b[0m\" 404 -\n",
      "127.0.0.1 - - [14/Sep/2021 19:40:48] \"\u001b[37mGET /loan?name=email%40example.com&age=30&salary=2000 HTTP/1.1\u001b[0m\" 200 -\n",
      "127.0.0.1 - - [14/Sep/2021 19:40:48] \"\u001b[33mGET /favicon.ico HTTP/1.1\u001b[0m\" 404 -\n",
      "127.0.0.1 - - [14/Sep/2021 19:40:49] \"\u001b[33mGET /favicon.ico HTTP/1.1\u001b[0m\" 404 -\n"
     ]
    }
   ],
   "source": [
    "from flask import Flask,jsonify,request,render_template\n",
    "app = Flask(__name__)\n",
    "\n",
    "@app.route(\"/\")\n",
    "def home():\n",
    "    return render_template('loan.html')\n",
    "\n",
    "@app.route(\"/loan\") ## profile page\n",
    "def loan(): ## the function that will run when user visit this page \n",
    "    name   = request.args['name']    \n",
    "    age    = int(request.args['age'])\n",
    "    salary = float(request.args['salary'])\n",
    "    if salary>=5000 and age >=20:\n",
    "        res = 'Yes'\n",
    "    else:\n",
    "        res = \"No\"\n",
    "    result  = {\n",
    "        \"message\":'بسم الله الرحمن الرحيم',\n",
    "        'status' :'success',\n",
    "        \"result\" : res,\n",
    "        'name':name,\n",
    "        'salary':salary,\n",
    "        'age':age\n",
    "    }\n",
    "    return jsonify(result)\n",
    "\n",
    "app.run()"
   ]
  },
  {
   "cell_type": "markdown",
   "metadata": {},
   "source": [
    "## Crawler API"
   ]
  },
  {
   "cell_type": "code",
   "execution_count": null,
   "metadata": {},
   "outputs": [
    {
     "name": "stdout",
     "output_type": "stream",
     "text": [
      " * Serving Flask app \"__main__\" (lazy loading)\n",
      " * Environment: production\n",
      "   WARNING: This is a development server. Do not use it in a production deployment.\n",
      "   Use a production WSGI server instead.\n",
      " * Debug mode: off\n"
     ]
    },
    {
     "name": "stderr",
     "output_type": "stream",
     "text": [
      " * Running on http://127.0.0.1:5000/ (Press CTRL+C to quit)\n",
      "127.0.0.1 - - [14/Sep/2021 20:53:30] \"\u001b[37mGET / HTTP/1.1\u001b[0m\" 200 -\n",
      "127.0.0.1 - - [14/Sep/2021 20:53:30] \"\u001b[33mGET /favicon.ico HTTP/1.1\u001b[0m\" 404 -\n",
      "127.0.0.1 - - [14/Sep/2021 20:53:31] \"\u001b[33mGET /favicon.ico HTTP/1.1\u001b[0m\" 404 -\n",
      "127.0.0.1 - - [14/Sep/2021 20:53:34] \"\u001b[37mGET /gold HTTP/1.1\u001b[0m\" 200 -\n",
      "127.0.0.1 - - [14/Sep/2021 20:53:34] \"\u001b[33mGET /favicon.ico HTTP/1.1\u001b[0m\" 404 -\n"
     ]
    },
    {
     "name": "stdout",
     "output_type": "stream",
     "text": [
      "{'1': '911.08', '5': '4555.38', '10': '9110.76', '20': '18221.53', '40': '36443.05', '50': '45553.82', '100': '91107.63', '1000': '911076.3'}\n"
     ]
    },
    {
     "name": "stderr",
     "output_type": "stream",
     "text": [
      "127.0.0.1 - - [14/Sep/2021 20:53:35] \"\u001b[33mGET /favicon.ico HTTP/1.1\u001b[0m\" 404 -\n",
      "127.0.0.1 - - [14/Sep/2021 20:53:36] \"\u001b[33mGET /favicon.ico HTTP/1.1\u001b[0m\" 404 -\n"
     ]
    }
   ],
   "source": [
    "from flask import Flask,jsonify,request,render_template\n",
    "from helpers.crawler import get_gold_price,get_article\n",
    "app = Flask(__name__) ## object from Flask to work with acros all the api \n",
    "\n",
    "@app.route(\"/\")\n",
    "def home():\n",
    "    return render_template('home.html') ## get html file from templates folder and return it to browser to convert to design\n",
    "\n",
    "@app.route(\"/crawl\") ## profile page\n",
    "def crawl():\n",
    "    url   = request.args['url']     ## read variables sent by user in html file with input named url\n",
    "    res   = get_article(url) ## get article details\n",
    "    result  = {\n",
    "        \"message\":'بسم الله الرحمن الرحيم',\n",
    "        'status' :'success',\n",
    "        \"result\" : res,\n",
    "    }\n",
    "    return jsonify(result) #convert dict to json and return it\n",
    "\n",
    "@app.route(\"/gold\") ## profile page\n",
    "def gold():\n",
    "    res     = get_gold_price() \n",
    "    print(res)\n",
    "    result  = {\n",
    "        \"message\":'بسم الله الرحمن الرحيم',\n",
    "        'status' :'success',\n",
    "        \"result\" : res,\n",
    "    }\n",
    "    return jsonify(result) #convert dict to json and return it\n",
    "\n",
    "app.run() ## "
   ]
  },
  {
   "cell_type": "code",
   "execution_count": null,
   "metadata": {},
   "outputs": [],
   "source": []
  }
 ],
 "metadata": {
  "kernelspec": {
   "display_name": "Python 3",
   "language": "python",
   "name": "python3"
  },
  "language_info": {
   "codemirror_mode": {
    "name": "ipython",
    "version": 3
   },
   "file_extension": ".py",
   "mimetype": "text/x-python",
   "name": "python",
   "nbconvert_exporter": "python",
   "pygments_lexer": "ipython3",
   "version": "3.8.5"
  }
 },
 "nbformat": 4,
 "nbformat_minor": 4
}
