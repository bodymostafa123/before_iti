{
 "cells": [
  {
   "cell_type": "code",
   "execution_count": 1,
   "id": "acf74c7d-5518-419f-8e31-d5028de0e948",
   "metadata": {},
   "outputs": [
    {
     "data": {
      "text/html": [
       "<div>\n",
       "<style scoped>\n",
       "    .dataframe tbody tr th:only-of-type {\n",
       "        vertical-align: middle;\n",
       "    }\n",
       "\n",
       "    .dataframe tbody tr th {\n",
       "        vertical-align: top;\n",
       "    }\n",
       "\n",
       "    .dataframe thead th {\n",
       "        text-align: right;\n",
       "    }\n",
       "</style>\n",
       "<table border=\"1\" class=\"dataframe\">\n",
       "  <thead>\n",
       "    <tr style=\"text-align: right;\">\n",
       "      <th></th>\n",
       "      <th>TweetID</th>\n",
       "      <th>User_ID</th>\n",
       "      <th>Text</th>\n",
       "      <th>Sentiment</th>\n",
       "    </tr>\n",
       "  </thead>\n",
       "  <tbody>\n",
       "    <tr>\n",
       "      <th>0</th>\n",
       "      <td>6.470000e+17</td>\n",
       "      <td>Rionagh</td>\n",
       "      <td>I've had an IPhone for like 3 years and I've n...</td>\n",
       "      <td>negative</td>\n",
       "    </tr>\n",
       "    <tr>\n",
       "      <th>1</th>\n",
       "      <td>6.470000e+17</td>\n",
       "      <td>your highness</td>\n",
       "      <td>I dont need the new iphone but I want it :(</td>\n",
       "      <td>negative</td>\n",
       "    </tr>\n",
       "    <tr>\n",
       "      <th>2</th>\n",
       "      <td>6.470000e+17</td>\n",
       "      <td>Little Liggins</td>\n",
       "      <td>fuck the iPhone 6s cus I'm not getting one :(</td>\n",
       "      <td>negative</td>\n",
       "    </tr>\n",
       "    <tr>\n",
       "      <th>3</th>\n",
       "      <td>6.470000e+17</td>\n",
       "      <td>NaN</td>\n",
       "      <td>Hopefully will be able to get my iPhone 6s tod...</td>\n",
       "      <td>negative</td>\n",
       "    </tr>\n",
       "    <tr>\n",
       "      <th>4</th>\n",
       "      <td>6.470000e+17</td>\n",
       "      <td>Kenny Tosh</td>\n",
       "      <td>@clydesdalebank I've just bought a new iPhone ...</td>\n",
       "      <td>negative</td>\n",
       "    </tr>\n",
       "  </tbody>\n",
       "</table>\n",
       "</div>"
      ],
      "text/plain": [
       "        TweetID         User_ID  \\\n",
       "0  6.470000e+17         Rionagh   \n",
       "1  6.470000e+17   your highness   \n",
       "2  6.470000e+17  Little Liggins   \n",
       "3  6.470000e+17             NaN   \n",
       "4  6.470000e+17      Kenny Tosh   \n",
       "\n",
       "                                                Text Sentiment  \n",
       "0  I've had an IPhone for like 3 years and I've n...  negative  \n",
       "1        I dont need the new iphone but I want it :(  negative  \n",
       "2      fuck the iPhone 6s cus I'm not getting one :(  negative  \n",
       "3  Hopefully will be able to get my iPhone 6s tod...  negative  \n",
       "4  @clydesdalebank I've just bought a new iPhone ...  negative  "
      ]
     },
     "execution_count": 1,
     "metadata": {},
     "output_type": "execute_result"
    }
   ],
   "source": [
    "import pandas as pd\n",
    "df = pd.read_csv('iphone6-negative.csv')\n",
    "df.head()"
   ]
  },
  {
   "cell_type": "code",
   "execution_count": 3,
   "id": "d5c89c93-73c7-448b-906d-0b1cda2f6a51",
   "metadata": {},
   "outputs": [
    {
     "data": {
      "text/plain": [
       "negative    501\n",
       "positive    501\n",
       "Name: Sentiment, dtype: int64"
      ]
     },
     "execution_count": 3,
     "metadata": {},
     "output_type": "execute_result"
    }
   ],
   "source": [
    "df['Sentiment'].value_counts()"
   ]
  },
  {
   "cell_type": "code",
   "execution_count": 4,
   "id": "578af874-8c11-4d28-9a10-081530cedd63",
   "metadata": {},
   "outputs": [
    {
     "data": {
      "text/html": [
       "<div>\n",
       "<style scoped>\n",
       "    .dataframe tbody tr th:only-of-type {\n",
       "        vertical-align: middle;\n",
       "    }\n",
       "\n",
       "    .dataframe tbody tr th {\n",
       "        vertical-align: top;\n",
       "    }\n",
       "\n",
       "    .dataframe thead th {\n",
       "        text-align: right;\n",
       "    }\n",
       "</style>\n",
       "<table border=\"1\" class=\"dataframe\">\n",
       "  <thead>\n",
       "    <tr style=\"text-align: right;\">\n",
       "      <th></th>\n",
       "      <th>Text</th>\n",
       "      <th>Sentiment</th>\n",
       "    </tr>\n",
       "  </thead>\n",
       "  <tbody>\n",
       "    <tr>\n",
       "      <th>0</th>\n",
       "      <td>I've had an IPhone for like 3 years and I've n...</td>\n",
       "      <td>negative</td>\n",
       "    </tr>\n",
       "    <tr>\n",
       "      <th>1</th>\n",
       "      <td>I dont need the new iphone but I want it :(</td>\n",
       "      <td>negative</td>\n",
       "    </tr>\n",
       "    <tr>\n",
       "      <th>2</th>\n",
       "      <td>fuck the iPhone 6s cus I'm not getting one :(</td>\n",
       "      <td>negative</td>\n",
       "    </tr>\n",
       "    <tr>\n",
       "      <th>3</th>\n",
       "      <td>Hopefully will be able to get my iPhone 6s tod...</td>\n",
       "      <td>negative</td>\n",
       "    </tr>\n",
       "    <tr>\n",
       "      <th>4</th>\n",
       "      <td>@clydesdalebank I've just bought a new iPhone ...</td>\n",
       "      <td>negative</td>\n",
       "    </tr>\n",
       "  </tbody>\n",
       "</table>\n",
       "</div>"
      ],
      "text/plain": [
       "                                                Text Sentiment\n",
       "0  I've had an IPhone for like 3 years and I've n...  negative\n",
       "1        I dont need the new iphone but I want it :(  negative\n",
       "2      fuck the iPhone 6s cus I'm not getting one :(  negative\n",
       "3  Hopefully will be able to get my iPhone 6s tod...  negative\n",
       "4  @clydesdalebank I've just bought a new iPhone ...  negative"
      ]
     },
     "execution_count": 4,
     "metadata": {},
     "output_type": "execute_result"
    }
   ],
   "source": [
    "df = df[['Text','Sentiment']]\n",
    "df.head()"
   ]
  },
  {
   "cell_type": "code",
   "execution_count": 5,
   "id": "d5a66af6-b835-4f0c-98db-77b22cff7fdd",
   "metadata": {},
   "outputs": [
    {
     "data": {
      "text/plain": [
       "(1002, 3152)"
      ]
     },
     "execution_count": 5,
     "metadata": {},
     "output_type": "execute_result"
    }
   ],
   "source": [
    "from sklearn.feature_extraction.text import CountVectorizer\n",
    "vectorizer = CountVectorizer()\n",
    "x = vectorizer.fit_transform(df['Text'])\n",
    "x.shape"
   ]
  },
  {
   "cell_type": "code",
   "execution_count": 7,
   "id": "b660a329-4470-4f60-8389-3a340a92e0eb",
   "metadata": {},
   "outputs": [],
   "source": [
    "from sklearn.linear_model import LogisticRegression\n",
    "from sklearn.model_selection import train_test_split\n",
    "def train(x,y):\n",
    "    x_train,x_test,y_train,y_test = train_test_split(x,y,test_size=0.2,random_state=110)\n",
    "    clf = LogisticRegression()\n",
    "    clf.fit(x_train,y_train)\n",
    "    return round(clf.score(x_test,y_test)*100,2)"
   ]
  },
  {
   "cell_type": "code",
   "execution_count": 8,
   "id": "713474e4-8a80-4a4a-bfbd-e652421e68ef",
   "metadata": {},
   "outputs": [
    {
     "data": {
      "text/plain": [
       "89.05"
      ]
     },
     "execution_count": 8,
     "metadata": {},
     "output_type": "execute_result"
    }
   ],
   "source": [
    "train(x,df['Sentiment'])"
   ]
  },
  {
   "cell_type": "markdown",
   "id": "0063987f-c455-45f1-9a1c-efcce76ffda2",
   "metadata": {},
   "source": [
    "## Stopwords removal"
   ]
  },
  {
   "cell_type": "code",
   "execution_count": 14,
   "id": "de57ae34-7351-447e-8669-84f1ee0f3af2",
   "metadata": {},
   "outputs": [],
   "source": [
    "sw = open('sw.txt','r').read().split('\\n') ## \\n --> refer to new line\n",
    "def sw_removal(text): ## text refer to whole sentence\n",
    "    wanted_words = []\n",
    "    for word in text.lower().split():\n",
    "        if word not in sw:\n",
    "            ## wanted word\n",
    "            wanted_words.append(word)\n",
    "    return ' '.join(wanted_words) ## combine list to form sentence"
   ]
  },
  {
   "cell_type": "code",
   "execution_count": 15,
   "id": "37409a4a-807a-49aa-9c0d-f2dc297c3d2c",
   "metadata": {},
   "outputs": [
    {
     "data": {
      "text/plain": [
       "'iphone like 3 years'"
      ]
     },
     "execution_count": 15,
     "metadata": {},
     "output_type": "execute_result"
    }
   ],
   "source": [
    "sw_removal(\"I've had an IPhone for like 3 years and I've\")"
   ]
  },
  {
   "cell_type": "code",
   "execution_count": 17,
   "id": "f01e2d5e-beb8-4f7f-8e81-2144da4c3e89",
   "metadata": {},
   "outputs": [
    {
     "data": {
      "text/html": [
       "<div>\n",
       "<style scoped>\n",
       "    .dataframe tbody tr th:only-of-type {\n",
       "        vertical-align: middle;\n",
       "    }\n",
       "\n",
       "    .dataframe tbody tr th {\n",
       "        vertical-align: top;\n",
       "    }\n",
       "\n",
       "    .dataframe thead th {\n",
       "        text-align: right;\n",
       "    }\n",
       "</style>\n",
       "<table border=\"1\" class=\"dataframe\">\n",
       "  <thead>\n",
       "    <tr style=\"text-align: right;\">\n",
       "      <th></th>\n",
       "      <th>Text</th>\n",
       "      <th>Sentiment</th>\n",
       "      <th>clean_text</th>\n",
       "    </tr>\n",
       "  </thead>\n",
       "  <tbody>\n",
       "    <tr>\n",
       "      <th>0</th>\n",
       "      <td>I've had an IPhone for like 3 years and I've n...</td>\n",
       "      <td>negative</td>\n",
       "      <td>iphone like 3 years never done :( hate ma life</td>\n",
       "    </tr>\n",
       "    <tr>\n",
       "      <th>1</th>\n",
       "      <td>I dont need the new iphone but I want it :(</td>\n",
       "      <td>negative</td>\n",
       "      <td>dont need new iphone want :(</td>\n",
       "    </tr>\n",
       "    <tr>\n",
       "      <th>2</th>\n",
       "      <td>fuck the iPhone 6s cus I'm not getting one :(</td>\n",
       "      <td>negative</td>\n",
       "      <td>fuck iphone 6s cus i'm getting one :(</td>\n",
       "    </tr>\n",
       "    <tr>\n",
       "      <th>3</th>\n",
       "      <td>Hopefully will be able to get my iPhone 6s tod...</td>\n",
       "      <td>negative</td>\n",
       "      <td>hopefully able get iphone 6s today :( plane ge...</td>\n",
       "    </tr>\n",
       "    <tr>\n",
       "      <th>4</th>\n",
       "      <td>@clydesdalebank I've just bought a new iPhone ...</td>\n",
       "      <td>negative</td>\n",
       "      <td>@clydesdalebank bought new iphone can't use ap...</td>\n",
       "    </tr>\n",
       "  </tbody>\n",
       "</table>\n",
       "</div>"
      ],
      "text/plain": [
       "                                                Text Sentiment  \\\n",
       "0  I've had an IPhone for like 3 years and I've n...  negative   \n",
       "1        I dont need the new iphone but I want it :(  negative   \n",
       "2      fuck the iPhone 6s cus I'm not getting one :(  negative   \n",
       "3  Hopefully will be able to get my iPhone 6s tod...  negative   \n",
       "4  @clydesdalebank I've just bought a new iPhone ...  negative   \n",
       "\n",
       "                                          clean_text  \n",
       "0     iphone like 3 years never done :( hate ma life  \n",
       "1                       dont need new iphone want :(  \n",
       "2              fuck iphone 6s cus i'm getting one :(  \n",
       "3  hopefully able get iphone 6s today :( plane ge...  \n",
       "4  @clydesdalebank bought new iphone can't use ap...  "
      ]
     },
     "execution_count": 17,
     "metadata": {},
     "output_type": "execute_result"
    }
   ],
   "source": [
    "df['clean_text'] = df.Text.apply(sw_removal)\n",
    "df.head()"
   ]
  },
  {
   "cell_type": "code",
   "execution_count": 18,
   "id": "44e52cd8-453d-471b-b607-609e939be9c6",
   "metadata": {},
   "outputs": [
    {
     "data": {
      "text/plain": [
       "(1002, 3090)"
      ]
     },
     "execution_count": 18,
     "metadata": {},
     "output_type": "execute_result"
    }
   ],
   "source": [
    "x = vectorizer.fit_transform(df['clean_text'])\n",
    "x.shape"
   ]
  },
  {
   "cell_type": "code",
   "execution_count": 19,
   "id": "88575c10-45a0-40ce-ac3f-7f17532b2aef",
   "metadata": {},
   "outputs": [
    {
     "data": {
      "text/plain": [
       "88.56"
      ]
     },
     "execution_count": 19,
     "metadata": {},
     "output_type": "execute_result"
    }
   ],
   "source": [
    "train(x,df.Sentiment)"
   ]
  },
  {
   "cell_type": "markdown",
   "id": "bfd52010-e7ae-4a5e-8785-07baf906fcee",
   "metadata": {},
   "source": [
    "## Denoise"
   ]
  },
  {
   "cell_type": "code",
   "execution_count": 22,
   "id": "fc2f20e8-78f9-46de-acfd-f8363bfc48ff",
   "metadata": {},
   "outputs": [
    {
     "data": {
      "text/plain": [
       "'I ve had an IPhone for like 3 years and I ve n   '"
      ]
     },
     "execution_count": 22,
     "metadata": {},
     "output_type": "execute_result"
    }
   ],
   "source": [
    "import re\n",
    "re.sub('[^a-zA-Z0-9 ]',' ',\"I've had an IPhone for like 3 years and I've n...\")"
   ]
  },
  {
   "cell_type": "code",
   "execution_count": 28,
   "id": "9581b2c0-e756-465d-9b50-39ab80217662",
   "metadata": {},
   "outputs": [],
   "source": [
    "def denoise(text):\n",
    "    return re.sub('[^a-zA-Z0-9 ]+',' ',text)"
   ]
  },
  {
   "cell_type": "code",
   "execution_count": 29,
   "id": "76b3cdb5-df2d-4c0d-81de-f2b36c31d8c8",
   "metadata": {},
   "outputs": [
    {
     "data": {
      "text/plain": [
       "'I ve had an IPhone for like 3 years and I ve n '"
      ]
     },
     "execution_count": 29,
     "metadata": {},
     "output_type": "execute_result"
    }
   ],
   "source": [
    "denoise(\"I've had an IPhone for like 3 years and I've n...\")"
   ]
  },
  {
   "cell_type": "code",
   "execution_count": 30,
   "id": "6d0e3291-e0d5-4afb-b6a2-6c3fc3da7a75",
   "metadata": {},
   "outputs": [
    {
     "data": {
      "text/html": [
       "<div>\n",
       "<style scoped>\n",
       "    .dataframe tbody tr th:only-of-type {\n",
       "        vertical-align: middle;\n",
       "    }\n",
       "\n",
       "    .dataframe tbody tr th {\n",
       "        vertical-align: top;\n",
       "    }\n",
       "\n",
       "    .dataframe thead th {\n",
       "        text-align: right;\n",
       "    }\n",
       "</style>\n",
       "<table border=\"1\" class=\"dataframe\">\n",
       "  <thead>\n",
       "    <tr style=\"text-align: right;\">\n",
       "      <th></th>\n",
       "      <th>Text</th>\n",
       "      <th>Sentiment</th>\n",
       "      <th>clean_text</th>\n",
       "    </tr>\n",
       "  </thead>\n",
       "  <tbody>\n",
       "    <tr>\n",
       "      <th>0</th>\n",
       "      <td>I've had an IPhone for like 3 years and I've n...</td>\n",
       "      <td>negative</td>\n",
       "      <td>iphone like 3 years never done    hate ma life</td>\n",
       "    </tr>\n",
       "    <tr>\n",
       "      <th>1</th>\n",
       "      <td>I dont need the new iphone but I want it :(</td>\n",
       "      <td>negative</td>\n",
       "      <td>dont need new iphone want</td>\n",
       "    </tr>\n",
       "    <tr>\n",
       "      <th>2</th>\n",
       "      <td>fuck the iPhone 6s cus I'm not getting one :(</td>\n",
       "      <td>negative</td>\n",
       "      <td>fuck iphone 6s cus i m getting one</td>\n",
       "    </tr>\n",
       "    <tr>\n",
       "      <th>3</th>\n",
       "      <td>Hopefully will be able to get my iPhone 6s tod...</td>\n",
       "      <td>negative</td>\n",
       "      <td>hopefully able get iphone 6s today    plane ge...</td>\n",
       "    </tr>\n",
       "    <tr>\n",
       "      <th>4</th>\n",
       "      <td>@clydesdalebank I've just bought a new iPhone ...</td>\n",
       "      <td>negative</td>\n",
       "      <td>clydesdalebank bought new iphone can t use ap...</td>\n",
       "    </tr>\n",
       "  </tbody>\n",
       "</table>\n",
       "</div>"
      ],
      "text/plain": [
       "                                                Text Sentiment  \\\n",
       "0  I've had an IPhone for like 3 years and I've n...  negative   \n",
       "1        I dont need the new iphone but I want it :(  negative   \n",
       "2      fuck the iPhone 6s cus I'm not getting one :(  negative   \n",
       "3  Hopefully will be able to get my iPhone 6s tod...  negative   \n",
       "4  @clydesdalebank I've just bought a new iPhone ...  negative   \n",
       "\n",
       "                                          clean_text  \n",
       "0     iphone like 3 years never done    hate ma life  \n",
       "1                       dont need new iphone want     \n",
       "2              fuck iphone 6s cus i m getting one     \n",
       "3  hopefully able get iphone 6s today    plane ge...  \n",
       "4   clydesdalebank bought new iphone can t use ap...  "
      ]
     },
     "execution_count": 30,
     "metadata": {},
     "output_type": "execute_result"
    }
   ],
   "source": [
    "df['clean_text'] = df.clean_text.apply(denoise)\n",
    "df.head()"
   ]
  },
  {
   "cell_type": "code",
   "execution_count": 31,
   "id": "d5fbf63c-2b0b-44a8-99fd-85e3c53a3621",
   "metadata": {},
   "outputs": [
    {
     "data": {
      "text/plain": [
       "(1002, 3135)"
      ]
     },
     "execution_count": 31,
     "metadata": {},
     "output_type": "execute_result"
    }
   ],
   "source": [
    "x = vectorizer.fit_transform(df['clean_text'])\n",
    "x.shape"
   ]
  },
  {
   "cell_type": "code",
   "execution_count": 32,
   "id": "4533c17f-960f-4efd-81d4-b61d556b0a16",
   "metadata": {},
   "outputs": [
    {
     "data": {
      "text/plain": [
       "(1002, 3089)"
      ]
     },
     "execution_count": 32,
     "metadata": {},
     "output_type": "execute_result"
    }
   ],
   "source": [
    "df['clean_text'] = df.Text.apply(denoise)\n",
    "df['clean_text'] = df.clean_text.apply(sw_removal)\n",
    "x = vectorizer.fit_transform(df['clean_text'])\n",
    "x.shape"
   ]
  },
  {
   "cell_type": "code",
   "execution_count": 33,
   "id": "3527f2ac-bf36-41a6-ae5e-62332ce0e6ab",
   "metadata": {},
   "outputs": [
    {
     "data": {
      "text/plain": [
       "87.56"
      ]
     },
     "execution_count": 33,
     "metadata": {},
     "output_type": "execute_result"
    }
   ],
   "source": [
    "train(x,df.Sentiment)"
   ]
  },
  {
   "cell_type": "markdown",
   "id": "86671a01-76d9-4da3-ab01-63d0001e68fe",
   "metadata": {},
   "source": [
    "## Stemming"
   ]
  },
  {
   "cell_type": "code",
   "execution_count": 34,
   "id": "3c9a18af-665a-4e71-83a5-d322348e743b",
   "metadata": {},
   "outputs": [],
   "source": [
    "## play  playing  played  plays"
   ]
  },
  {
   "cell_type": "code",
   "execution_count": 36,
   "id": "345d0412-b43f-4d85-a0d9-311a0a2372d7",
   "metadata": {},
   "outputs": [
    {
     "name": "stdout",
     "output_type": "stream",
     "text": [
      "Collecting nltk\n",
      "  Downloading nltk-3.6.5-py3-none-any.whl (1.5 MB)\n",
      "\u001b[K     |████████████████████████████████| 1.5 MB 361 kB/s eta 0:00:01\n",
      "\u001b[?25hRequirement already satisfied: click in /home/sayed/.local/lib/python3.8/site-packages (from nltk) (7.1.2)\n",
      "Requirement already satisfied: joblib in /home/sayed/.local/lib/python3.8/site-packages (from nltk) (1.0.1)\n",
      "Collecting regex>=2021.8.3\n",
      "  Downloading regex-2021.10.8-cp38-cp38-manylinux_2_17_x86_64.manylinux2014_x86_64.whl (764 kB)\n",
      "\u001b[K     |████████████████████████████████| 764 kB 285 kB/s eta 0:00:01\n",
      "\u001b[?25hCollecting tqdm\n",
      "  Downloading tqdm-4.62.3-py2.py3-none-any.whl (76 kB)\n",
      "\u001b[K     |████████████████████████████████| 76 kB 142 kB/s eta 0:00:01\n",
      "\u001b[?25hInstalling collected packages: regex, tqdm, nltk\n",
      "  Attempting uninstall: regex\n",
      "    Found existing installation: regex 2021.4.4\n",
      "    Uninstalling regex-2021.4.4:\n",
      "      Successfully uninstalled regex-2021.4.4\n",
      "Successfully installed nltk-3.6.5 regex-2021.10.8 tqdm-4.62.3\n"
     ]
    }
   ],
   "source": [
    "!pip3 install nltk\n",
    "from nltk.stem import PorterStemmer"
   ]
  },
  {
   "cell_type": "code",
   "execution_count": 41,
   "id": "a66df79c-ca5f-492a-b25c-6c717b6a57a2",
   "metadata": {},
   "outputs": [
    {
     "data": {
      "text/plain": [
       "'play'"
      ]
     },
     "execution_count": 41,
     "metadata": {},
     "output_type": "execute_result"
    }
   ],
   "source": [
    "ps = PorterStemmer()\n",
    "ps.stem('playing')"
   ]
  },
  {
   "cell_type": "code",
   "execution_count": 42,
   "id": "d572d1a0-6f40-4d33-a6f7-fedf38dc1810",
   "metadata": {},
   "outputs": [],
   "source": [
    "def stemm(text):\n",
    "    clean_words = []\n",
    "    for word in text.lower().split():\n",
    "        clean_words.append(ps.stem(word))\n",
    "        \n",
    "    return ' '.join(clean_words)"
   ]
  },
  {
   "cell_type": "code",
   "execution_count": 44,
   "id": "8aaef88a-70ca-4495-8525-7f062f01a04c",
   "metadata": {},
   "outputs": [
    {
     "data": {
      "text/plain": [
       "\"fuck the iphon 6s cu i'm not get one :(\""
      ]
     },
     "execution_count": 44,
     "metadata": {},
     "output_type": "execute_result"
    }
   ],
   "source": [
    "stemm(\"fuck the iPhone 6s cus I'm not getting one :(\t\")"
   ]
  },
  {
   "cell_type": "code",
   "execution_count": 45,
   "id": "87dcc677-7d80-414a-ada4-a05112d48eef",
   "metadata": {},
   "outputs": [
    {
     "data": {
      "text/plain": [
       "(1002, 2876)"
      ]
     },
     "execution_count": 45,
     "metadata": {},
     "output_type": "execute_result"
    }
   ],
   "source": [
    "df['clean_text'] = df.Text.apply(denoise)\n",
    "df['clean_text'] = df.clean_text.apply(sw_removal)\n",
    "df['clean_text'] = df.clean_text.apply(stemm)\n",
    "\n",
    "x = vectorizer.fit_transform(df['clean_text'])\n",
    "x.shape"
   ]
  },
  {
   "cell_type": "code",
   "execution_count": 50,
   "id": "9f21a30a-692b-444f-8924-d3ad274e35f6",
   "metadata": {},
   "outputs": [
    {
     "data": {
      "text/plain": [
       "89.05"
      ]
     },
     "execution_count": 50,
     "metadata": {},
     "output_type": "execute_result"
    }
   ],
   "source": [
    "train(x,df.Sentiment)"
   ]
  },
  {
   "cell_type": "code",
   "execution_count": 51,
   "id": "108f8d10-0326-4315-8bd0-ac5704fba1d4",
   "metadata": {},
   "outputs": [
    {
     "data": {
      "text/plain": [
       "46.77"
      ]
     },
     "execution_count": 51,
     "metadata": {},
     "output_type": "execute_result"
    }
   ],
   "source": [
    "train(x[:,1556],df.Sentiment)"
   ]
  },
  {
   "cell_type": "markdown",
   "id": "93a3aac9-843a-4d50-b324-48ce5c9ae86d",
   "metadata": {},
   "source": [
    "# Conclusion"
   ]
  },
  {
   "cell_type": "code",
   "execution_count": 52,
   "id": "bfd00524-7345-4c12-800b-40242db798da",
   "metadata": {},
   "outputs": [
    {
     "data": {
      "text/plain": [
       "89.05"
      ]
     },
     "execution_count": 52,
     "metadata": {},
     "output_type": "execute_result"
    }
   ],
   "source": [
    "df = pd.read_csv('iphone6-negative.csv')\n",
    "df = df[['Text','Sentiment']]\n",
    "\n",
    "\n",
    "sw = open('sw.txt','r').read().split('\\n') ## \\n --> refer to new line\n",
    "def clean(text): ## text refer to whole sentence\n",
    "    text = re.sub('[^a-zA-Z0-9 ]+',' ',text) #denoise\n",
    "    wanted_words = []\n",
    "    for word in text.lower().split():\n",
    "        if word not in sw: #remove sw\n",
    "            ## wanted word\n",
    "            wanted_words.append(ps.stem(word)) #stemming\n",
    "    return ' '.join(wanted_words) ## combine list to form sentence\n",
    "\n",
    "def train(x,y):\n",
    "    x_train,x_test,y_train,y_test = train_test_split(x,y,test_size=0.2,random_state=110)\n",
    "    clf = LogisticRegression()\n",
    "    clf.fit(x_train,y_train)\n",
    "    return round(clf.score(x_test,y_test)*100,2)\n",
    "\n",
    "\n",
    "df['clean_text'] = df.Text.apply(clean)\n",
    "x = vectorizer.fit_transform(df['clean_text'])\n",
    "x.shape\n",
    "\n",
    "train(x,df.Sentiment)"
   ]
  },
  {
   "cell_type": "code",
   "execution_count": null,
   "id": "2e24a7d9-2678-4a36-84d0-dfe5c20cde75",
   "metadata": {},
   "outputs": [],
   "source": []
  }
 ],
 "metadata": {
  "kernelspec": {
   "display_name": "Python 3",
   "language": "python",
   "name": "python3"
  },
  "language_info": {
   "codemirror_mode": {
    "name": "ipython",
    "version": 3
   },
   "file_extension": ".py",
   "mimetype": "text/x-python",
   "name": "python",
   "nbconvert_exporter": "python",
   "pygments_lexer": "ipython3",
   "version": "3.8.5"
  }
 },
 "nbformat": 4,
 "nbformat_minor": 5
}
